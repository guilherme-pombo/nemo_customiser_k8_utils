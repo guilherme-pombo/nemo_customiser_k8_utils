{
 "cells": [
  {
   "cell_type": "raw",
   "id": "e702b7b0",
   "metadata": {},
   "source": [
    "\n",
    "export LOCAL_NIM_CACHE=~/.cache/nim\n",
    "mkdir -p \"$LOCAL_NIM_CACHE\"\n",
    "docker run -it --rm \\\n",
    "    --gpus all \\\n",
    "    --shm-size=16GB \\\n",
    "    -e NGC_API_KEY \\\n",
    "    -e NIM_ENABLE_KV_CACHE_REUSE=1\\\n",
    "    -v \"$LOCAL_NIM_CACHE:/opt/nim/.cache\" \\\n",
    "    -u $(id -u) \\\n",
    "    -p 8000:8000 \\\n",
    "    nvcr.io/nim/openai/gpt-oss-20b:latest"
   ]
  },
  {
   "cell_type": "code",
   "execution_count": 1,
   "id": "dc7deda6",
   "metadata": {},
   "outputs": [],
   "source": [
    "!pip install -q langchain\n",
    "!pip install -q langchain-nvidia-ai-endpoints\n",
    "!pip install -q langchain-community langchain-core\n",
    "!pip install -q --upgrade langchain\n",
    "!pip install -q pandas"
   ]
  },
  {
   "cell_type": "code",
   "execution_count": 22,
   "id": "71beec98",
   "metadata": {},
   "outputs": [
    {
     "name": "stderr",
     "output_type": "stream",
     "text": [
      "/tmp/ipykernel_184886/402167311.py:4: DeprecationWarning: The 'max_tokens' parameter is deprecated and will be removed in a future version. Please use 'max_completion_tokens' instead.\n",
      "  llm = ChatNVIDIA(\n"
     ]
    },
    {
     "name": "stdout",
     "output_type": "stream",
     "text": [
      "There once was a chip named GPU,  \n",
      "Whose cores ran in parallel crew.  \n",
      "It crunched data so fast,  \n",
      "From graphics to AI,  \n",
      "Turning science into bright, blazing hue.\n"
     ]
    }
   ],
   "source": [
    "from langchain.schema import SystemMessage, HumanMessage\n",
    "from langchain_nvidia_ai_endpoints import ChatNVIDIA\n",
    "\n",
    "llm = ChatNVIDIA(\n",
    "    model=\"openai/gpt-oss-20b\",\n",
    "    base_url=\"http://localhost:8000/v1\",\n",
    "    max_tokens=2048,\n",
    "    temperature=0.7,\n",
    ")\n",
    "\n",
    "messages = [\n",
    "    # Change this to on if you want to use reasoning\n",
    "    SystemMessage(content=\"detailed thinking off\"),\n",
    "    HumanMessage(content=\"Write a limerick about the wonders of GPU computing.\")\n",
    "]\n",
    "\n",
    "response = llm(messages)\n",
    "print(response.content)"
   ]
  },
  {
   "cell_type": "code",
   "execution_count": 12,
   "id": "ed83e68f",
   "metadata": {},
   "outputs": [
    {
     "name": "stdout",
     "output_type": "stream",
     "text": [
      "The user requests: \"Write a limerick about the wonders of GPU computing.\" We need to respond with a limerick. A limerick is a humorous poem of five lines, with an AABBA rhyme scheme and typically anapestic meter. We can produce a creative limerick about GPU computing. Ensure line breaks and rhyme scheme. Use rhyme pattern: AABB A? Actually typical limerick: lines 1,2,5 rhyme; lines 3,4 rhyme. So we need to produce something like: \"There once was a coder named Sue, ...\"\n",
      "\n",
      "We need to produce a limerick about GPU computing wonders. So mention GPUs, parallelism, speed, crunching, etc. So produce a limerick with witty humor maybe. Ensure it's well-structured. We'll do it: 5 lines, with rhyme. Use humor. Something like:\n",
      "\n",
      "\"There once was a coder named Lou,\n",
      "Who found GPUs faster than a kangaroo.\n",
      "With threads all aligned,\n",
      "It left circuits behind,\n",
      "Now his models compute in a jiffy, too!\"\n",
      "\n",
      "But need to rhyme lines 1,2,5: maybe \"Lou\", \"kangaroo\", \"jiffy\" no. Let's craft properly:\n",
      "\n",
      "Line 1: \"There once was a coder named Lou\" (A)\n",
      "Line 2: \"Who found GPUs faster than a kangaroo\" (A) but \"Lou\" and \"kangaroo\" don't rhyme. So maybe \"Lou\" and \"kangaroo\" no. Use \"Lou\" and \"kangaroo\" not rhyme. Let's change: \"There once was a coder named Lou\" (A) then \"Who found GPUs faster than a blue\" (A) no. Actually we need \"A\" lines rhyme: 1,2,5. So we need same rhyme for 1,2,5. Let's choose \"tune\" or \"moon\" or \"soon\". Let's pick \"soon\". Lines 1,2,5 rhyme with \"soon\". So:\n",
      "\n",
      "Line 1: \"There once was a coder named June\" (A)\n",
      "Line 2: \"Whose GPU speed made all others swoon\" (A)\n",
      "Line 3: \"With cores that ran in a row\" (B)\n",
      "Line 4: \"They'd compute data in a flow\" (B)\n",
      "Line 5: \"And his models ran faster than the moon\" (A)\n",
      "\n",
      "Check rhyme: June, swoon, moon. June and swoon don't rhyme exactly but close. Maybe \"June\" and \"swoon\" not perfect but okay. We might use \"moon\" for all. So lines: \"coder named June\" \"GPU speed made all others swoon\" \"moon\" not rhyme. Let's pick \"tune\" maybe. Let's choose \"June\" and \"tune\" and \"moon\" no.\n",
      "\n",
      "Better choose \"tune\". Lines 1,2,5 rhyme with \"tune\". So:\n",
      "\n",
      "Line 1: \"There once was a coder named June\" (A)\n",
      "Line 2: \"Whose GPUs tuned more than a drum\" (A) no \"tune\" and \"drum\" no. Let's think.\n",
      "\n",
      "Better choose \"view\" maybe.\n",
      "\n",
      "Alternatively use \"GPU\" as rhyme maybe \"you\". Lines 1,2,5 end with \"you\". For example:\n",
      "\n",
      "Line 1: \"There once was a coder named Lou\" (A)\n",
      "Line 2: \"Whose GPU speed made him say 'you'\"? No.\n",
      "\n",
      "Better to choose a rhyme like \"compute.\" \"Compute\" maybe not good.\n",
      "\n",
      "Let's get a better scheme: We can use \"GPU\" as rhyme: lines 1,2,5 end with \"GPU\". But we can't have a word \"GPU\" repeated. Might be okay.\n",
      "\n",
      "Let's craft:\n",
      "\n",
      "Line 1: \"There once was a coder, Kai, who knew\" (A)\n",
      "Line 2: \"The power of GPUs that could compute\" (A) \"compute\" not same.\n",
      "\n",
      "Let's choose \"compute\" for lines 1 and 2 and 5. lines 1,2,5 ends with \"compute\". That might be fine. Example:\n",
      "\n",
      "Line 1: \"There once was a coder who loved to compute\" (A)\n",
      "Line 2: \"He found GPUs faster than any compute\" (A) but \"compute\" repeated.\n",
      "\n",
      "Maybe better to choose \"compute\" for lines 1,2,5. But 2 must rhyme with 1: compute compute. It's okay but could be considered a bit too repetitive.\n",
      "\n",
      "Alternatively choose \"sight\" as rhyme: lines 1,2,5 end with \"sight\". Let's try:\n",
      "\n",
      "Line 1: \"There once was a coder who saw the light\" (A)\n",
      "Line 2: \"That GPU speed gave him a bright sight\" (A)\n",
      "Line\n"
     ]
    }
   ],
   "source": [
    "print(response.additional_kwargs['reasoning_content'])  # if reasoning was enabled"
   ]
  },
  {
   "cell_type": "code",
   "execution_count": 3,
   "id": "189c831d",
   "metadata": {},
   "outputs": [],
   "source": [
    "event_types_mapping = {\"analyst rating\": 0, \"price targets\": 1,\n",
    "                       \"earnings\": 2, \"labour related\": 3, \"mergers and acquisitions\": 4, \"dividends\": 5,\n",
    "                       \"regulatory\": 6, \"stock price movement\": 7, \"credit ratings\": 8, \"products-services\": 9,\n",
    "                       \"product approval\": 10, \"guidance\": 11, \"other\": 12\n",
    "                      }"
   ]
  },
  {
   "cell_type": "code",
   "execution_count": 4,
   "id": "df6587ce",
   "metadata": {},
   "outputs": [],
   "source": [
    "prompt = \"\"\"\n",
    "You are a helpful AI assistant that analyses financial news headlines and identifies what event type is described.\n",
    "You will classify event types into one of the following categories (in square brackets)\n",
    "\n",
    "- [Analyst Rating]: An entity such as a bank, asset manager, etc. gives a classification/rating/downgrade/upgrade/opinion to an asset.\n",
    "                    If there is no specified analyst and company given, it's not Analyst Rating and should be classified as OTHER.\n",
    "- [Price Targets]: A mention of a price target (PT) is given by an entity such as bank, asset manager, etc.\n",
    "                   This takes priority over any other class, so if a price target is present use this class!\n",
    "- [Earnings]: Reports of quarterly, monthly, etc. concrete values of revenue, ESP, etc. Percentage fluctations.\n",
    "              Expected values are not Earnings and should be Guidance instead!\n",
    "- [Labour Issues]: Mentions of layoffs, union action, strikes, rising cost of labour, bonuses for execs, etc. Important personal change, e.g. CEO, CFO, VPs, etc.\n",
    "- [Mergers and Acquisitions]: Whenever merging or acquisition of entities, not just companies, is mentioned.\n",
    "                              Things like partnerships do not belong to this class! Takes priority over other classes.\n",
    "- [Dividends]: Mentions of dividend performance, dividend per share, decisions not to issue dividends, etc.\n",
    "- [Regulatory]: Mentions corporate position focused on environmental affairs, government regulation, international treaties, geopolitics, debt repayment, licenses, patents, etc.\n",
    "                Any executive decisions taken by the government are Regulatory. Takes priority over other classes.\n",
    "- [Stock price movement]: Includes pricing of public offerings, daily, monthly and yearly movements, highs and lows, options trade and alerts, etc.\n",
    "                          Only relevant when a specific entity/industry or set of entities/industries mentioned.\n",
    "                          Quantities such as sales, are not stock price movements. Stock splits do not count as stock movements.\n",
    "                          Takes priority over Earnings, Stock Price Movement, Credit Ratings\n",
    "- [Credit Ratings]: Adjustments of company's borrowing capacity, changes in debt values, changes in ratings, etc.\n",
    "- [Products-Services]: Mentions of a company's particular product, forward-looking product directions, disruption, government and private contracts, etc.\n",
    "                       Any sort of delay regarding a product roll-out, etc.\n",
    "- [Product Approval]: Mentions FDA approvals, environmental approvals, acceptance for review. Any time an entity approves the rollout of a corporations product.\n",
    "- [Guidance]: Forward looking statements issued by the company's themselves regarding Revenue, EPS, potential sales going up/down, number of contracts, etc.\n",
    "              Similar talk to earnings but about projections rather than realised.\n",
    "              \n",
    "If the headline doesn't match any of the classes, classify it as OTHER.\n",
    "ATTENTION:\n",
    "  - Only assign a category if the headline meets all the criteria listed for that category. Otherwise use OTHER\n",
    "  - Encourage precise matching rather than assigning categories based on partial or superficial similarities\n",
    "  - OTHER is the default category when in doubt\n",
    "  - If there are no specific companies mentioned, use OTHER\n",
    "\n",
    "A few examples:\n",
    "\n",
    "1. Cornerstone OnDemand Higher as Barclays Upgraded to Overweight -> [Analyst Rating]\n",
    "2. HC Wainwright & Co. Maintains Buy on Balchem, Lowers Price Target to $104 -> [Price Targets]\n",
    "3. Sina Reports Q4 Adj. EPS $0.24 vs $0.18 Est., Sales $211.1M vs $207.6M Est.; Sees FY15 Sales $800M-$900M vs $884.6M Est. -> [Earnings]\n",
    "4. Delta To Buy Out Employees, Offer Early Retirement (DAL) -> [Labour Issues]\n",
    "5. Constant Contact Announces Deal to Be Purchased by Endurance Int'l at $32/Share -> [Mergers and Acquisitions]\n",
    "6. Ameriprise Financial Announces 12% Qtr. Dividend Increase to $0.58/Share -> [Dividends]\n",
    "7. Ultratech Achieves ISO 9001 and 14001 Certification for Singapore Operations and Recertification for U.S. Facility  -> [Regulatory]\n",
    "8. Mid-Afternoon Market Update: Dow Up Over 200 Points; Lakeland Industries Shares Spike Higher -> [Stock price movement]\n",
    "9. Moody's Affirms Ratings on Nokia; Outlook Revised from Negative to Developing -> [Credit Ratings]\n",
    "10. NOVAVAX Awarded HHS-BARDA Contract Valued at up to $179 Million  -> [Products-Services]\n",
    "11. Sanofi's Genzyme Announces Lemtrada Resubmission Accepted for Review by FDA  -> [Product Approval]\n",
    "12. Dot Hill Systems Announces Re-alignment of Software Development Initiatives; Sees Q4 EPS of $(0.02)-(0.03) vs $0.03-(0.03) Prior  -> [Guidance]\n",
    "13. Kopin Chairman Fan Buys 116,400 Shares @$2.83/Share -Form 4 -> [OTHER]\n",
    "\n",
    "Given the following headline:\n",
    "\n",
    "### START HEADLINE ###\n",
    "\n",
    "{headline}\n",
    "\n",
    "### END HEADLINE ###\n",
    "\n",
    "What event type best classifies it? Answer only with your predicted class and give it inside double square brackets, like [[class]]\n",
    "\"\"\""
   ]
  },
  {
   "cell_type": "code",
   "execution_count": 5,
   "id": "95a4652a",
   "metadata": {},
   "outputs": [
    {
     "data": {
      "text/plain": [
       "Counter({'Analyst Rating': 96,\n",
       "         'OTHER': 93,\n",
       "         'Mergers and Acquisitions': 88,\n",
       "         'Labour Issues': 88,\n",
       "         'Regulatory': 85,\n",
       "         'Guidance': 83,\n",
       "         'Stock price movement': 76,\n",
       "         'Earnings': 75,\n",
       "         'Product Approval': 72,\n",
       "         'Dividends': 71,\n",
       "         'Price Targets': 66,\n",
       "         'Credit Ratings': 61,\n",
       "         'Products-Services': 49,\n",
       "         'Management changes': 22})"
      ]
     },
     "execution_count": 5,
     "metadata": {},
     "output_type": "execute_result"
    }
   ],
   "source": [
    "import pickle\n",
    "from collections import Counter\n",
    "\n",
    "\n",
    "with open('/home/shadeform/nemo_customiser_k8_utils/manually_labelled_testset.pkl', 'rb') as f:\n",
    "    test_labels = pickle.load(f)\n",
    "\n",
    "Counter(list(test_labels.values()))"
   ]
  },
  {
   "cell_type": "code",
   "execution_count": 6,
   "id": "06d34d14",
   "metadata": {},
   "outputs": [],
   "source": [
    "import nest_asyncio\n",
    "nest_asyncio.apply()"
   ]
  },
  {
   "cell_type": "code",
   "execution_count": 44,
   "id": "85ae2c72",
   "metadata": {},
   "outputs": [
    {
     "name": "stdout",
     "output_type": "stream",
     "text": [
      "Completed 200/1025 tasks.\n",
      "Completed 400/1025 tasks.\n",
      "Completed 600/1025 tasks.\n",
      "Completed 800/1025 tasks.\n",
      "Completed 1000/1025 tasks.\n"
     ]
    }
   ],
   "source": [
    "import asyncio\n",
    "import threading\n",
    "\n",
    "\n",
    "completed_tasks = 0  # Variable to track completed tasks\n",
    "texts = [text for text in test_labels]\n",
    "total_tasks = len(texts)\n",
    "lock = asyncio.Lock()  # To protect shared variables during concurrent access\n",
    "predictions = {}\n",
    "\n",
    "\n",
    "def run(text):\n",
    "    response = llm.invoke(prompt.format(headline=text))\n",
    "    return response.additional_kwargs['reasoning_content']\n",
    "\n",
    "\n",
    "def save_item(item_to_save, file_name):\n",
    "    with open(file_name, 'wb') as f:\n",
    "        pickle.dump(item_to_save, f)\n",
    "        \n",
    "\n",
    "async def run_with_timeout(text, semaphore):\n",
    "    global completed_tasks\n",
    "    attempts = 0\n",
    "    while True:\n",
    "        attempts += 1\n",
    "        try:\n",
    "            async with semaphore:\n",
    "                # Run the synchronous `run` function in a thread with a timeout\n",
    "                result = await asyncio.wait_for(asyncio.to_thread(run, text), timeout=30)\n",
    "            predictions[text] = result\n",
    "            async with lock:\n",
    "                completed_tasks += 1\n",
    "                if completed_tasks % 200 == 0:\n",
    "                    print(f\"Completed {completed_tasks}/{total_tasks} tasks.\")\n",
    "            break  # Exit loop on success\n",
    "        except asyncio.TimeoutError:\n",
    "            print(f\"Task for '{text}' timed out. Retrying (attempt {attempts})...\")\n",
    "            continue\n",
    "        except Exception as e:\n",
    "            # Handle other exceptions if necessary\n",
    "            print(f\"Task for '{text}' failed with exception {e}. Retrying (attempt {attempts})...\")\n",
    "            continue\n",
    "\n",
    "async def main():\n",
    "    semaphore = asyncio.Semaphore(5)\n",
    "    tasks = [asyncio.create_task(run_with_timeout(text, semaphore)) for text in texts]\n",
    "    await asyncio.gather(*tasks)\n",
    "\n",
    "asyncio.run(main())"
   ]
  },
  {
   "cell_type": "code",
   "execution_count": 45,
   "id": "fd6e3b39",
   "metadata": {},
   "outputs": [
    {
     "name": "stdout",
     "output_type": "stream",
     "text": [
      "\n",
      "Total predictions: 1025\n",
      "Successful extractions: 1025\n",
      "Failed extractions: 0\n"
     ]
    }
   ],
   "source": [
    "import re\n",
    "\n",
    "def extract_classification(text):\n",
    "    \"\"\"Extract the classification from text between [[ ]]\"\"\"\n",
    "    if not text:\n",
    "        return None\n",
    "    pattern = r'\\[\\[(.*?)\\]\\]'\n",
    "    match = re.search(pattern, text)\n",
    "    if match:\n",
    "        return match.group(1).strip()\n",
    "    return None\n",
    "\n",
    "# Extract classifications from predictions\n",
    "extracted_predictions = {}\n",
    "y_pred = []\n",
    "y_true = []\n",
    "for headline, response_text in predictions.items():\n",
    "    classification = extract_classification(response_text)\n",
    "    if classification is None:\n",
    "        classification = \"Unknown\"\n",
    "    extracted_predictions[headline] = classification\n",
    "    y_pred.append(classification)\n",
    "    y_true.append(test_labels[headline])\n",
    "\n",
    "\n",
    "\n",
    "# Show some statistics\n",
    "total_predictions = len(extracted_predictions)\n",
    "successful_extractions = sum(1 for v in extracted_predictions.values() if v is not None)\n",
    "print(f\"\\nTotal predictions: {total_predictions}\")\n",
    "print(f\"Successful extractions: {successful_extractions}\")\n",
    "print(f\"Failed extractions: {total_predictions - successful_extractions}\")"
   ]
  },
  {
   "cell_type": "code",
   "execution_count": 46,
   "id": "fbfd864c",
   "metadata": {},
   "outputs": [
    {
     "data": {
      "text/plain": [
       "np.float64(0.791219512195122)"
      ]
     },
     "execution_count": 46,
     "metadata": {},
     "output_type": "execute_result"
    }
   ],
   "source": [
    "import numpy as np\n",
    "\n",
    "np.mean(np.array(y_true) == np.array(y_pred))"
   ]
  },
  {
   "cell_type": "code",
   "execution_count": 47,
   "id": "4a24fde9",
   "metadata": {},
   "outputs": [
    {
     "data": {
      "text/plain": [
       "0.6674324156937987"
      ]
     },
     "execution_count": 47,
     "metadata": {},
     "output_type": "execute_result"
    }
   ],
   "source": [
    "from sklearn.metrics import f1_score\n",
    "\n",
    "# Should be 0.914 for straight classification\n",
    "f1 = f1_score(y_true, y_pred, average='macro')\n",
    "f1"
   ]
  },
  {
   "cell_type": "code",
   "execution_count": 48,
   "id": "f3d7c5af",
   "metadata": {},
   "outputs": [
    {
     "name": "stdout",
     "output_type": "stream",
     "text": [
      "analyst rating\n",
      "0.8865979381443299\n",
      "price targets\n",
      "0.95\n",
      "earnings\n",
      "0.9635036496350365\n",
      "labour related\n",
      "0.8811188811188811\n",
      "mergers and acquisitions\n",
      "0.8947368421052632\n",
      "dividends\n",
      "0.6875\n",
      "regulatory\n",
      "0.0\n",
      "stock price movement\n",
      "0.8823529411764706\n",
      "credit ratings\n",
      "0.4774774774774775\n",
      "products-services\n",
      "1.0\n",
      "product approval\n",
      "0.819672131147541\n",
      "guidance\n",
      "0.7843137254901961\n",
      "other\n",
      "0.7058823529411765\n"
     ]
    }
   ],
   "source": [
    "f1 = f1_score(y_true, y_pred, average=None)\n",
    "\n",
    "for idx, k in enumerate(event_types_mapping):\n",
    "    print(k)\n",
    "    print(f1[idx])"
   ]
  },
  {
   "cell_type": "code",
   "execution_count": 49,
   "id": "6eb773ab",
   "metadata": {},
   "outputs": [
    {
     "name": "stdout",
     "output_type": "stream",
     "text": [
      "                          precision    recall  f1-score   support\n",
      "\n",
      "          Analyst Rating       0.88      0.90      0.89        96\n",
      "          Credit Ratings       0.97      0.93      0.95        61\n",
      "               Dividends       1.00      0.93      0.96        71\n",
      "                Earnings       0.93      0.84      0.88        75\n",
      "                Guidance       0.99      0.82      0.89        83\n",
      "           Labour Issues       0.76      0.62      0.69        88\n",
      "      Management changes       0.00      0.00      0.00        22\n",
      "Mergers and Acquisitions       0.91      0.85      0.88        88\n",
      "                   OTHER       0.41      0.57      0.48        93\n",
      "           Price Targets       1.00      1.00      1.00        66\n",
      "        Product Approval       1.00      0.69      0.82        72\n",
      "       Products-Services       0.75      0.82      0.78        49\n",
      "              Regulatory       0.65      0.78      0.71        85\n",
      "    Stock price movement       0.65      0.87      0.75        76\n",
      "                 Unknown       0.00      0.00      0.00         0\n",
      "                   class       0.00      0.00      0.00         0\n",
      "\n",
      "                accuracy                           0.79      1025\n",
      "               macro avg       0.68      0.66      0.67      1025\n",
      "            weighted avg       0.81      0.79      0.79      1025\n",
      "\n"
     ]
    },
    {
     "name": "stderr",
     "output_type": "stream",
     "text": [
      "/home/shadeform/venv/lib/python3.10/site-packages/sklearn/metrics/_classification.py:1731: UndefinedMetricWarning: Precision is ill-defined and being set to 0.0 in labels with no predicted samples. Use `zero_division` parameter to control this behavior.\n",
      "  _warn_prf(average, modifier, f\"{metric.capitalize()} is\", result.shape[0])\n",
      "/home/shadeform/venv/lib/python3.10/site-packages/sklearn/metrics/_classification.py:1731: UndefinedMetricWarning: Recall is ill-defined and being set to 0.0 in labels with no true samples. Use `zero_division` parameter to control this behavior.\n",
      "  _warn_prf(average, modifier, f\"{metric.capitalize()} is\", result.shape[0])\n",
      "/home/shadeform/venv/lib/python3.10/site-packages/sklearn/metrics/_classification.py:1731: UndefinedMetricWarning: Precision is ill-defined and being set to 0.0 in labels with no predicted samples. Use `zero_division` parameter to control this behavior.\n",
      "  _warn_prf(average, modifier, f\"{metric.capitalize()} is\", result.shape[0])\n",
      "/home/shadeform/venv/lib/python3.10/site-packages/sklearn/metrics/_classification.py:1731: UndefinedMetricWarning: Recall is ill-defined and being set to 0.0 in labels with no true samples. Use `zero_division` parameter to control this behavior.\n",
      "  _warn_prf(average, modifier, f\"{metric.capitalize()} is\", result.shape[0])\n",
      "/home/shadeform/venv/lib/python3.10/site-packages/sklearn/metrics/_classification.py:1731: UndefinedMetricWarning: Precision is ill-defined and being set to 0.0 in labels with no predicted samples. Use `zero_division` parameter to control this behavior.\n",
      "  _warn_prf(average, modifier, f\"{metric.capitalize()} is\", result.shape[0])\n",
      "/home/shadeform/venv/lib/python3.10/site-packages/sklearn/metrics/_classification.py:1731: UndefinedMetricWarning: Recall is ill-defined and being set to 0.0 in labels with no true samples. Use `zero_division` parameter to control this behavior.\n",
      "  _warn_prf(average, modifier, f\"{metric.capitalize()} is\", result.shape[0])\n"
     ]
    }
   ],
   "source": [
    "from sklearn.metrics import classification_report\n",
    "print(classification_report(y_true, y_pred))"
   ]
  },
  {
   "cell_type": "code",
   "execution_count": null,
   "id": "c7205e63",
   "metadata": {},
   "outputs": [],
   "source": []
  }
 ],
 "metadata": {
  "kernelspec": {
   "display_name": "venv",
   "language": "python",
   "name": "python3"
  },
  "language_info": {
   "codemirror_mode": {
    "name": "ipython",
    "version": 3
   },
   "file_extension": ".py",
   "mimetype": "text/x-python",
   "name": "python",
   "nbconvert_exporter": "python",
   "pygments_lexer": "ipython3",
   "version": "3.10.12"
  }
 },
 "nbformat": 4,
 "nbformat_minor": 5
}
