{
 "cells": [
  {
   "cell_type": "markdown",
   "id": "72aa7057-d982-4c04-9656-064babc195f8",
   "metadata": {},
   "source": [
    "# Process dataset"
   ]
  },
  {
   "cell_type": "code",
   "execution_count": 2,
   "id": "6ac14bbc-8189-4e5c-a035-01fff43172b7",
   "metadata": {},
   "outputs": [
    {
     "name": "stderr",
     "output_type": "stream",
     "text": [
      "/home/ubuntu/venv/lib/python3.10/site-packages/tqdm/auto.py:21: TqdmWarning: IProgress not found. Please update jupyter and ipywidgets. See https://ipywidgets.readthedocs.io/en/stable/user_install.html\n",
      "  from .autonotebook import tqdm as notebook_tqdm\n"
     ]
    }
   ],
   "source": [
    "import os\n",
    "import json\n",
    "import datasets"
   ]
  },
  {
   "cell_type": "code",
   "execution_count": 4,
   "id": "c5f05c09",
   "metadata": {},
   "outputs": [],
   "source": [
    "data_path = '/home/ubuntu/nemo_customiser_k8_utils/data'\n",
    "dataset = datasets.load_dataset(data_path)"
   ]
  },
  {
   "cell_type": "code",
   "execution_count": 5,
   "id": "c85a09c8",
   "metadata": {},
   "outputs": [],
   "source": [
    "# Assuming 'label' is the column you want to stratify by\n",
    "stratify_column_name = \"label\"\n",
    "\n",
    "# Cast the column to ClassLabel\n",
    "dataset = dataset.class_encode_column(stratify_column_name)"
   ]
  },
  {
   "cell_type": "code",
   "execution_count": 6,
   "id": "d9cd1511",
   "metadata": {},
   "outputs": [],
   "source": [
    "DATASET_PROMPT_FORMAT = \"\"\"\n",
    "You are a helpful AI assistant that analyses financial news headlines and identifies what event type is described.\n",
    "You will classify event types into one of the following categories (in square brackets)\n",
    "\n",
    "- [Analyst Rating]: An entity such as a bank, asset manager, etc. gives a classification/rating/downgrade/upgrade/opinion to an asset.\n",
    "                    If there is no specified analyst and company given, it's not Analyst Rating and should be classified as OTHER.\n",
    "- [Price Targets]: A mention of a price target (PT) is given by an entity such as bank, asset manager, etc.\n",
    "                   This takes priority over any other class, so if a price target is present use this class!\n",
    "- [Earnings]: Reports of quarterly, monthly, etc. concrete values of revenue, ESP, etc. Percentage fluctations.\n",
    "              Expected values are not Earnings and should be Guidance instead!\n",
    "- [Labour Issues]: Mentions of layoffs, union action, strikes, rising cost of labour, bonuses for execs, etc. Important personal change, e.g. CEO, CFO, VPs, etc.\n",
    "- [Mergers and Acquisitions]: Whenever merging or acquisition of entities, not just companies, is mentioned.\n",
    "                              Things like partnerships do not belong to this class! Takes priority over other classes.\n",
    "- [Dividends]: Mentions of dividend performance, dividend per share, decisions not to issue dividends, etc.\n",
    "- [Regulatory]: Mentions corporate position focused on environmental affairs, government regulation, international treaties, geopolitics, debt repayment, licenses, patents, etc.\n",
    "                Any executive decisions taken by the government are Regulatory. Takes priority over other classes.\n",
    "- [Stock price movement]: Includes pricing of public offerings, daily, monthly and yearly movements, highs and lows, options trade and alerts, etc.\n",
    "                          Only relevant when a specific entity/industry or set of entities/industries mentioned.\n",
    "                          Quantities such as sales, are not stock price movements. Stock splits do not count as stock movements.\n",
    "                          Takes priority over Earnings, Stock Price Movement, Credit Ratings\n",
    "- [Credit Ratings]: Adjustments of company's borrowing capacity, changes in debt values, changes in ratings, etc.\n",
    "- [Products-Services]: Mentions of a company's particular product, forward-looking product directions, disruption, government and private contracts, etc.\n",
    "                       Any sort of delay regarding a product roll-out, etc.\n",
    "- [Product Approval]: Mentions FDA approvals, environmental approvals, acceptance for review. Any time an entity approves the rollout of a corporations product.\n",
    "- [Guidance]: Forward looking statements issued by the company's themselves regarding Revenue, EPS, potential sales going up/down, number of contracts, etc.\n",
    "              Similar talk to earnings but about projections rather than realised.\n",
    "              \n",
    "If the headline doesn't match any of the classes, classify it as OTHER.\n",
    "If there are no events at all described in the headline, classify it as NO EVENT.\n",
    "ATTENTION:\n",
    "  - Only assign a category if the headline meets all the criteria listed for that category. Otherwise use OTHER\n",
    "  - Encourage precise matching rather than assigning categories based on partial or superficial similarities\n",
    "  - OTHER is the default category for when there is an event but there is doubt about which type\n",
    "  - If there are no events mentioned, use NO EVENT\n",
    "\n",
    "A few examples:\n",
    "\n",
    "1. Cornerstone OnDemand Higher as Barclays Upgraded to Overweight -> [Analyst Rating]\n",
    "2. HC Wainwright & Co. Maintains Buy on Balchem, Lowers Price Target to $104 -> [Price Targets]\n",
    "3. Sina Reports Q4 Adj. EPS $0.24 vs $0.18 Est., Sales $211.1M vs $207.6M Est.; Sees FY15 Sales $800M-$900M vs $884.6M Est. -> [Earnings]\n",
    "4. Delta To Buy Out Employees, Offer Early Retirement (DAL) -> [Labour Issues]\n",
    "5. Constant Contact Announces Deal to Be Purchased by Endurance Int'l at $32/Share -> [Mergers and Acquisitions]\n",
    "6. Ameriprise Financial Announces 12% Qtr. Dividend Increase to $0.58/Share -> [Dividends]\n",
    "7. Ultratech Achieves ISO 9001 and 14001 Certification for Singapore Operations and Recertification for U.S. Facility  -> [Regulatory]\n",
    "8. Mid-Afternoon Market Update: Dow Up Over 200 Points; Lakeland Industries Shares Spike Higher -> [Stock price movement]\n",
    "9. Moody's Affirms Ratings on Nokia; Outlook Revised from Negative to Developing -> [Credit Ratings]\n",
    "10. NOVAVAX Awarded HHS-BARDA Contract Valued at up to $179 Million  -> [Products-Services]\n",
    "11. Sanofi's Genzyme Announces Lemtrada Resubmission Accepted for Review by FDA  -> [Product Approval]\n",
    "12. Dot Hill Systems Announces Re-alignment of Software Development Initiatives; Sees Q4 EPS of $(0.02)-(0.03) vs $0.03-(0.03) Prior  -> [Guidance]\n",
    "13. Kopin Chairman Fan Buys 116,400 Shares @$2.83/Share -Form 4 -> [OTHER]\n",
    "\n",
    "Given the following headline:\n",
    "\n",
    "### START HEADLINE ###\n",
    "\n",
    "{headline}\n",
    "\n",
    "### END HEADLINE ###\n",
    "\n",
    "What event type best classifies it? Answer only with your predicted class and give it inside double square brackets, like [[class]]\n",
    "\"\"\""
   ]
  },
  {
   "cell_type": "code",
   "execution_count": 7,
   "id": "5f6dcbdf",
   "metadata": {},
   "outputs": [
    {
     "name": "stdout",
     "output_type": "stream",
     "text": [
      "len training:  122808\n",
      "len validation:  15351\n",
      "len test:  15352\n"
     ]
    }
   ],
   "source": [
    "train_ratio = 0.8\n",
    "val_ratio = 0.1\n",
    "seed = 42\n",
    "test_ratio = 1 - train_ratio - val_ratio\n",
    "save_splits = {}\n",
    "dataset = dataset.get('train')\n",
    "# Get the class labels\n",
    "class_labels = dataset.features['label']\n",
    "split_dataset = dataset.train_test_split(test_size=val_ratio + test_ratio, seed=seed, stratify_by_column='label')\n",
    "split_dataset2 = split_dataset['test'].train_test_split(\n",
    "    test_size=test_ratio / (val_ratio + test_ratio), seed=seed,stratify_by_column='label')\n",
    "save_splits['training'] = split_dataset['train']\n",
    "save_splits['validation'] = split_dataset2['train']\n",
    "save_splits['test'] = split_dataset2['test']\n",
    "\n",
    "print(\"len training: \", len(save_splits['training']))\n",
    "print(\"len validation: \", len(save_splits['validation']))\n",
    "print(\"len test: \", len(save_splits['test']))"
   ]
  },
  {
   "cell_type": "code",
   "execution_count": 8,
   "id": "a816d987",
   "metadata": {},
   "outputs": [
    {
     "name": "stdout",
     "output_type": "stream",
     "text": [
      "Processing training to data/training/training_0.jsonl\n",
      "Creating new file: data/training/training_1.jsonl\n",
      "Creating new file: data/training/training_2.jsonl\n",
      "Creating new file: data/training/training_3.jsonl\n",
      "Creating new file: data/training/training_4.jsonl\n",
      "Creating new file: data/training/training_5.jsonl\n",
      "Creating new file: data/training/training_6.jsonl\n",
      "Creating new file: data/training/training_7.jsonl\n",
      "Creating new file: data/training/training_8.jsonl\n",
      "Creating new file: data/training/training_9.jsonl\n",
      "Creating new file: data/training/training_10.jsonl\n",
      "Creating new file: data/training/training_11.jsonl\n",
      "Creating new file: data/training/training_12.jsonl\n",
      "training split saved with 13 file(s)\n",
      "Processing validation to data/validation/validation_0.jsonl\n",
      "Creating new file: data/validation/validation_1.jsonl\n",
      "validation split saved with 2 file(s)\n",
      "Processing test to data/test/test_0.jsonl\n",
      "Creating new file: data/test/test_1.jsonl\n",
      "test split saved with 2 file(s)\n"
     ]
    }
   ],
   "source": [
    "dataset_root = \"data\"\n",
    "os.makedirs(dataset_root, exist_ok=True)\n",
    "\n",
    "for split_name, dataset in save_splits.items():\n",
    "    split_root = os.path.join(dataset_root, split_name)\n",
    "    os.makedirs(split_root, exist_ok=True)\n",
    "    \n",
    "    file_counter = 0\n",
    "    line_counter = 0\n",
    "    max_lines_per_file = 10000\n",
    "    \n",
    "    output_file = os.path.join(split_root, f\"{split_name}_{file_counter}.jsonl\")\n",
    "    print(f\"Processing {split_name} to {output_file}\")\n",
    "    \n",
    "    f = open(output_file, \"w\", encoding=\"utf-8\")\n",
    "    \n",
    "    for example in dataset:\n",
    "        if line_counter >= max_lines_per_file:\n",
    "            f.close()\n",
    "            file_counter += 1\n",
    "            line_counter = 0\n",
    "            output_file = os.path.join(split_root, f\"{split_name}_{file_counter}.jsonl\")\n",
    "            print(f\"Creating new file: {output_file}\")\n",
    "            f = open(output_file, \"w\", encoding=\"utf-8\")\n",
    "        \n",
    "        if DATASET_PROMPT_FORMAT != \"\":\n",
    "            _input = DATASET_PROMPT_FORMAT.format(headline=example[\"headline\"])\n",
    "            _output = class_labels.int2str(example[\"label\"])\n",
    "        f.write(json.dumps({\"prompt\": _input, \"completion\": _output}) + \"\\n\")\n",
    "        line_counter += 1\n",
    "    \n",
    "    f.close()\n",
    "    print(f\"{split_name} split saved with {file_counter + 1} file(s)\")"
   ]
  },
  {
   "cell_type": "code",
   "execution_count": 13,
   "id": "d3c0f34b",
   "metadata": {},
   "outputs": [
    {
     "data": {
      "text/plain": [
       "<Figure size 3000x1500 with 0 Axes>"
      ]
     },
     "metadata": {},
     "output_type": "display_data"
    },
    {
     "data": {
      "image/png": "[encoded data removed]",
      "text/plain": [
       "<Figure size 640x480 with 1 Axes>"
      ]
     },
     "metadata": {},
     "output_type": "display_data"
    }
   ],
   "source": [
    "import matplotlib.pyplot as plt\n",
    "import pandas as pd\n",
    "\n",
    "# Prepare data for all splits\n",
    "distribution_data = {}\n",
    "for split, data in save_splits.items():\n",
    "    df = data.to_pandas()\n",
    "    df['label'] = df['label'].apply(lambda x: class_labels.int2str(x))\n",
    "    df_distribution = (df.groupby('label').size()/df.shape[0])*100\n",
    "    distribution_data[split] = df_distribution\n",
    "\n",
    "# Convert to DataFrame for easier plotting\n",
    "combined_df = pd.DataFrame(distribution_data).fillna(0)\n",
    "\n",
    "# Create the plot\n",
    "plt.figure(figsize=(30, 15))\n",
    "combined_df.plot(kind='bar', \n",
    "                 title='Label Distribution Across All Splits',\n",
    "                 xlabel='Labels', \n",
    "                 ylabel='Percentage (%)',\n",
    "                 rot=90,\n",
    "                 color=['skyblue', 'lightcoral', 'lightgreen'])\n",
    "\n",
    "plt.legend(title='Dataset Split')\n",
    "plt.tight_layout()\n",
    "plt.show()"
   ]
  },
  {
   "cell_type": "markdown",
   "id": "f5fdd200-d9b0-4540-bf79-c6b82f13d443",
   "metadata": {},
   "source": [
    "# Add the datasets to NeMo Microservices"
   ]
  },
  {
   "cell_type": "code",
   "execution_count": 9,
   "id": "b733c528",
   "metadata": {},
   "outputs": [],
   "source": [
    "import os\n",
    "import json\n",
    "import random\n",
    "import requests\n",
    "from openai import OpenAI\n",
    "from nemo_microservices import NeMoMicroservices"
   ]
  },
  {
   "cell_type": "code",
   "execution_count": 10,
   "id": "43ca85c4-7f07-402c-baf6-9e9baf21b01e",
   "metadata": {},
   "outputs": [],
   "source": [
    "from config import *\n",
    "\n",
    "# Initialize NeMo Microservices SDK client\n",
    "nemo_client = NeMoMicroservices(\n",
    "    base_url=NEMO_URL,\n",
    "    inference_base_url=NIM_URL,\n",
    ")"
   ]
  },
  {
   "cell_type": "code",
   "execution_count": 11,
   "id": "c497ae41-0881-419f-8314-d86a18079d68",
   "metadata": {},
   "outputs": [
    {
     "data": {
      "text/plain": [
       "SyncDefaultPagination[Project](object='list', data=[], sort='created_at', pagination=DefaultPaginationPagination(current_page_size=0, page=1, page_size=10, total_pages=0, total_results=0))"
      ]
     },
     "execution_count": 11,
     "metadata": {},
     "output_type": "execute_result"
    }
   ],
   "source": [
    "nemo_client.projects.list()"
   ]
  },
  {
   "cell_type": "code",
   "execution_count": 24,
   "id": "d5e6d08f-fc9d-4f84-a94b-3580dd33dc14",
   "metadata": {},
   "outputs": [
    {
     "name": "stdout",
     "output_type": "stream",
     "text": [
      "Data Store endpoint: http://data-store.test\n",
      "Entity Store, Customizer, Evaluator endpoint: http://nemo.test\n",
      "NIM endpoint: http://nim.test\n",
      "Namespace: lora-tutorial-ns\n",
      "Base Model for Customization: meta/llama-3.1-8b-instruct@v1.0.0+A100\n"
     ]
    }
   ],
   "source": [
    "print(f\"Data Store endpoint: {NDS_URL}\")\n",
    "print(f\"Entity Store, Customizer, Evaluator endpoint: {NEMO_URL}\")\n",
    "print(f\"NIM endpoint: {NIM_URL}\")\n",
    "print(f\"Namespace: {NMS_NAMESPACE}\")\n",
    "print(f\"Base Model for Customization: {BASE_MODEL}@{BASE_MODEL_VERSION}\")"
   ]
  },
  {
   "cell_type": "code",
   "execution_count": 14,
   "id": "930911c9-807e-45e5-a2b9-127c64885d33",
   "metadata": {},
   "outputs": [],
   "source": [
    "# Path where data preparation notebook saved finetuning and evaluation data\n",
    "DATA_ROOT = os.path.join(os.getcwd(), \"data\")\n",
    "TRAINING_DATA_ROOT = os.path.join(DATA_ROOT, \"training\")\n",
    "VALIDATION_DATA_ROOT = os.path.join(DATA_ROOT, \"validation\")\n",
    "TEST_DATA_ROOT = os.path.join(DATA_ROOT, \"test\")\n",
    "\n",
    "# Sanity checks\n",
    "train_fp = f\"{TRAINING_DATA_ROOT}/training_0.jsonl\"\n",
    "assert os.path.exists(train_fp), f\"The training data at '{train_fp}' does not exist. Please ensure that the data was prepared successfully.\"\n",
    "\n",
    "val_fp = f\"{VALIDATION_DATA_ROOT}/validation_0.jsonl\"\n",
    "assert os.path.exists(val_fp), f\"The validation data at '{val_fp}' does not exist. Please ensure that the data was prepared successfully.\"\n",
    "\n",
    "test_fp = f\"{TEST_DATA_ROOT}/test_0.jsonl\"\n",
    "assert os.path.exists(test_fp), f\"The test data at '{test_fp}' does not exist. Please ensure that the data was prepared successfully.\""
   ]
  },
  {
   "cell_type": "code",
   "execution_count": 15,
   "id": "c3ece399-22f1-409c-86b5-a5cb4511d632",
   "metadata": {},
   "outputs": [],
   "source": [
    "def create_namespaces(nemo_client, ds_host, namespace):\n",
    "    # Create namespace in Entity Store\n",
    "    try:\n",
    "        namespace_obj = nemo_client.namespaces.create(id=namespace)\n",
    "        print(f\"Created namespace in Entity Store: {namespace_obj.id}\")\n",
    "    except Exception as e:\n",
    "        # Handle if namespace already exists\n",
    "        if \"409\" in str(e) or \"422\" in str(e):\n",
    "            print(f\"Namespace {namespace} already exists in Entity Store\")\n",
    "        else:\n",
    "            raise e\n",
    "\n",
    "    # Create namespace in Data Store (still using requests as SDK doesn't cover Data Store)\n",
    "    nds_url = f\"{ds_host}/v1/datastore/namespaces\"\n",
    "    resp = requests.post(nds_url, data={\"namespace\": namespace})\n",
    "    assert resp.status_code in (200, 201, 409, 422), \\\n",
    "        f\"Unexpected response from Data Store during namespace creation: {resp.status_code}\"\n",
    "    print(f\"Data Store namespace creation response: {resp}\")"
   ]
  },
  {
   "cell_type": "code",
   "execution_count": 16,
   "id": "9abce0ef-2f86-41f3-9eb1-1d643464fcb1",
   "metadata": {},
   "outputs": [
    {
     "name": "stdout",
     "output_type": "stream",
     "text": [
      "Namespace lora-tutorial-ns already exists in Entity Store\n",
      "Data Store namespace creation response: <Response [409]>\n"
     ]
    }
   ],
   "source": [
    "create_namespaces(nemo_client=nemo_client, ds_host=NDS_URL, namespace=NMS_NAMESPACE)"
   ]
  },
  {
   "cell_type": "code",
   "execution_count": 17,
   "id": "05ed21f5-357e-4381-b728-aaa81bab1d3a",
   "metadata": {},
   "outputs": [
    {
     "name": "stdout",
     "output_type": "stream",
     "text": [
      "Data Store - Status Code: 201\n",
      "Response JSON: {'namespace': 'lora-tutorial-ns', 'created_at': '2025-09-03T01:14:51Z', 'updated_at': '2025-09-03T01:21:58Z'}\n",
      "\n",
      "Entity Store - Namespace: lora-tutorial-ns\n",
      "Created at: 2025-09-03 01:14:51.439444\n",
      "Description: None\n",
      "Project: None\n"
     ]
    }
   ],
   "source": [
    "# Verify Namespace in Data Store (using requests as SDK doesn't cover Data Store)\n",
    "response = requests.get(f\"{NDS_URL}/v1/datastore/namespaces/{NMS_NAMESPACE}\")\n",
    "print(f\"Data Store - Status Code: {response.status_code}\\nResponse JSON: {response.json()}\")\n",
    "\n",
    "# Verify Namespace in Entity Store\n",
    "namespace_obj = nemo_client.namespaces.retrieve(namespace_id=NMS_NAMESPACE)\n",
    "print(f\"\\nEntity Store - Namespace: {namespace_obj.id}\")\n",
    "print(f\"Created at: {namespace_obj.created_at}\")\n",
    "print(f\"Description: {namespace_obj.description}\")\n",
    "print(f\"Project: {namespace_obj.project}\")"
   ]
  },
  {
   "cell_type": "code",
   "execution_count": 20,
   "id": "fe89af3e-810d-4ce4-9604-278f30dbcacf",
   "metadata": {},
   "outputs": [],
   "source": [
    "repo_id = f\"{NMS_NAMESPACE}/{DATASET_NAME}\""
   ]
  },
  {
   "cell_type": "code",
   "execution_count": 21,
   "id": "6c40d4de-06ff-4aa4-98c6-b52fe221b2c8",
   "metadata": {},
   "outputs": [
    {
     "ename": "HfHubHTTPError",
     "evalue": "409 Client Error: Conflict for url: http://data-store.test/v1/hf/api/repos/create\n\nYou already created this repo",
     "output_type": "error",
     "traceback": [
      "\u001b[0;31m---------------------------------------------------------------------------\u001b[0m",
      "\u001b[0;31mHTTPError\u001b[0m                                 Traceback (most recent call last)",
      "File \u001b[0;32m~/venv/lib/python3.10/site-packages/huggingface_hub/utils/_http.py:409\u001b[0m, in \u001b[0;36mhf_raise_for_status\u001b[0;34m(response, endpoint_name)\u001b[0m\n\u001b[1;32m    408\u001b[0m \u001b[38;5;28;01mtry\u001b[39;00m:\n\u001b[0;32m--> 409\u001b[0m     \u001b[43mresponse\u001b[49m\u001b[38;5;241;43m.\u001b[39;49m\u001b[43mraise_for_status\u001b[49m\u001b[43m(\u001b[49m\u001b[43m)\u001b[49m\n\u001b[1;32m    410\u001b[0m \u001b[38;5;28;01mexcept\u001b[39;00m HTTPError \u001b[38;5;28;01mas\u001b[39;00m e:\n",
      "File \u001b[0;32m~/venv/lib/python3.10/site-packages/requests/models.py:1026\u001b[0m, in \u001b[0;36mResponse.raise_for_status\u001b[0;34m(self)\u001b[0m\n\u001b[1;32m   1025\u001b[0m \u001b[38;5;28;01mif\u001b[39;00m http_error_msg:\n\u001b[0;32m-> 1026\u001b[0m     \u001b[38;5;28;01mraise\u001b[39;00m HTTPError(http_error_msg, response\u001b[38;5;241m=\u001b[39m\u001b[38;5;28mself\u001b[39m)\n",
      "\u001b[0;31mHTTPError\u001b[0m: 409 Client Error: Conflict for url: http://data-store.test/v1/hf/api/repos/create",
      "\nThe above exception was the direct cause of the following exception:\n",
      "\u001b[0;31mHfHubHTTPError\u001b[0m                            Traceback (most recent call last)",
      "Cell \u001b[0;32mIn[21], line 6\u001b[0m\n\u001b[1;32m      3\u001b[0m hf_api \u001b[38;5;241m=\u001b[39m HfApi(endpoint\u001b[38;5;241m=\u001b[39m\u001b[38;5;124mf\u001b[39m\u001b[38;5;124m\"\u001b[39m\u001b[38;5;132;01m{\u001b[39;00mNDS_URL\u001b[38;5;132;01m}\u001b[39;00m\u001b[38;5;124m/v1/hf\u001b[39m\u001b[38;5;124m\"\u001b[39m, token\u001b[38;5;241m=\u001b[39m\u001b[38;5;124m\"\u001b[39m\u001b[38;5;124m\"\u001b[39m)\n\u001b[1;32m      5\u001b[0m \u001b[38;5;66;03m# Create repo\u001b[39;00m\n\u001b[0;32m----> 6\u001b[0m \u001b[43mhf_api\u001b[49m\u001b[38;5;241;43m.\u001b[39;49m\u001b[43mcreate_repo\u001b[49m\u001b[43m(\u001b[49m\n\u001b[1;32m      7\u001b[0m \u001b[43m    \u001b[49m\u001b[43mrepo_id\u001b[49m\u001b[38;5;241;43m=\u001b[39;49m\u001b[43mrepo_id\u001b[49m\u001b[43m,\u001b[49m\n\u001b[1;32m      8\u001b[0m \u001b[43m    \u001b[49m\u001b[43mrepo_type\u001b[49m\u001b[38;5;241;43m=\u001b[39;49m\u001b[38;5;124;43m'\u001b[39;49m\u001b[38;5;124;43mdataset\u001b[39;49m\u001b[38;5;124;43m'\u001b[39;49m\u001b[43m,\u001b[49m\n\u001b[1;32m      9\u001b[0m \u001b[43m)\u001b[49m\n",
      "File \u001b[0;32m~/venv/lib/python3.10/site-packages/huggingface_hub/utils/_validators.py:114\u001b[0m, in \u001b[0;36mvalidate_hf_hub_args.<locals>._inner_fn\u001b[0;34m(*args, **kwargs)\u001b[0m\n\u001b[1;32m    111\u001b[0m \u001b[38;5;28;01mif\u001b[39;00m check_use_auth_token:\n\u001b[1;32m    112\u001b[0m     kwargs \u001b[38;5;241m=\u001b[39m smoothly_deprecate_use_auth_token(fn_name\u001b[38;5;241m=\u001b[39mfn\u001b[38;5;241m.\u001b[39m\u001b[38;5;18m__name__\u001b[39m, has_token\u001b[38;5;241m=\u001b[39mhas_token, kwargs\u001b[38;5;241m=\u001b[39mkwargs)\n\u001b[0;32m--> 114\u001b[0m \u001b[38;5;28;01mreturn\u001b[39;00m \u001b[43mfn\u001b[49m\u001b[43m(\u001b[49m\u001b[38;5;241;43m*\u001b[39;49m\u001b[43margs\u001b[49m\u001b[43m,\u001b[49m\u001b[43m \u001b[49m\u001b[38;5;241;43m*\u001b[39;49m\u001b[38;5;241;43m*\u001b[39;49m\u001b[43mkwargs\u001b[49m\u001b[43m)\u001b[49m\n",
      "File \u001b[0;32m~/venv/lib/python3.10/site-packages/huggingface_hub/hf_api.py:3755\u001b[0m, in \u001b[0;36mHfApi.create_repo\u001b[0;34m(self, repo_id, token, private, repo_type, exist_ok, resource_group_id, space_sdk, space_hardware, space_storage, space_sleep_time, space_secrets, space_variables)\u001b[0m\n\u001b[1;32m   3752\u001b[0m     \u001b[38;5;28;01mbreak\u001b[39;00m\n\u001b[1;32m   3754\u001b[0m \u001b[38;5;28;01mtry\u001b[39;00m:\n\u001b[0;32m-> 3755\u001b[0m     \u001b[43mhf_raise_for_status\u001b[49m\u001b[43m(\u001b[49m\u001b[43mr\u001b[49m\u001b[43m)\u001b[49m\n\u001b[1;32m   3756\u001b[0m \u001b[38;5;28;01mexcept\u001b[39;00m HTTPError \u001b[38;5;28;01mas\u001b[39;00m err:\n\u001b[1;32m   3757\u001b[0m     \u001b[38;5;28;01mif\u001b[39;00m exist_ok \u001b[38;5;129;01mand\u001b[39;00m err\u001b[38;5;241m.\u001b[39mresponse\u001b[38;5;241m.\u001b[39mstatus_code \u001b[38;5;241m==\u001b[39m \u001b[38;5;241m409\u001b[39m:\n\u001b[1;32m   3758\u001b[0m         \u001b[38;5;66;03m# Repo already exists and `exist_ok=True`\u001b[39;00m\n",
      "File \u001b[0;32m~/venv/lib/python3.10/site-packages/huggingface_hub/utils/_http.py:482\u001b[0m, in \u001b[0;36mhf_raise_for_status\u001b[0;34m(response, endpoint_name)\u001b[0m\n\u001b[1;32m    478\u001b[0m     \u001b[38;5;28;01mraise\u001b[39;00m _format(HfHubHTTPError, message, response) \u001b[38;5;28;01mfrom\u001b[39;00m\u001b[38;5;250m \u001b[39m\u001b[38;5;21;01me\u001b[39;00m\n\u001b[1;32m    480\u001b[0m \u001b[38;5;66;03m# Convert `HTTPError` into a `HfHubHTTPError` to display request information\u001b[39;00m\n\u001b[1;32m    481\u001b[0m \u001b[38;5;66;03m# as well (request id and/or server error message)\u001b[39;00m\n\u001b[0;32m--> 482\u001b[0m \u001b[38;5;28;01mraise\u001b[39;00m _format(HfHubHTTPError, \u001b[38;5;28mstr\u001b[39m(e), response) \u001b[38;5;28;01mfrom\u001b[39;00m\u001b[38;5;250m \u001b[39m\u001b[38;5;21;01me\u001b[39;00m\n",
      "\u001b[0;31mHfHubHTTPError\u001b[0m: 409 Client Error: Conflict for url: http://data-store.test/v1/hf/api/repos/create\n\nYou already created this repo"
     ]
    }
   ],
   "source": [
    "from huggingface_hub import HfApi\n",
    "\n",
    "hf_api = HfApi(endpoint=f\"{NDS_URL}/v1/hf\", token=\"\")\n",
    "\n",
    "# Create repo\n",
    "hf_api.create_repo(\n",
    "    repo_id=repo_id,\n",
    "    repo_type='dataset',\n",
    ")"
   ]
  },
  {
   "cell_type": "code",
   "execution_count": 23,
   "id": "febb08bd-3dc0-4655-a310-f0b46e61e0d8",
   "metadata": {},
   "outputs": [
    {
     "name": "stderr",
     "output_type": "stream",
     "text": [
      "training_0.jsonl:   0%|          | 0.00/52.5M [00:00<?, ?B/s]\n",
      "\n",
      "\n",
      "\u001b[A\u001b[A\u001b[A\n",
      "\n",
      "\u001b[A\u001b[A\n",
      "\u001b[A\n",
      "\n",
      "\n",
      "\n",
      "training_0.jsonl:  21%|██▏       | 11.3M/52.5M [00:00<00:00, 113MB/s]\n",
      "\n",
      "\u001b[A\u001b[A\n",
      "training_12.jsonl: 100%|██████████| 14.7M/14.7M [00:00<00:00, 116MB/s]\n",
      "\n",
      "\n",
      "\n",
      "\n",
      "training_0.jsonl:  47%|████▋     | 24.8M/52.5M [00:00<00:00, 126MB/s]\n",
      "\n",
      "\u001b[A\u001b[A\n",
      "\u001b[A\n",
      "\n",
      "\n",
      "\n",
      "training_0.jsonl:  72%|███████▏  | 37.6M/52.5M [00:00<00:00, 127MB/s]\n",
      "\n",
      "\u001b[A\u001b[A\n",
      "\u001b[A\n",
      "\n",
      "\n",
      "\n",
      "training_10.jsonl: 100%|██████████| 52.5M/52.5M [00:00<00:00, 114MB/s]\n",
      "training_11.jsonl: 100%|██████████| 52.5M/52.5M [00:00<00:00, 113MB/s]\n",
      "\n",
      "training_1.jsonl: 100%|██████████| 52.5M/52.5M [00:00<00:00, 109MB/s]\n",
      "training_0.jsonl: 100%|██████████| 52.5M/52.5M [00:00<00:00, 108MB/s]\n",
      "training_4.jsonl:   0%|          | 0.00/52.5M [00:00<?, ?B/s]\n",
      "\n",
      "\n",
      "\u001b[A\u001b[A\u001b[A\n",
      "\n",
      "training_2.jsonl: 100%|██████████| 52.5M/52.5M [00:00<00:00, 145MB/s]\n",
      "\n",
      "\n",
      "\n",
      "\n",
      "\u001b[A\u001b[A\u001b[A\u001b[A\n",
      "training_4.jsonl:  21%|██        | 11.0M/52.5M [00:00<00:00, 110MB/s]\n",
      "\n",
      "\u001b[A\u001b[A\n",
      "\n",
      "\n",
      "\n",
      "\u001b[A\u001b[A\u001b[A\u001b[A\n",
      "training_4.jsonl:  46%|████▌     | 24.2M/52.5M [00:00<00:00, 123MB/s]\n",
      "\n",
      "\u001b[A\u001b[A\n",
      "\n",
      "\n",
      "\n",
      "\u001b[A\u001b[A\u001b[A\u001b[A\n",
      "training_4.jsonl:  73%|███████▎  | 38.2M/52.5M [00:00<00:00, 130MB/s]\n",
      "\n",
      "\u001b[A\u001b[A\n",
      "\n",
      "\n",
      "\n",
      "\u001b[A\u001b[A\u001b[A\u001b[A\n",
      "training_4.jsonl: 100%|██████████| 52.5M/52.5M [00:00<00:00, 135MB/s]\n",
      "\n",
      "training_6.jsonl: 100%|██████████| 52.5M/52.5M [00:00<00:00, 109MB/s]\n",
      "training_5.jsonl: 100%|██████████| 52.5M/52.5M [00:00<00:00, 108MB/s]\n",
      "training_7.jsonl: 100%|██████████| 52.5M/52.5M [00:00<00:00, 113MB/s]\n",
      "training_4.jsonl: 100%|██████████| 52.5M/52.5M [00:00<00:00, 105MB/s]\n",
      "training_3.jsonl: 100%|██████████| 52.5M/52.5M [00:00<00:00, 102MB/s]\n",
      "\n",
      "\n",
      "\n",
      "training_8.jsonl: 100%|██████████| 52.5M/52.5M [00:00<00:00, 299MB/s]\n",
      "training_9.jsonl: 100%|██████████| 52.5M/52.5M [00:00<00:00, 301MB/s]\n",
      "\n",
      "\n",
      "\n",
      "Upload 13 LFS files: 100%|██████████| 13/13 [00:01<00:00, 11.17it/s]\n",
      "validation_1.jsonl:   0%|          | 0.00/28.1M [00:00<?, ?B/s]\n",
      "validation_1.jsonl: 100%|██████████| 28.1M/28.1M [00:00<00:00, 295MB/s]\n",
      "validation_0.jsonl: 100%|██████████| 52.5M/52.5M [00:00<00:00, 358MB/s]\n",
      "Upload 2 LFS files: 100%|██████████| 2/2 [00:00<00:00, 13.51it/s]\n",
      "test_0.jsonl:   0%|          | 0.00/52.5M [00:00<?, ?B/s]\n",
      "test_1.jsonl: 100%|██████████| 28.1M/28.1M [00:00<00:00, 300MB/s]\n",
      "test_0.jsonl: 100%|██████████| 52.5M/52.5M [00:00<00:00, 348MB/s]\n",
      "\n",
      "Upload 2 LFS files: 100%|██████████| 2/2 [00:00<00:00, 13.35it/s]\n"
     ]
    },
    {
     "data": {
      "text/plain": [
       "CommitInfo(commit_url='', commit_message='Upload folder using huggingface_hub', commit_description='', oid='829012eda9a3cc3f69e23e0336b9f40cb03c9e39', pr_url=None, repo_url=RepoUrl('', endpoint='https://huggingface.co', repo_type='model', repo_id=''), pr_revision=None, pr_num=None)"
      ]
     },
     "execution_count": 23,
     "metadata": {},
     "output_type": "execute_result"
    }
   ],
   "source": [
    "hf_api.upload_folder(folder_path=TRAINING_DATA_ROOT,\n",
    "    path_in_repo=\"training\",\n",
    "    repo_id=repo_id,\n",
    "    repo_type='dataset',\n",
    ")\n",
    "\n",
    "hf_api.upload_folder(folder_path=VALIDATION_DATA_ROOT,\n",
    "    path_in_repo=\"validation\",\n",
    "    repo_id=repo_id,\n",
    "    repo_type='dataset',\n",
    ")\n",
    "\n",
    "hf_api.upload_folder(folder_path=TEST_DATA_ROOT,\n",
    "    path_in_repo=\"testing\",\n",
    "    repo_id=repo_id,\n",
    "    repo_type='dataset',\n",
    ")"
   ]
  },
  {
   "cell_type": "code",
   "execution_count": 24,
   "id": "dba7b6ab",
   "metadata": {},
   "outputs": [
    {
     "data": {
      "text/plain": [
       "DeleteResponse(id='dataset-FwAL34uUjBYYVVxY3jo2nQ', deleted_at=None, message='Resource deleted successfully.')"
      ]
     },
     "execution_count": 24,
     "metadata": {},
     "output_type": "execute_result"
    }
   ],
   "source": [
    "nemo_client.datasets.delete(\n",
    "    namespace=NMS_NAMESPACE,\n",
    "    dataset_name=DATASET_NAME\n",
    ")"
   ]
  },
  {
   "cell_type": "code",
   "execution_count": 25,
   "id": "86110d67-f807-4b05-a81c-c42c0278c746",
   "metadata": {},
   "outputs": [
    {
     "name": "stdout",
     "output_type": "stream",
     "text": [
      "Created dataset: lora-tutorial-ns/news-lora-dataset\n"
     ]
    },
    {
     "data": {
      "text/plain": [
       "Dataset(files_url='hf://datasets/lora-tutorial-ns/news-lora-dataset', id='dataset-VWovNjXX3eNATGoxD6NGR4', created_at=datetime.datetime(2025, 9, 3, 2, 4, 5, 119901), custom_fields={}, description='News Dataset for FSI Blueprint', format=None, hf_endpoint=None, limit=None, name='news-lora-dataset', namespace='lora-tutorial-ns', project='tool_calling', split=None, updated_at=datetime.datetime(2025, 9, 3, 2, 4, 5, 119903))"
      ]
     },
     "execution_count": 25,
     "metadata": {},
     "output_type": "execute_result"
    }
   ],
   "source": [
    " # Create dataset\n",
    "dataset = nemo_client.datasets.create(\n",
    "    name=DATASET_NAME,\n",
    "    namespace=NMS_NAMESPACE,\n",
    "    description=\"News Dataset for FSI Blueprint\",\n",
    "    files_url=f\"hf://datasets/{NMS_NAMESPACE}/{DATASET_NAME}\",\n",
    "    project=\"tool_calling\",\n",
    "    \n",
    ")\n",
    "print(f\"Created dataset: {dataset.namespace}/{dataset.name}\")\n",
    "dataset"
   ]
  },
  {
   "cell_type": "code",
   "execution_count": null,
   "id": "6e53c622-e72b-4b2f-bc7d-7480769a1bf1",
   "metadata": {},
   "outputs": [
    {
     "name": "stdout",
     "output_type": "stream",
     "text": [
      "Files URL: hf://datasets/lora-tutorial-ns/news-lora-dataset\n"
     ]
    },
    {
     "name": "stderr",
     "output_type": "stream",
     "text": [
      "IOStream.flush timed out\n",
      "IOStream.flush timed out\n",
      "IOStream.flush timed out\n",
      "IOStream.flush timed out\n",
      "IOStream.flush timed out\n",
      "IOStream.flush timed out\n",
      "IOStream.flush timed out\n",
      "IOStream.flush timed out\n",
      "IOStream.flush timed out\n"
     ]
    },
    {
     "name": "stdout",
     "output_type": "stream",
     "text": [
      "Files URL: hf://datasets/lora-tutorial-ns/news-lora-dataset\n"
     ]
    }
   ],
   "source": [
    "# Sanity check to validate dataset\n",
    "dataset_obj = nemo_client.datasets.retrieve(namespace=NMS_NAMESPACE, dataset_name=DATASET_NAME)\n",
    "\n",
    "print(\"Files URL:\", dataset_obj.files_url)\n",
    "assert dataset_obj.files_url == f\"hf://datasets/{repo_id}\""
   ]
  },
  {
   "cell_type": "markdown",
   "id": "d0a08939-9b77-4854-91b3-fa7ce884b942",
   "metadata": {},
   "source": [
    "# Optional - Create subsets of train with smaller sizes"
   ]
  },
  {
   "cell_type": "code",
   "execution_count": 26,
   "id": "01ba83fa-1693-48c1-b0af-e4f10085bc5f",
   "metadata": {},
   "outputs": [
    {
     "name": "stdout",
     "output_type": "stream",
     "text": [
      "Reused NeMo Dataset: lora-tutorial-ns/news-lora-dataset-train-5k -> hf://datasets/lora-tutorial-ns/news-lora-dataset-train-5k\n",
      "Reused NeMo Dataset: lora-tutorial-ns/news-lora-dataset-train-10k -> hf://datasets/lora-tutorial-ns/news-lora-dataset-train-10k\n"
     ]
    },
    {
     "name": "stderr",
     "output_type": "stream",
     "text": [
      "training_0.jsonl:   0%|          | 0.00/52.5M [00:00<?, ?B/s]\n",
      "training_1.jsonl: 100%|██████████| 52.5M/52.5M [00:00<00:00, 314MB/s]\n",
      "training_0.jsonl: 100%|██████████| 52.5M/52.5M [00:00<00:00, 304MB/s]\n",
      "\n",
      "Upload 2 LFS files: 100%|██████████| 2/2 [00:00<00:00, 11.64it/s]\n"
     ]
    },
    {
     "name": "stdout",
     "output_type": "stream",
     "text": [
      "Created NeMo Dataset: lora-tutorial-ns/news-lora-dataset-train-20k -> hf://datasets/lora-tutorial-ns/news-lora-dataset-train-20k\n"
     ]
    },
    {
     "name": "stderr",
     "output_type": "stream",
     "text": [
      "training_1.jsonl:   0%|          | 0.00/52.5M [00:00<?, ?B/s]\n",
      "\u001b[A\n",
      "\n",
      "\u001b[A\u001b[A\n",
      "\n",
      "\n",
      "\n",
      "\u001b[A\u001b[A\u001b[A\u001b[A\n",
      "\n",
      "\n",
      "training_1.jsonl:  22%|██▏       | 11.6M/52.5M [00:00<00:00, 116MB/s]\n",
      "\u001b[A\n",
      "\n",
      "\u001b[A\u001b[A\n",
      "\n",
      "\n",
      "\n",
      "training_1.jsonl:  47%|████▋     | 24.9M/52.5M [00:00<00:00, 126MB/s]\n",
      "\u001b[A\n",
      "\n",
      "\n",
      "\n",
      "\u001b[A\u001b[A\u001b[A\u001b[A\n",
      "\n",
      "training_1.jsonl:  75%|███████▍  | 39.3M/52.5M [00:00<00:00, 134MB/s]\n",
      "\u001b[A\n",
      "\n",
      "\n",
      "\n",
      "\u001b[A\u001b[A\u001b[A\u001b[A\n",
      "\n",
      "training_1.jsonl: 100%|██████████| 52.5M/52.5M [00:00<00:00, 109MB/s]\n",
      "training_2.jsonl: 100%|██████████| 52.5M/52.5M [00:00<00:00, 109MB/s]\n",
      "training_3.jsonl: 100%|██████████| 52.5M/52.5M [00:00<00:00, 110MB/s]\n",
      "training_0.jsonl: 100%|██████████| 52.5M/52.5M [00:00<00:00, 110MB/s]\n",
      "training_4.jsonl: 100%|██████████| 52.5M/52.5M [00:00<00:00, 111MB/s]\n",
      "\n",
      "\n",
      "\n",
      "Upload 5 LFS files: 100%|██████████| 5/5 [00:00<00:00, 10.51it/s]\n"
     ]
    },
    {
     "name": "stdout",
     "output_type": "stream",
     "text": [
      "Created NeMo Dataset: lora-tutorial-ns/news-lora-dataset-train-50k -> hf://datasets/lora-tutorial-ns/news-lora-dataset-train-50k\n"
     ]
    },
    {
     "name": "stderr",
     "output_type": "stream",
     "text": [
      "training_0.jsonl:   0%|          | 0.00/52.5M [00:00<?, ?B/s]\n",
      "\u001b[A\n",
      "\n",
      "\n",
      "\n",
      "\u001b[A\u001b[A\u001b[A\u001b[A\n",
      "\n",
      "\n",
      "\u001b[A\u001b[A\u001b[A\n",
      "\n",
      "training_0.jsonl:  22%|██▏       | 11.5M/52.5M [00:00<00:00, 114MB/s]\n",
      "\u001b[A\n",
      "\n",
      "\n",
      "\n",
      "\u001b[A\u001b[A\u001b[A\u001b[A\n",
      "\n",
      "training_0.jsonl:  48%|████▊     | 25.1M/52.5M [00:00<00:00, 127MB/s]\n",
      "\u001b[A\n",
      "\n",
      "\n",
      "\n",
      "\u001b[A\u001b[A\u001b[A\u001b[A\n",
      "\n",
      "training_0.jsonl:  73%|███████▎  | 38.2M/52.5M [00:00<00:00, 129MB/s]\n",
      "\u001b[A\n",
      "\n",
      "\n",
      "\n",
      "\u001b[A\u001b[A\u001b[A\u001b[A\n",
      "\n",
      "training_3.jsonl: 100%|██████████| 52.5M/52.5M [00:00<00:00, 116MB/s]\n",
      "training_2.jsonl: 100%|██████████| 52.5M/52.5M [00:00<00:00, 112MB/s]\n",
      "training_0.jsonl: 100%|██████████| 52.5M/52.5M [00:00<00:00, 111MB/s]\n",
      "training_4.jsonl: 100%|██████████| 52.5M/52.5M [00:00<00:00, 113MB/s]\n",
      "training_1.jsonl: 100%|██████████| 52.5M/52.5M [00:00<00:00, 111MB/s]\n",
      "training_6.jsonl:   0%|          | 0.00/52.5M [00:00<?, ?B/s]\n",
      "\n",
      "\n",
      "\u001b[A\u001b[A\u001b[A\n",
      "\u001b[A\n",
      "\n",
      "\n",
      "\n",
      "\u001b[A\u001b[A\u001b[A\u001b[A\n",
      "\n",
      "training_6.jsonl:  24%|██▍       | 12.6M/52.5M [00:00<00:00, 125MB/s]\n",
      "\u001b[A\n",
      "\n",
      "\n",
      "\n",
      "\u001b[A\u001b[A\u001b[A\u001b[A\n",
      "\n",
      "training_6.jsonl:  51%|█████▏    | 27.0M/52.5M [00:00<00:00, 136MB/s]\n",
      "\u001b[A\n",
      "\n",
      "\u001b[A\u001b[A\n",
      "\n",
      "\n",
      "\n",
      "training_6.jsonl:  77%|███████▋  | 40.6M/52.5M [00:00<00:00, 131MB/s]\n",
      "\u001b[A\n",
      "\n",
      "\u001b[A\u001b[A\n",
      "\n",
      "\n",
      "\n",
      "training_8.jsonl: 100%|██████████| 52.5M/52.5M [00:00<00:00, 115MB/s]\n",
      "training_5.jsonl: 100%|██████████| 52.5M/52.5M [00:00<00:00, 113MB/s]\n",
      "training_6.jsonl: 100%|██████████| 52.5M/52.5M [00:00<00:00, 111MB/s]\n",
      "training_7.jsonl: 100%|██████████| 52.5M/52.5M [00:00<00:00, 113MB/s]\n",
      "\n",
      "\n",
      "\n",
      "training_9.jsonl: 100%|██████████| 52.5M/52.5M [00:00<00:00, 113MB/s]\n",
      "Upload 10 LFS files: 100%|██████████| 10/10 [00:00<00:00, 10.52it/s]\n"
     ]
    },
    {
     "name": "stdout",
     "output_type": "stream",
     "text": [
      "Created NeMo Dataset: lora-tutorial-ns/news-lora-dataset-train-100k -> hf://datasets/lora-tutorial-ns/news-lora-dataset-train-100k\n",
      "Created NeMo Dataset: lora-tutorial-ns/news-lora-dataset-train-all -> hf://datasets/lora-tutorial-ns/news-lora-dataset-train-all\n",
      "\n",
      "Summary (subset tag -> NeMo Dataset name -> files_url):\n",
      "- 5k: news-lora-dataset-train-5k -> hf://datasets/lora-tutorial-ns/news-lora-dataset-train-5k\n",
      "- 10k: news-lora-dataset-train-10k -> hf://datasets/lora-tutorial-ns/news-lora-dataset-train-10k\n",
      "- 20k: news-lora-dataset-train-20k -> hf://datasets/lora-tutorial-ns/news-lora-dataset-train-20k\n",
      "- 50k: news-lora-dataset-train-50k -> hf://datasets/lora-tutorial-ns/news-lora-dataset-train-50k\n",
      "- 100k: news-lora-dataset-train-100k -> hf://datasets/lora-tutorial-ns/news-lora-dataset-train-100k\n",
      "- all: news-lora-dataset-train-all -> hf://datasets/lora-tutorial-ns/news-lora-dataset-train-all\n"
     ]
    }
   ],
   "source": [
    "# Create per-subset canonical datasets for NeMo Microservices\n",
    "import os, json\n",
    "from datetime import datetime\n",
    "\n",
    "SUBSET_SIZES = [5_000, 10_000, 20_000, 50_000, 100_000, \"all\"]\n",
    "SEED = 42\n",
    "OUT_DIR = os.path.join(DATA_ROOT, \"subsets\")\n",
    "os.makedirs(OUT_DIR, exist_ok=True)\n",
    "\n",
    "def _write_jsonl(ds, path):\n",
    "    os.makedirs(os.path.dirname(path), exist_ok=True)\n",
    "    with open(path, \"w\", encoding=\"utf-8\") as f:\n",
    "        for ex in ds:\n",
    "            prompt = DATASET_PROMPT_FORMAT.format(headline=ex[\"headline\"]) if DATASET_PROMPT_FORMAT else ex[\"headline\"]\n",
    "            completion = class_labels.int2str(ex[\"label\"])\n",
    "            f.write(json.dumps({\"prompt\": prompt, \"completion\": completion}) + \"\\n\")\n",
    "\n",
    "def _write_jsonl_chunked(ds, output_dir, filename_prefix, max_lines_per_file=10000):\n",
    "    \"\"\"Write dataset to JSONL files with chunking, similar to cell 7\"\"\"\n",
    "    os.makedirs(output_dir, exist_ok=True)\n",
    "    \n",
    "    file_counter = 0\n",
    "    line_counter = 0\n",
    "    f = None\n",
    "    \n",
    "    for ex in ds:\n",
    "        if f is None or line_counter >= max_lines_per_file:\n",
    "            if f is not None:\n",
    "                f.close()\n",
    "            output_file = os.path.join(output_dir, f\"{filename_prefix}_{file_counter}.jsonl\")\n",
    "            f = open(output_file, \"w\", encoding=\"utf-8\")\n",
    "            file_counter += 1\n",
    "            line_counter = 0\n",
    "        \n",
    "        prompt = DATASET_PROMPT_FORMAT.format(headline=ex[\"headline\"]) if DATASET_PROMPT_FORMAT else ex[\"headline\"]\n",
    "        completion = class_labels.int2str(ex[\"label\"])\n",
    "        f.write(json.dumps({\"prompt\": prompt, \"completion\": completion}) + \"\\n\")\n",
    "        line_counter += 1\n",
    "    \n",
    "    if f is not None:\n",
    "        f.close()\n",
    "\n",
    "train_full = save_splits[\"training\"]\n",
    "val_src = save_splits[\"validation\"]\n",
    "test_src = save_splits[\"test\"]\n",
    "\n",
    "def _subset_for_size(size):\n",
    "    if size == \"all\" or (isinstance(size, int) and size >= len(train_full)):\n",
    "        return train_full, \"all\", len(train_full)\n",
    "    sub = train_full.train_test_split(train_size=size, seed=SEED, stratify_by_column=\"label\")[\"train\"]\n",
    "    return sub, f\"{size//1000}k\", size\n",
    "\n",
    "created = []\n",
    "for size in SUBSET_SIZES:\n",
    "    sub, tag, n = _subset_for_size(size)\n",
    "\n",
    "    # Local directories for this subset\n",
    "    subset_dir = os.path.join(OUT_DIR, f\"train_{tag}\")\n",
    "    train_dir = os.path.join(subset_dir, \"training\")\n",
    "    val_dir = os.path.join(subset_dir, \"validation\") \n",
    "    test_dir = os.path.join(subset_dir, \"test\")\n",
    "\n",
    "    # Write chunked JSONL files\n",
    "    _write_jsonl_chunked(sub, train_dir, \"training\")\n",
    "    _write_jsonl_chunked(val_src, val_dir, \"validation\")\n",
    "    _write_jsonl_chunked(test_src, test_dir, \"test\")\n",
    "\n",
    "    # HF dataset repo name and NeMo Dataset name per subset\n",
    "    subset_ds_name = f\"{DATASET_NAME}-train-{tag}\"\n",
    "    subset_repo_id = f\"{NMS_NAMESPACE}/{subset_ds_name}\"\n",
    "    files_url = f\"hf://datasets/{subset_repo_id}\"\n",
    "\n",
    "    # Create (or reuse) HF dataset repo and upload folders\n",
    "    try:\n",
    "        hf_api.create_repo(repo_id=subset_repo_id, repo_type=\"dataset\")\n",
    "    except Exception as e:\n",
    "        if \"Repository already exists\" not in str(e):\n",
    "            pass\n",
    "\n",
    "    hf_api.upload_folder(folder_path=train_dir, path_in_repo=\"training\", repo_id=subset_repo_id, repo_type='dataset')\n",
    "    hf_api.upload_folder(folder_path=val_dir, path_in_repo=\"validation\", repo_id=subset_repo_id, repo_type='dataset')\n",
    "    hf_api.upload_folder(folder_path=test_dir, path_in_repo=\"testing\", repo_id=subset_repo_id, repo_type='dataset')\n",
    "\n",
    "    # Create (or reuse) NeMo Dataset pointing to this repo\n",
    "    try:\n",
    "        ds = nemo_client.datasets.create(\n",
    "            name=subset_ds_name,\n",
    "            namespace=NMS_NAMESPACE,\n",
    "            description=f\"{DATASET_NAME} subset {tag} (train={n}) — {datetime.utcnow().isoformat()}Z\",\n",
    "            files_url=files_url,\n",
    "            project=\"tool_calling\",\n",
    "        )\n",
    "        print(f\"Created NeMo Dataset: {ds.namespace}/{ds.name} -> {ds.files_url}\")\n",
    "    except Exception as e:\n",
    "        if \"409\" in str(e) or \"already exists\" in str(e):\n",
    "            ds = nemo_client.datasets.retrieve(namespace=NMS_NAMESPACE, dataset_name=subset_ds_name)\n",
    "            print(f\"Reused NeMo Dataset: {ds.namespace}/{ds.name} -> {ds.files_url}\")\n",
    "        else:\n",
    "            raise\n",
    "\n",
    "    created.append((tag, subset_ds_name, files_url))\n",
    "\n",
    "print(\"\\nSummary (subset tag -> NeMo Dataset name -> files_url):\")\n",
    "for tag, name, url in created:\n",
    "    print(f\"- {tag}: {name} -> {url}\")"
   ]
  },
  {
   "cell_type": "markdown",
   "id": "dd9b1e55-014e-44c2-a98e-9d20fabc464a",
   "metadata": {},
   "source": [
    "# Create a dataset for baseline models\n",
    "\n",
    "For a comparison with base models to be fair, we need to give them a proper prompt describing all the classes"
   ]
  },
  {
   "cell_type": "code",
   "execution_count": 28,
   "id": "99c47647-d08f-49eb-a906-47577bf5bdba",
   "metadata": {},
   "outputs": [],
   "source": [
    "DATASET_PROMPT_FORMAT = \"\"\"\n",
    "You are a helpful AI assistant that analyses financial news headlines and identifies what event type is described.\n",
    "You will classify event types into one of the following categories (in square brackets)\n",
    "\n",
    "- [Analyst Rating]: An entity such as a bank, asset manager, etc. gives a classification/rating/downgrade/upgrade/opinion to an asset.\n",
    "                    If there is no specified analyst and company given, it's not Analyst Rating and should be classified as OTHER.\n",
    "- [Price Targets]: A mention of a price target (PT) is given by an entity such as bank, asset manager, etc.\n",
    "                   This takes priority over any other class, so if a price target is present use this class!\n",
    "- [Earnings]: Reports of quarterly, monthly, etc. concrete values of revenue, ESP, etc. Percentage fluctations.\n",
    "              Expected values are not Earnings and should be Guidance instead!\n",
    "- [Labour Issues]: Mentions of layoffs, union action, strikes, rising cost of labour, bonuses for execs, etc. Important personal change, e.g. CEO, CFO, VPs, etc.\n",
    "- [Mergers and Acquisitions]: Whenever merging or acquisition of entities, not just companies, is mentioned.\n",
    "                              Things like partnerships do not belong to this class! Takes priority over other classes.\n",
    "- [Dividends]: Mentions of dividend performance, dividend per share, decisions not to issue dividends, etc.\n",
    "- [Regulatory]: Mentions corporate position focused on environmental affairs, government regulation, international treaties, geopolitics, debt repayment, licenses, patents, etc.\n",
    "                Any executive decisions taken by the government are Regulatory. Takes priority over other classes.\n",
    "- [Stock price movement]: Includes pricing of public offerings, daily, monthly and yearly movements, highs and lows, options trade and alerts, etc.\n",
    "                          Only relevant when a specific entity/industry or set of entities/industries mentioned.\n",
    "                          Quantities such as sales, are not stock price movements. Stock splits do not count as stock movements.\n",
    "                          Takes priority over Earnings, Stock Price Movement, Credit Ratings\n",
    "- [Credit Ratings]: Adjustments of company's borrowing capacity, changes in debt values, changes in ratings, etc.\n",
    "- [Products-Services]: Mentions of a company's particular product, forward-looking product directions, disruption, government and private contracts, etc.\n",
    "                       Any sort of delay regarding a product roll-out, etc.\n",
    "- [Product Approval]: Mentions FDA approvals, environmental approvals, acceptance for review. Any time an entity approves the rollout of a corporations product.\n",
    "- [Guidance]: Forward looking statements issued by the company's themselves regarding Revenue, EPS, potential sales going up/down, number of contracts, etc.\n",
    "              Similar talk to earnings but about projections rather than realised.\n",
    "              \n",
    "If the headline doesn't match any of the classes, classify it as OTHER.\n",
    "If there are no events at all described in the headline, classify it as NO EVENT.\n",
    "ATTENTION:\n",
    "  - Only assign a category if the headline meets all the criteria listed for that category. Otherwise use OTHER\n",
    "  - Encourage precise matching rather than assigning categories based on partial or superficial similarities\n",
    "  - OTHER is the default category for when there is an event but there is doubt about which type\n",
    "  - If there are no events mentioned, use NO EVENT\n",
    "\n",
    "A few examples:\n",
    "\n",
    "1. Cornerstone OnDemand Higher as Barclays Upgraded to Overweight -> [Analyst Rating]\n",
    "2. HC Wainwright & Co. Maintains Buy on Balchem, Lowers Price Target to $104 -> [Price Targets]\n",
    "3. Sina Reports Q4 Adj. EPS $0.24 vs $0.18 Est., Sales $211.1M vs $207.6M Est.; Sees FY15 Sales $800M-$900M vs $884.6M Est. -> [Earnings]\n",
    "4. Delta To Buy Out Employees, Offer Early Retirement (DAL) -> [Labour Issues]\n",
    "5. Constant Contact Announces Deal to Be Purchased by Endurance Int'l at $32/Share -> [Mergers and Acquisitions]\n",
    "6. Ameriprise Financial Announces 12% Qtr. Dividend Increase to $0.58/Share -> [Dividends]\n",
    "7. Ultratech Achieves ISO 9001 and 14001 Certification for Singapore Operations and Recertification for U.S. Facility  -> [Regulatory]\n",
    "8. Mid-Afternoon Market Update: Dow Up Over 200 Points; Lakeland Industries Shares Spike Higher -> [Stock price movement]\n",
    "9. Moody's Affirms Ratings on Nokia; Outlook Revised from Negative to Developing -> [Credit Ratings]\n",
    "10. NOVAVAX Awarded HHS-BARDA Contract Valued at up to $179 Million  -> [Products-Services]\n",
    "11. Sanofi's Genzyme Announces Lemtrada Resubmission Accepted for Review by FDA  -> [Product Approval]\n",
    "12. Dot Hill Systems Announces Re-alignment of Software Development Initiatives; Sees Q4 EPS of $(0.02)-(0.03) vs $0.03-(0.03) Prior  -> [Guidance]\n",
    "13. Kopin Chairman Fan Buys 116,400 Shares @$2.83/Share -Form 4 -> [OTHER]\n",
    "\n",
    "Given the following headline:\n",
    "\n",
    "### START HEADLINE ###\n",
    "\n",
    "{headline}\n",
    "\n",
    "### END HEADLINE ###\n",
    "\n",
    "What event type best classifies it? Answer only with your predicted class and give it inside double square brackets, like [[class]]\n",
    "\"\"\""
   ]
  },
  {
   "cell_type": "code",
   "execution_count": 29,
   "id": "202c9c1e-39b0-442e-b033-8fb1e1a4edfa",
   "metadata": {},
   "outputs": [
    {
     "name": "stdout",
     "output_type": "stream",
     "text": [
      "len training:  122808\n",
      "len validation:  15351\n",
      "len test:  15352\n",
      "Processing training to baseline_data/training.jsonl\n",
      "training split saved to baseline_data/training.jsonl\n",
      "Processing validation to baseline_data/validation.jsonl\n",
      "validation split saved to baseline_data/validation.jsonl\n",
      "Processing test to baseline_data/test.jsonl\n",
      "test split saved to baseline_data/test.jsonl\n"
     ]
    }
   ],
   "source": [
    "data_path = '/home/ubuntu/nemo_customiser_k8_utils/data'\n",
    "dataset = datasets.load_dataset(data_path)\n",
    "# Assuming 'label' is the column you want to stratify by\n",
    "stratify_column_name = \"label\"\n",
    "\n",
    "# Cast the column to ClassLabel\n",
    "dataset = dataset.class_encode_column(stratify_column_name)\n",
    "\n",
    "train_ratio = 0.8\n",
    "val_ratio = 0.1\n",
    "seed = 42\n",
    "test_ratio = 1 - train_ratio - val_ratio\n",
    "save_splits = {}\n",
    "dataset = dataset.get('train')\n",
    "# Get the class labels\n",
    "class_labels = dataset.features['label']\n",
    "split_dataset = dataset.train_test_split(test_size=val_ratio + test_ratio, seed=seed, stratify_by_column='label')\n",
    "split_dataset2 = split_dataset['test'].train_test_split(\n",
    "    test_size=test_ratio / (val_ratio + test_ratio), seed=seed,stratify_by_column='label')\n",
    "save_splits['training'] = split_dataset['train']\n",
    "save_splits['validation'] = split_dataset2['train']\n",
    "save_splits['test'] = split_dataset2['test']\n",
    "\n",
    "print(\"len training: \", len(save_splits['training']))\n",
    "print(\"len validation: \", len(save_splits['validation']))\n",
    "print(\"len test: \", len(save_splits['test']))\n",
    "\n",
    "dataset_root = \"baseline_data\"\n",
    "os.makedirs(dataset_root, exist_ok=True)\n",
    "\n",
    "for split_name, dataset in save_splits.items():\n",
    "    output_file = os.path.join(dataset_root, f\"{split_name}.jsonl\")\n",
    "    print(f\"Processing {split_name} to {output_file}\")\n",
    "    with open(output_file,\"w\", encoding=\"utf-8\") as f:\n",
    "        for example in dataset:\n",
    "            if DATASET_PROMPT_FORMAT != \"\":\n",
    "                _input = DATASET_PROMPT_FORMAT.format(headline=example[\"headline\"])\n",
    "                _output = class_labels.int2str(example[\"label\"])\n",
    "            f.write(json.dumps({\"prompt\": _input, \"completion\": _output}) + \"\\n\")\n",
    "\n",
    "    print(f\"{split_name} split saved to {output_file}\")"
   ]
  },
  {
   "cell_type": "code",
   "execution_count": null,
   "id": "4a1a2e93-e8df-48e8-98c2-1d56965997b9",
   "metadata": {},
   "outputs": [],
   "source": []
  }
 ],
 "metadata": {
  "kernelspec": {
   "display_name": "venv",
   "language": "python",
   "name": "python3"
  },
  "language_info": {
   "codemirror_mode": {
    "name": "ipython",
    "version": 3
   },
   "file_extension": ".py",
   "mimetype": "text/x-python",
   "name": "python",
   "nbconvert_exporter": "python",
   "pygments_lexer": "ipython3",
   "version": "3.10.12"
  }
 },
 "nbformat": 4,
 "nbformat_minor": 5
}
