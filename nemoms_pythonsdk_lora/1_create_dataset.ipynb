{
 "cells": [
  {
   "cell_type": "code",
   "execution_count": 41,
   "id": "380510d5",
   "metadata": {},
   "outputs": [],
   "source": [
    "import datasets\n",
    "import os\n",
    "import json"
   ]
  },
  {
   "cell_type": "code",
   "execution_count": 42,
   "id": "c5f05c09",
   "metadata": {},
   "outputs": [],
   "source": [
    "data_path = '/home/ubuntu/nemo_customiser_k8_utils/data'\n",
    "dataset = datasets.load_dataset(data_path)"
   ]
  },
  {
   "cell_type": "code",
   "execution_count": 45,
   "id": "c85a09c8",
   "metadata": {},
   "outputs": [
    {
     "name": "stderr",
     "output_type": "stream",
     "text": [
      "Casting to class labels: 100%|██████████| 153511/153511 [00:00<00:00, 646521.89 examples/s]\n"
     ]
    }
   ],
   "source": [
    "# Assuming 'label' is the column you want to stratify by\n",
    "stratify_column_name = \"label\"\n",
    "\n",
    "# Cast the column to ClassLabel\n",
    "dataset = dataset.class_encode_column(stratify_column_name)"
   ]
  },
  {
   "cell_type": "code",
   "execution_count": 48,
   "id": "d3df638c",
   "metadata": {},
   "outputs": [
    {
     "data": {
      "text/plain": [
       "Dataset({\n",
       "    features: ['headline', 'label'],\n",
       "    num_rows: 153511\n",
       "})"
      ]
     },
     "execution_count": 48,
     "metadata": {},
     "output_type": "execute_result"
    }
   ],
   "source": [
    "dataset"
   ]
  },
  {
   "cell_type": "code",
   "execution_count": 46,
   "id": "d9cd1511",
   "metadata": {},
   "outputs": [],
   "source": [
    "DATASET_PROMPT_FORMAT = \"\"\"Given the following headline:\n",
    "### START HEADLINE ###\n",
    "\n",
    "{headline}\n",
    "\n",
    "### END HEADLINE ###\n",
    "\n",
    "What event type best classifies it? Choose from the following list:\n",
    "\n",
    "-analyst rating\n",
    "-price targets\n",
    "-earnings\n",
    "-labour related\n",
    "-mergers and acquisitions\n",
    "-dividends\n",
    "-regulatory\n",
    "-stock price movement\n",
    "-credit ratings\n",
    "-products-services\n",
    "-product approval\n",
    "-guidance\n",
    "-other\n",
    "\n",
    "Provide only the event type putting it inside double square brackets and in a new line like:\n",
    "[[label]]\n",
    "\n",
    "### START EVENT OUTPUT ###\n",
    "\n",
    "\"\"\""
   ]
  },
  {
   "cell_type": "code",
   "execution_count": 49,
   "id": "5f6dcbdf",
   "metadata": {},
   "outputs": [
    {
     "name": "stdout",
     "output_type": "stream",
     "text": [
      "len training:  122808\n",
      "len validation:  23027\n",
      "len test:  7676\n"
     ]
    }
   ],
   "source": [
    "train_ratio = 0.8\n",
    "val_ratio = 0.15\n",
    "seed = 42\n",
    "test_ratio = 1 - train_ratio - val_ratio\n",
    "save_splits = {}\n",
    "# dataset = dataset.get('train')\n",
    "split_dataset = dataset.train_test_split(test_size=val_ratio + test_ratio, seed=seed, stratify_by_column='label')\n",
    "split_dataset2 = split_dataset['test'].train_test_split(\n",
    "    test_size=test_ratio / (val_ratio + test_ratio), seed=seed,stratify_by_column='label')\n",
    "save_splits['training'] = split_dataset['train']\n",
    "save_splits['validation'] = split_dataset2['train']\n",
    "save_splits['test'] = split_dataset2['test']\n",
    "\n",
    "print(\"len training: \", len(save_splits['training']))\n",
    "print(\"len validation: \", len(save_splits['validation']))\n",
    "print(\"len test: \", len(save_splits['test']))"
   ]
  },
  {
   "cell_type": "code",
   "execution_count": 50,
   "id": "a816d987",
   "metadata": {},
   "outputs": [
    {
     "name": "stdout",
     "output_type": "stream",
     "text": [
      "Processing training to data/training.jsonl\n",
      "training split saved to data/training.jsonl\n",
      "Processing validation to data/validation.jsonl\n",
      "validation split saved to data/validation.jsonl\n",
      "Processing test to data/test.jsonl\n",
      "test split saved to data/test.jsonl\n"
     ]
    }
   ],
   "source": [
    "dataset_root = \"data\"\n",
    "os.makedirs(dataset_root, exist_ok=True)\n",
    "\n",
    "for split_name, dataset in save_splits.items():\n",
    "    output_file = os.path.join(dataset_root, f\"{split_name}.jsonl\")\n",
    "    print(f\"Processing {split_name} to {output_file}\")\n",
    "    with open(output_file,\"w\", encoding=\"utf-8\") as f:\n",
    "        for example in dataset:\n",
    "            if DATASET_PROMPT_FORMAT != \"\":\n",
    "                _input = DATASET_PROMPT_FORMAT.format(headline=example[\"headline\"])\n",
    "                _output = example[\"label\"]\n",
    "            f.write(json.dumps({\"prompt\": _input, \"completion\": _output}) + \"\\n\")\n",
    "\n",
    "    print(f\"{split_name} split saved to {output_file}\")"
   ]
  },
  {
   "cell_type": "code",
   "execution_count": 35,
   "id": "4b5dba13",
   "metadata": {},
   "outputs": [],
   "source": [
    "import pandas as pd"
   ]
  },
  {
   "cell_type": "code",
   "execution_count": 37,
   "id": "d3c0f34b",
   "metadata": {},
   "outputs": [],
   "source": [
    "df = pd.read_csv(f\"{data_path}/nemotron_49b_headline_labels_legal_approved.csv.gz\", compression='gzip')"
   ]
  },
  {
   "cell_type": "code",
   "execution_count": 39,
   "id": "ff71aa2f",
   "metadata": {},
   "outputs": [
    {
     "data": {
      "text/plain": [
       "label\n",
       "analyst rating              16945\n",
       "credit ratings                806\n",
       "dividends                    2192\n",
       "earnings                    19989\n",
       "guidance                     9921\n",
       "labour issues                3640\n",
       "mergers and acquisitions     9292\n",
       "no event                     8753\n",
       "other                       15890\n",
       "price targets               19842\n",
       "product approval             1795\n",
       "products-services           12892\n",
       "regulatory                   8829\n",
       "stock price movement        22725\n",
       "dtype: int64"
      ]
     },
     "execution_count": 39,
     "metadata": {},
     "output_type": "execute_result"
    }
   ],
   "source": [
    "df.groupby('label').size()"
   ]
  },
  {
   "cell_type": "code",
   "execution_count": null,
   "id": "6d35e7dd",
   "metadata": {},
   "outputs": [],
   "source": []
  }
 ],
 "metadata": {
  "kernelspec": {
   "display_name": "venv",
   "language": "python",
   "name": "python3"
  },
  "language_info": {
   "codemirror_mode": {
    "name": "ipython",
    "version": 3
   },
   "file_extension": ".py",
   "mimetype": "text/x-python",
   "name": "python",
   "nbconvert_exporter": "python",
   "pygments_lexer": "ipython3",
   "version": "3.10.12"
  }
 },
 "nbformat": 4,
 "nbformat_minor": 5
}
