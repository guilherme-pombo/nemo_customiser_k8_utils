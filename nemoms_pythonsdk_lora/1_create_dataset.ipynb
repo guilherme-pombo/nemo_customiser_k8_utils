{
 "cells": [
  {
   "cell_type": "markdown",
   "id": "72aa7057-d982-4c04-9656-064babc195f8",
   "metadata": {},
   "source": [
    "# Process dataset"
   ]
  },
  {
   "cell_type": "code",
   "execution_count": 1,
   "id": "6ac14bbc-8189-4e5c-a035-01fff43172b7",
   "metadata": {},
   "outputs": [
    {
     "name": "stderr",
     "output_type": "stream",
     "text": [
      "/home/ubuntu/.local/lib/python3.10/site-packages/tqdm/auto.py:21: TqdmWarning: IProgress not found. Please update jupyter and ipywidgets. See https://ipywidgets.readthedocs.io/en/stable/user_install.html\n",
      "  from .autonotebook import tqdm as notebook_tqdm\n"
     ]
    }
   ],
   "source": [
    "import datasets\n",
    "import os\n",
    "import json"
   ]
  },
  {
   "cell_type": "code",
   "execution_count": 2,
   "id": "c5f05c09",
   "metadata": {},
   "outputs": [],
   "source": [
    "data_path = '/home/ubuntu/nemo_customiser_k8_utils/data'\n",
    "dataset = datasets.load_dataset(data_path)"
   ]
  },
  {
   "cell_type": "code",
   "execution_count": 3,
   "id": "c85a09c8",
   "metadata": {},
   "outputs": [],
   "source": [
    "# Assuming 'label' is the column you want to stratify by\n",
    "stratify_column_name = \"label\"\n",
    "\n",
    "# Cast the column to ClassLabel\n",
    "dataset = dataset.class_encode_column(stratify_column_name)"
   ]
  },
  {
   "cell_type": "code",
   "execution_count": 4,
   "id": "d9cd1511",
   "metadata": {},
   "outputs": [],
   "source": [
    "DATASET_PROMPT_FORMAT = \"\"\"Given the following headline:\n",
    "### START HEADLINE ###\n",
    "\n",
    "{headline}\n",
    "\n",
    "### END HEADLINE ###\n",
    "\n",
    "What event type best classifies it? Choose from the following list:\n",
    "\n",
    "-analyst rating\n",
    "-price targets\n",
    "-earnings\n",
    "-labour related\n",
    "-mergers and acquisitions\n",
    "-dividends\n",
    "-regulatory\n",
    "-stock price movement\n",
    "-credit ratings\n",
    "-products-services\n",
    "-product approval\n",
    "-guidance\n",
    "-other\n",
    "\n",
    "Provide only the event type putting it inside double square brackets and in a new line like:\n",
    "[[label]]\n",
    "\n",
    "### START EVENT OUTPUT ###\n",
    "\n",
    "\"\"\""
   ]
  },
  {
   "cell_type": "code",
   "execution_count": 5,
   "id": "5f6dcbdf",
   "metadata": {},
   "outputs": [
    {
     "name": "stdout",
     "output_type": "stream",
     "text": [
      "len training:  122808\n",
      "len validation:  15351\n",
      "len test:  15352\n"
     ]
    }
   ],
   "source": [
    "train_ratio = 0.8\n",
    "val_ratio = 0.1\n",
    "seed = 42\n",
    "test_ratio = 1 - train_ratio - val_ratio\n",
    "save_splits = {}\n",
    "dataset = dataset.get('train')\n",
    "# Get the class labels\n",
    "class_labels = dataset.features['label']\n",
    "split_dataset = dataset.train_test_split(test_size=val_ratio + test_ratio, seed=seed, stratify_by_column='label')\n",
    "split_dataset2 = split_dataset['test'].train_test_split(\n",
    "    test_size=test_ratio / (val_ratio + test_ratio), seed=seed,stratify_by_column='label')\n",
    "save_splits['training'] = split_dataset['train']\n",
    "save_splits['validation'] = split_dataset2['train']\n",
    "save_splits['test'] = split_dataset2['test']\n",
    "\n",
    "print(\"len training: \", len(save_splits['training']))\n",
    "print(\"len validation: \", len(save_splits['validation']))\n",
    "print(\"len test: \", len(save_splits['test']))"
   ]
  },
  {
   "cell_type": "code",
   "execution_count": 6,
   "id": "a816d987",
   "metadata": {},
   "outputs": [
    {
     "name": "stdout",
     "output_type": "stream",
     "text": [
      "Processing training to data/training.jsonl\n",
      "training split saved to data/training.jsonl\n",
      "Processing validation to data/validation.jsonl\n",
      "validation split saved to data/validation.jsonl\n",
      "Processing test to data/test.jsonl\n",
      "test split saved to data/test.jsonl\n"
     ]
    }
   ],
   "source": [
    "dataset_root = \"data\"\n",
    "os.makedirs(dataset_root, exist_ok=True)\n",
    "\n",
    "for split_name, dataset in save_splits.items():\n",
    "    output_file = os.path.join(dataset_root, f\"{split_name}.jsonl\")\n",
    "    print(f\"Processing {split_name} to {output_file}\")\n",
    "    with open(output_file,\"w\", encoding=\"utf-8\") as f:\n",
    "        for example in dataset:\n",
    "            if DATASET_PROMPT_FORMAT != \"\":\n",
    "                _input = DATASET_PROMPT_FORMAT.format(headline=example[\"headline\"])\n",
    "                _output = class_labels.int2str(example[\"label\"])\n",
    "            f.write(json.dumps({\"prompt\": _input, \"completion\": _output}) + \"\\n\")\n",
    "\n",
    "    print(f\"{split_name} split saved to {output_file}\")"
   ]
  },
  {
   "cell_type": "code",
   "execution_count": 7,
   "id": "d3c0f34b",
   "metadata": {},
   "outputs": [
    {
     "data": {
      "text/plain": [
       "<Figure size 2160x1080 with 0 Axes>"
      ]
     },
     "metadata": {},
     "output_type": "display_data"
    },
    {
     "data": {
      "image/png": "[encoded data removed]",
      "text/plain": [
       "<Figure size 432x288 with 1 Axes>"
      ]
     },
     "metadata": {
      "needs_background": "light"
     },
     "output_type": "display_data"
    }
   ],
   "source": [
    "import matplotlib.pyplot as plt\n",
    "import pandas as pd\n",
    "\n",
    "# Prepare data for all splits\n",
    "distribution_data = {}\n",
    "for split, data in save_splits.items():\n",
    "    df = data.to_pandas()\n",
    "    df['label'] = df['label'].apply(lambda x: class_labels.int2str(x))\n",
    "    df_distribution = (df.groupby('label').size()/df.shape[0])*100\n",
    "    distribution_data[split] = df_distribution\n",
    "\n",
    "# Convert to DataFrame for easier plotting\n",
    "combined_df = pd.DataFrame(distribution_data).fillna(0)\n",
    "\n",
    "# Create the plot\n",
    "plt.figure(figsize=(30, 15))\n",
    "combined_df.plot(kind='bar', \n",
    "                 title='Label Distribution Across All Splits',\n",
    "                 xlabel='Labels', \n",
    "                 ylabel='Percentage (%)',\n",
    "                 rot=90,\n",
    "                 color=['skyblue', 'lightcoral', 'lightgreen'])\n",
    "\n",
    "plt.legend(title='Dataset Split')\n",
    "plt.tight_layout()\n",
    "plt.show()"
   ]
  },
  {
   "cell_type": "markdown",
   "id": "f5fdd200-d9b0-4540-bf79-c6b82f13d443",
   "metadata": {},
   "source": [
    "# Add the datasets to NeMo Microservices"
   ]
  },
  {
   "cell_type": "code",
   "execution_count": 8,
   "id": "b733c528",
   "metadata": {},
   "outputs": [],
   "source": [
    "import os\n",
    "import json\n",
    "import random\n",
    "import requests\n",
    "from openai import OpenAI\n",
    "from nemo_microservices import NeMoMicroservices"
   ]
  },
  {
   "cell_type": "code",
   "execution_count": 9,
   "id": "43ca85c4-7f07-402c-baf6-9e9baf21b01e",
   "metadata": {},
   "outputs": [],
   "source": [
    "from config import *\n",
    "\n",
    "# Initialize NeMo Microservices SDK client\n",
    "nemo_client = NeMoMicroservices(\n",
    "    base_url=NEMO_URL,\n",
    "    inference_base_url=NIM_URL,\n",
    ")"
   ]
  },
  {
   "cell_type": "code",
   "execution_count": 10,
   "id": "c497ae41-0881-419f-8314-d86a18079d68",
   "metadata": {},
   "outputs": [
    {
     "data": {
      "text/plain": [
       "SyncDefaultPagination[Project](object='list', data=[], sort='created_at', pagination=DefaultPaginationPagination(current_page_size=0, page=1, page_size=10, total_pages=0, total_results=0))"
      ]
     },
     "execution_count": 10,
     "metadata": {},
     "output_type": "execute_result"
    }
   ],
   "source": [
    "nemo_client.projects.list()"
   ]
  },
  {
   "cell_type": "code",
   "execution_count": 11,
   "id": "d5e6d08f-fc9d-4f84-a94b-3580dd33dc14",
   "metadata": {},
   "outputs": [
    {
     "name": "stdout",
     "output_type": "stream",
     "text": [
      "Data Store endpoint: http://data-store.test\n",
      "Entity Store, Customizer, Evaluator endpoint: http://nemo.test\n",
      "NIM endpoint: http://nim.test\n",
      "Namespace: lora-tutorial-ns\n",
      "Base Model for Customization: meta/llama-3.1-8b-instruct@v1.0.0+A100\n"
     ]
    }
   ],
   "source": [
    "print(f\"Data Store endpoint: {NDS_URL}\")\n",
    "print(f\"Entity Store, Customizer, Evaluator endpoint: {NEMO_URL}\")\n",
    "print(f\"NIM endpoint: {NIM_URL}\")\n",
    "print(f\"Namespace: {NMS_NAMESPACE}\")\n",
    "print(f\"Base Model for Customization: {BASE_MODEL}@{BASE_MODEL_VERSION}\")"
   ]
  },
  {
   "cell_type": "code",
   "execution_count": 12,
   "id": "930911c9-807e-45e5-a2b9-127c64885d33",
   "metadata": {},
   "outputs": [],
   "source": [
    "# Path where data preparation notebook saved finetuning and evaluation data\n",
    "DATA_ROOT = os.path.join(os.getcwd(), \"data\")\n",
    "# CUSTOMIZATION_DATA_ROOT = os.path.join(DATA_ROOT, \"customization\")\n",
    "# VALIDATION_DATA_ROOT = os.path.join(DATA_ROOT, \"validation\")\n",
    "# EVALUATION_DATA_ROOT = os.path.join(DATA_ROOT, \"evaluation\")\n",
    "\n",
    "# Sanity checks\n",
    "train_fp = f\"{DATA_ROOT}/training.jsonl\"\n",
    "assert os.path.exists(train_fp), f\"The training data at '{train_fp}' does not exist. Please ensure that the data was prepared successfully.\"\n",
    "\n",
    "val_fp = f\"{DATA_ROOT}/validation.jsonl\"\n",
    "assert os.path.exists(val_fp), f\"The validation data at '{val_fp}' does not exist. Please ensure that the data was prepared successfully.\"\n",
    "\n",
    "test_fp = f\"{DATA_ROOT}/test.jsonl\"\n",
    "assert os.path.exists(test_fp), f\"The test data at '{test_fp}' does not exist. Please ensure that the data was prepared successfully.\""
   ]
  },
  {
   "cell_type": "code",
   "execution_count": 13,
   "id": "c3ece399-22f1-409c-86b5-a5cb4511d632",
   "metadata": {},
   "outputs": [],
   "source": [
    "def create_namespaces(nemo_client, ds_host, namespace):\n",
    "    # Create namespace in Entity Store\n",
    "    try:\n",
    "        namespace_obj = nemo_client.namespaces.create(id=namespace)\n",
    "        print(f\"Created namespace in Entity Store: {namespace_obj.id}\")\n",
    "    except Exception as e:\n",
    "        # Handle if namespace already exists\n",
    "        if \"409\" in str(e) or \"422\" in str(e):\n",
    "            print(f\"Namespace {namespace} already exists in Entity Store\")\n",
    "        else:\n",
    "            raise e\n",
    "\n",
    "    # Create namespace in Data Store (still using requests as SDK doesn't cover Data Store)\n",
    "    nds_url = f\"{ds_host}/v1/datastore/namespaces\"\n",
    "    resp = requests.post(nds_url, data={\"namespace\": namespace})\n",
    "    assert resp.status_code in (200, 201, 409, 422), \\\n",
    "        f\"Unexpected response from Data Store during namespace creation: {resp.status_code}\"\n",
    "    print(f\"Data Store namespace creation response: {resp}\")"
   ]
  },
  {
   "cell_type": "code",
   "execution_count": 14,
   "id": "9abce0ef-2f86-41f3-9eb1-1d643464fcb1",
   "metadata": {},
   "outputs": [
    {
     "name": "stdout",
     "output_type": "stream",
     "text": [
      "Created namespace in Entity Store: lora-tutorial-ns\n",
      "Data Store namespace creation response: <Response [201]>\n"
     ]
    }
   ],
   "source": [
    "create_namespaces(nemo_client=nemo_client, ds_host=NDS_URL, namespace=NMS_NAMESPACE)"
   ]
  },
  {
   "cell_type": "code",
   "execution_count": 15,
   "id": "05ed21f5-357e-4381-b728-aaa81bab1d3a",
   "metadata": {},
   "outputs": [
    {
     "name": "stdout",
     "output_type": "stream",
     "text": [
      "Data Store - Status Code: 201\n",
      "Response JSON: {'namespace': 'lora-tutorial-ns', 'created_at': '2025-08-29T19:24:53Z', 'updated_at': '2025-08-29T19:24:53Z'}\n",
      "\n",
      "Entity Store - Namespace: lora-tutorial-ns\n",
      "Created at: 2025-08-29 19:24:53.597238\n",
      "Description: None\n",
      "Project: None\n"
     ]
    }
   ],
   "source": [
    "# Verify Namespace in Data Store (using requests as SDK doesn't cover Data Store)\n",
    "response = requests.get(f\"{NDS_URL}/v1/datastore/namespaces/{NMS_NAMESPACE}\")\n",
    "print(f\"Data Store - Status Code: {response.status_code}\\nResponse JSON: {response.json()}\")\n",
    "\n",
    "# Verify Namespace in Entity Store\n",
    "namespace_obj = nemo_client.namespaces.retrieve(namespace_id=NMS_NAMESPACE)\n",
    "print(f\"\\nEntity Store - Namespace: {namespace_obj.id}\")\n",
    "print(f\"Created at: {namespace_obj.created_at}\")\n",
    "print(f\"Description: {namespace_obj.description}\")\n",
    "print(f\"Project: {namespace_obj.project}\")"
   ]
  },
  {
   "cell_type": "code",
   "execution_count": 16,
   "id": "fe89af3e-810d-4ce4-9604-278f30dbcacf",
   "metadata": {},
   "outputs": [],
   "source": [
    "repo_id = f\"{NMS_NAMESPACE}/{DATASET_NAME}\""
   ]
  },
  {
   "cell_type": "code",
   "execution_count": 17,
   "id": "6c40d4de-06ff-4aa4-98c6-b52fe221b2c8",
   "metadata": {},
   "outputs": [
    {
     "data": {
      "text/plain": [
       "RepoUrl('datasets/lora-tutorial-ns/news-lora-dataset', endpoint='http://data-store.test/v1/hf', repo_type='dataset', repo_id='lora-tutorial-ns/news-lora-dataset')"
      ]
     },
     "execution_count": 17,
     "metadata": {},
     "output_type": "execute_result"
    }
   ],
   "source": [
    "from huggingface_hub import HfApi\n",
    "\n",
    "hf_api = HfApi(endpoint=f\"{NDS_URL}/v1/hf\", token=\"\")\n",
    "\n",
    "# Create repo\n",
    "hf_api.create_repo(\n",
    "    repo_id=repo_id,\n",
    "    repo_type='dataset',\n",
    ")"
   ]
  },
  {
   "cell_type": "code",
   "execution_count": 18,
   "id": "febb08bd-3dc0-4655-a310-f0b46e61e0d8",
   "metadata": {},
   "outputs": [
    {
     "name": "stderr",
     "output_type": "stream",
     "text": [
      "training.jsonl: 100%|██████████| 78.4M/78.4M [00:00<00:00, 313MB/s]\n",
      "validation.jsonl: 100%|██████████| 9.79M/9.79M [00:00<00:00, 285MB/s]\n",
      "test.jsonl: 100%|██████████| 9.79M/9.79M [00:00<00:00, 288MB/s]\n"
     ]
    },
    {
     "data": {
      "text/plain": [
       "CommitInfo(commit_url='', commit_message='Upload testing/test.jsonl with huggingface_hub', commit_description='', oid='899dea8326661e23227ce2da9f7193a4b17119a4', pr_url=None, repo_url=RepoUrl('', endpoint='https://huggingface.co', repo_type='model', repo_id=''), pr_revision=None, pr_num=None)"
      ]
     },
     "execution_count": 18,
     "metadata": {},
     "output_type": "execute_result"
    }
   ],
   "source": [
    "hf_api.upload_file(path_or_fileobj=train_fp,\n",
    "    path_in_repo=\"training/train.jsonl\",\n",
    "    repo_id=repo_id,\n",
    "    repo_type='dataset',\n",
    ")\n",
    "\n",
    "hf_api.upload_file(path_or_fileobj=val_fp,\n",
    "    path_in_repo=\"validation/val.jsonl\",\n",
    "    repo_id=repo_id,\n",
    "    repo_type='dataset',\n",
    ")\n",
    "\n",
    "hf_api.upload_file(path_or_fileobj=test_fp,\n",
    "    path_in_repo=\"testing/test.jsonl\",\n",
    "    repo_id=repo_id,\n",
    "    repo_type='dataset',\n",
    ")"
   ]
  },
  {
   "cell_type": "code",
   "execution_count": 19,
   "id": "86110d67-f807-4b05-a81c-c42c0278c746",
   "metadata": {},
   "outputs": [
    {
     "name": "stdout",
     "output_type": "stream",
     "text": [
      "Created dataset: lora-tutorial-ns/news-lora-dataset\n"
     ]
    },
    {
     "data": {
      "text/plain": [
       "Dataset(files_url='hf://datasets/lora-tutorial-ns/news-lora-dataset', id='dataset-TZBiR4EURjwxjajuSPKy8F', created_at=datetime.datetime(2025, 8, 29, 19, 24, 55, 554999), custom_fields={}, description='News Dataset for FSI Blueprint', format=None, hf_endpoint=None, limit=None, name='news-lora-dataset', namespace='lora-tutorial-ns', project='tool_calling', split=None, updated_at=datetime.datetime(2025, 8, 29, 19, 24, 55, 555002))"
      ]
     },
     "execution_count": 19,
     "metadata": {},
     "output_type": "execute_result"
    }
   ],
   "source": [
    " # Create dataset\n",
    "dataset = nemo_client.datasets.create(\n",
    "    name=DATASET_NAME,\n",
    "    namespace=NMS_NAMESPACE,\n",
    "    description=\"News Dataset for FSI Blueprint\",\n",
    "    files_url=f\"hf://datasets/{NMS_NAMESPACE}/{DATASET_NAME}\",\n",
    "    project=\"tool_calling\",\n",
    "    \n",
    ")\n",
    "print(f\"Created dataset: {dataset.namespace}/{dataset.name}\")\n",
    "dataset"
   ]
  },
  {
   "cell_type": "code",
   "execution_count": 20,
   "id": "6e53c622-e72b-4b2f-bc7d-7480769a1bf1",
   "metadata": {},
   "outputs": [
    {
     "name": "stdout",
     "output_type": "stream",
     "text": [
      "Files URL: hf://datasets/lora-tutorial-ns/news-lora-dataset\n"
     ]
    }
   ],
   "source": [
    "# Sanity check to validate dataset\n",
    "dataset_obj = nemo_client.datasets.retrieve(namespace=NMS_NAMESPACE, dataset_name=DATASET_NAME)\n",
    "\n",
    "print(\"Files URL:\", dataset_obj.files_url)\n",
    "assert dataset_obj.files_url == f\"hf://datasets/{repo_id}\""
   ]
  },
  {
   "cell_type": "markdown",
   "id": "d0a08939-9b77-4854-91b3-fa7ce884b942",
   "metadata": {},
   "source": [
    "# Optional - Create subsets of train with smaller sizes"
   ]
  },
  {
   "cell_type": "code",
   "execution_count": 21,
   "id": "01ba83fa-1693-48c1-b0af-e4f10085bc5f",
   "metadata": {},
   "outputs": [
    {
     "name": "stdout",
     "output_type": "stream",
     "text": [
      "Full train size: 122808\n",
      "Saved subset 5k: 5000 -> /home/ubuntu/nemo_customiser_k8_utils/nemoms_pythonsdk_lora/data/training_5k.jsonl\n",
      "Saved subset 10k: 10000 -> /home/ubuntu/nemo_customiser_k8_utils/nemoms_pythonsdk_lora/data/training_10k.jsonl\n",
      "Saved subset 20k: 20000 -> /home/ubuntu/nemo_customiser_k8_utils/nemoms_pythonsdk_lora/data/training_20k.jsonl\n",
      "Saved subset 50k: 50000 -> /home/ubuntu/nemo_customiser_k8_utils/nemoms_pythonsdk_lora/data/training_50k.jsonl\n",
      "Saved subset 100k: 100000 -> /home/ubuntu/nemo_customiser_k8_utils/nemoms_pythonsdk_lora/data/training_100k.jsonl\n",
      "Saved subset all: 122808 -> /home/ubuntu/nemo_customiser_k8_utils/nemoms_pythonsdk_lora/data/training_all.jsonl\n"
     ]
    },
    {
     "name": "stderr",
     "output_type": "stream",
     "text": [
      "training_5k.jsonl: 100%|██████████| 3.19M/3.19M [00:00<00:00, 114MB/s]\n"
     ]
    },
    {
     "name": "stdout",
     "output_type": "stream",
     "text": [
      "Uploaded 5k to training/train_5k.jsonl\n"
     ]
    },
    {
     "name": "stderr",
     "output_type": "stream",
     "text": [
      "training_10k.jsonl: 100%|██████████| 6.38M/6.38M [00:00<00:00, 249MB/s]\n"
     ]
    },
    {
     "name": "stdout",
     "output_type": "stream",
     "text": [
      "Uploaded 10k to training/train_10k.jsonl\n"
     ]
    },
    {
     "name": "stderr",
     "output_type": "stream",
     "text": [
      "training_20k.jsonl: 100%|██████████| 12.8M/12.8M [00:00<00:00, 281MB/s]\n"
     ]
    },
    {
     "name": "stdout",
     "output_type": "stream",
     "text": [
      "Uploaded 20k to training/train_20k.jsonl\n"
     ]
    },
    {
     "name": "stderr",
     "output_type": "stream",
     "text": [
      "training_50k.jsonl: 100%|██████████| 31.9M/31.9M [00:00<00:00, 324MB/s]\n"
     ]
    },
    {
     "name": "stdout",
     "output_type": "stream",
     "text": [
      "Uploaded 50k to training/train_50k.jsonl\n"
     ]
    },
    {
     "name": "stderr",
     "output_type": "stream",
     "text": [
      "training_100k.jsonl: 100%|██████████| 63.8M/63.8M [00:00<00:00, 301MB/s]\n"
     ]
    },
    {
     "name": "stdout",
     "output_type": "stream",
     "text": [
      "Uploaded 100k to training/train_100k.jsonl\n",
      "Uploaded all to training/train_all.jsonl\n"
     ]
    }
   ],
   "source": [
    "import os, json\n",
    "\n",
    "SUBSET_SIZES = [5_000, 10_000, 20_000, 50_000, 100_000, \"all\"]\n",
    "SEED = 42\n",
    "OUT_DIR = DATA_ROOT  # assumes defined earlier\n",
    "\n",
    "def _write_jsonl(ds, path):\n",
    "    os.makedirs(os.path.dirname(path), exist_ok=True)\n",
    "    with open(path, \"w\", encoding=\"utf-8\") as f:\n",
    "        for ex in ds:\n",
    "            prompt = DATASET_PROMPT_FORMAT.format(headline=ex[\"headline\"]) if DATASET_PROMPT_FORMAT else ex[\"headline\"]\n",
    "            completion = class_labels.int2str(ex[\"label\"])\n",
    "            f.write(json.dumps({\"prompt\": prompt, \"completion\": completion}) + \"\\n\")\n",
    "\n",
    "train_full = save_splits[\"training\"]\n",
    "print(\"Full train size:\", len(train_full))\n",
    "\n",
    "made = []\n",
    "for size in SUBSET_SIZES:\n",
    "    if size == \"all\" or (isinstance(size, int) and size >= len(train_full)):\n",
    "        sub = train_full\n",
    "        tag = \"all\"\n",
    "    else:\n",
    "        sub = train_full.train_test_split(\n",
    "            train_size=size, seed=SEED, stratify_by_column=\"label\"\n",
    "        )[\"train\"]\n",
    "        tag = f\"{size//1000}k\"\n",
    "    out_fp = os.path.join(OUT_DIR, f\"training_{tag}.jsonl\")\n",
    "    _write_jsonl(sub, out_fp)\n",
    "    print(f\"Saved subset {tag}: {len(sub)} -> {out_fp}\")\n",
    "    made.append((tag, out_fp))\n",
    "\n",
    "# Optional upload to same HF dataset repo if available\n",
    "try:\n",
    "    _ = repo_id  # defined earlier\n",
    "    for tag, fp in made:\n",
    "        hf_api.upload_file(\n",
    "            path_or_fileobj=fp,\n",
    "            path_in_repo=f\"training/train_{tag}.jsonl\",\n",
    "            repo_id=repo_id,\n",
    "            repo_type=\"dataset\",\n",
    "        )\n",
    "        print(f\"Uploaded {tag} to training/train_{tag}.jsonl\")\n",
    "except NameError:\n",
    "    print(\"Skipping upload (hf_api/repo_id not defined).\")"
   ]
  },
  {
   "cell_type": "code",
   "execution_count": null,
   "id": "5ff0da42-35b1-4407-b51c-c8a4339137e2",
   "metadata": {},
   "outputs": [],
   "source": []
  }
 ],
 "metadata": {
  "kernelspec": {
   "display_name": "Python 3 (ipykernel)",
   "language": "python",
   "name": "python3"
  },
  "language_info": {
   "codemirror_mode": {
    "name": "ipython",
    "version": 3
   },
   "file_extension": ".py",
   "mimetype": "text/x-python",
   "name": "python",
   "nbconvert_exporter": "python",
   "pygments_lexer": "ipython3",
   "version": "3.10.12"
  }
 },
 "nbformat": 4,
 "nbformat_minor": 5
}
