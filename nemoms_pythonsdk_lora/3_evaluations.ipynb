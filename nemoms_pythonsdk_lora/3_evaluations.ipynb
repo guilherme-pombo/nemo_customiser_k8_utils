{
 "cells": [
  {
   "cell_type": "code",
   "execution_count": 60,
   "id": "157eda3d",
   "metadata": {},
   "outputs": [],
   "source": [
    "import json\n",
    "from time import sleep, time\n",
    "from nemo_microservices import NeMoMicroservices"
   ]
  },
  {
   "cell_type": "code",
   "execution_count": 61,
   "id": "a07eeec0",
   "metadata": {},
   "outputs": [],
   "source": [
    "from config import *\n",
    "\n",
    "# Initialize NeMo Microservices SDK client\n",
    "nemo_client = NeMoMicroservices(\n",
    "    base_url=NEMO_URL,\n",
    "    inference_base_url=NIM_URL,\n",
    ")"
   ]
  },
  {
   "cell_type": "code",
   "execution_count": 62,
   "id": "753beab0",
   "metadata": {},
   "outputs": [
    {
     "name": "stdout",
     "output_type": "stream",
     "text": [
      "Data Store endpoint: http://data-store.test\n",
      "Entity Store, Customizer, Evaluator endpoint: http://nemo.test\n",
      "NIM endpoint: http://nim.test\n",
      "Namespace: lora-tutorial-ns\n",
      "Base Model: meta/llama-3.2-1b-instruct\n"
     ]
    }
   ],
   "source": [
    "print(f\"Data Store endpoint: {NDS_URL}\")\n",
    "print(f\"Entity Store, Customizer, Evaluator endpoint: {NEMO_URL}\")\n",
    "print(f\"NIM endpoint: {NIM_URL}\")\n",
    "print(f\"Namespace: {NMS_NAMESPACE}\")\n",
    "print(f\"Base Model: {BASE_MODEL}\")"
   ]
  },
  {
   "cell_type": "code",
   "execution_count": 63,
   "id": "3a3bb340",
   "metadata": {},
   "outputs": [],
   "source": [
    "# CUSTOMIZED_MODEL = \"lora-tutorial-ns/llama-3.2-1b-xlam-run1@v4\" # paste from the previous notebook \n",
    "CUSTOMIZED_MODEL = 'meta/llama-3.1-8b-instruct'"
   ]
  },
  {
   "cell_type": "code",
   "execution_count": 64,
   "id": "93e297fe",
   "metadata": {},
   "outputs": [],
   "source": [
    " # Check if the custom LoRA model is hosted by NVIDIA NIM\n",
    "models = nemo_client.inference.models.list()\n",
    "model_names = [model.id for model in models.data]\n",
    "\n",
    "assert CUSTOMIZED_MODEL in model_names, \\\n",
    "    f\"Model {CUSTOMIZED_MODEL} not found\""
   ]
  },
  {
   "cell_type": "code",
   "execution_count": 65,
   "id": "9a2ea478",
   "metadata": {},
   "outputs": [
    {
     "name": "stdout",
     "output_type": "stream",
     "text": [
      "Files URL: hf://datasets/lora-tutorial-ns/news-lora-dataset\n"
     ]
    }
   ],
   "source": [
    "# Sanity check to validate dataset\n",
    "dataset = nemo_client.datasets.retrieve(namespace=NMS_NAMESPACE, dataset_name=DATASET_NAME)\n",
    "print(\"Files URL:\", dataset.files_url)"
   ]
  },
  {
   "cell_type": "code",
   "execution_count": 85,
   "id": "88b0af38-4c3e-47ea-bfb0-a240324dc7f5",
   "metadata": {},
   "outputs": [],
   "source": [
    "config = {\n",
    "  \"type\": \"custom\",\n",
    "  \"params\": {\n",
    "    \"parallelism\": 8\n",
    "  },\n",
    "  \"tasks\": {\n",
    "    \"qa\": {\n",
    "      \"type\": \"chat-completion\",\n",
    "      \"params\": {\n",
    "        \"template\": {\n",
    "          \"messages\": [\n",
    "            {\"role\": \"user\", \"content\": \"{{item.prompt}}\"},\n",
    "          ],\n",
    "          \"max_tokens\": 20,\n",
    "          \"temperature\": 0.7,\n",
    "          \"top_p\": 0.9\n",
    "        }\n",
    "      },\n",
    "      \"metrics\": {\n",
    "        \"f1\": {\"type\": \"f1\", \"params\": { \"ground_truth\": \"{{item.completion | trim}}\"} }\n",
    "      },\n",
    "      \"dataset\": {\n",
    "        \"files_url\": f\"hf://datasets/{NMS_NAMESPACE}/{DATASET_NAME}/testing/test.jsonl\",\n",
    "        \"limit\": 50\n",
    "      }\n",
    "    }\n",
    "  }\n",
    "}"
   ]
  },
  {
   "cell_type": "code",
   "execution_count": 86,
   "id": "91fecf85",
   "metadata": {},
   "outputs": [
    {
     "name": "stdout",
     "output_type": "stream",
     "text": [
      "Created evaluation job: eval-G3mMMWZP6f5HabQifaGR1s\n"
     ]
    },
    {
     "data": {
      "text/plain": [
       "EvaluationJob(config=EvaluationConfig(type='custom', id='eval-config-3S3FXro3ipFW7aDQuDs3M4', created_at=datetime.datetime(2025, 8, 14, 16, 3, 49, 697435), custom_fields={}, description=None, groups=None, name='eval-config-3S3FXro3ipFW7aDQuDs3M4', namespace='default', ownership=None, params=EvaluationParams(extra=None, limit_samples=None, max_retries=None, max_tokens=None, parallelism=8, request_timeout=None, stop=None, temperature=None, top_p=None), project=None, schema_version='1.0', tasks={'qa': TaskConfig(type='chat-completion', dataset=DatasetEv(files_url='hf://datasets/lora-tutorial-ns/news-lora-dataset/testing/test.jsonl', id='dataset-VZbt3AQpUMpQ22Fb9w9jk8', created_at=datetime.datetime(2025, 8, 14, 16, 3, 49, 697487), custom_fields={}, description=None, format=None, hf_endpoint=None, limit=50, name='dataset-VZbt3AQpUMpQ22Fb9w9jk8', namespace='default', ownership=None, project=None, schema_version='1.0', split=None, type_prefix=None, updated_at=datetime.datetime(2025, 8, 14, 16, 3, 49, 697488), version_id='main', version_tags=[]), metrics={'string-check': MetricConfig(type='string-check', params={'check': ['{{item.completion | trim}}', 'equals', '{{output_text | trim}}']}), 'f1': MetricConfig(type='f1', params={'ground_truth': '{{item.completion | trim}}'})}, params={'template': {'messages': [{'role': 'user', 'content': '{{item.prompt}}'}], 'max_tokens': 20, 'temperature': 0.7, 'top_p': 0.9}})}, type_prefix='eval-config', updated_at=datetime.datetime(2025, 8, 14, 16, 3, 49, 697437)), target=EvaluationTarget(type='model', id='eval-target-Qq7kjqDAwHxyDdwzeTotjb', cached_outputs=None, created_at=datetime.datetime(2025, 8, 14, 16, 3, 49, 697527), custom_fields={}, dataset=None, description=None, model='meta/llama-3.1-8b-instruct', name='eval-target-Qq7kjqDAwHxyDdwzeTotjb', namespace='default', ownership=None, project=None, rag=None, retriever=None, rows=None, schema_version='1.0', type_prefix='eval-target', updated_at=datetime.datetime(2025, 8, 14, 16, 3, 49, 697527)), id='eval-G3mMMWZP6f5HabQifaGR1s', created_at=datetime.datetime(2025, 8, 14, 16, 3, 49, 697811), custom_fields={}, description=None, namespace='default', output_files_url=None, ownership=None, project=None, result=None, status='created', status_details=EvaluationStatusDetails(message=None, progress=None, samples_processed=None, task_status={}), updated_at=datetime.datetime(2025, 8, 14, 16, 3, 49, 697811))"
      ]
     },
     "execution_count": 86,
     "metadata": {},
     "output_type": "execute_result"
    }
   ],
   "source": [
    "# Create evaluation job for the base model\n",
    "eval_job = nemo_client.evaluation.jobs.create(\n",
    "    config=config,\n",
    "    target={\"type\": \"model\", \"model\": CUSTOMIZED_MODEL}\n",
    ")\n",
    "\n",
    "base_eval_job_id = eval_job.id\n",
    "print(f\"Created evaluation job: {base_eval_job_id}\")\n",
    "eval_job"
   ]
  },
  {
   "cell_type": "code",
   "execution_count": 87,
   "id": "2f54d529",
   "metadata": {},
   "outputs": [
    {
     "name": "stdout",
     "output_type": "stream",
     "text": [
      "Job Status: {\n",
      "  \"config\": {\n",
      "    \"type\": \"custom\",\n",
      "    \"id\": \"eval-config-3S3FXro3ipFW7aDQuDs3M4\",\n",
      "    \"created_at\": \"2025-08-14 16:03:49.697435\",\n",
      "    \"custom_fields\": {},\n",
      "    \"description\": null,\n",
      "    \"groups\": null,\n",
      "    \"name\": \"eval-config-3S3FXro3ipFW7aDQuDs3M4\",\n",
      "    \"namespace\": \"default\",\n",
      "    \"ownership\": null,\n",
      "    \"params\": {\n",
      "      \"extra\": null,\n",
      "      \"limit_samples\": null,\n",
      "      \"max_retries\": null,\n",
      "      \"max_tokens\": null,\n",
      "      \"parallelism\": 8,\n",
      "      \"request_timeout\": null,\n",
      "      \"stop\": null,\n",
      "      \"temperature\": null,\n",
      "      \"top_p\": null\n",
      "    },\n",
      "    \"project\": null,\n",
      "    \"schema_version\": \"1.0\",\n",
      "    \"tasks\": {\n",
      "      \"qa\": {\n",
      "        \"type\": \"chat-completion\",\n",
      "        \"dataset\": {\n",
      "          \"files_url\": \"hf://datasets/lora-tutorial-ns/news-lora-dataset/testing/test.jsonl\",\n",
      "          \"id\": \"dataset-VZbt3AQpUMpQ22Fb9w9jk8\",\n",
      "          \"created_at\": \"2025-08-14 16:03:49.697487\",\n",
      "          \"custom_fields\": {},\n",
      "          \"description\": null,\n",
      "          \"format\": null,\n",
      "          \"hf_endpoint\": null,\n",
      "          \"limit\": 50,\n",
      "          \"name\": \"dataset-VZbt3AQpUMpQ22Fb9w9jk8\",\n",
      "          \"namespace\": \"default\",\n",
      "          \"ownership\": null,\n",
      "          \"project\": null,\n",
      "          \"schema_version\": \"1.0\",\n",
      "          \"split\": null,\n",
      "          \"type_prefix\": null,\n",
      "          \"updated_at\": \"2025-08-14 16:03:49.697488\",\n",
      "          \"version_id\": \"main\",\n",
      "          \"version_tags\": []\n",
      "        },\n",
      "        \"metrics\": {\n",
      "          \"string-check\": {\n",
      "            \"type\": \"string-check\",\n",
      "            \"params\": {\n",
      "              \"check\": [\n",
      "                \"{{item.completion | trim}}\",\n",
      "                \"equals\",\n",
      "                \"{{output_text | trim}}\"\n",
      "              ]\n",
      "            }\n",
      "          },\n",
      "          \"f1\": {\n",
      "            \"type\": \"f1\",\n",
      "            \"params\": {\n",
      "              \"ground_truth\": \"{{item.completion | trim}}\"\n",
      "            }\n",
      "          }\n",
      "        },\n",
      "        \"params\": {\n",
      "          \"template\": {\n",
      "            \"messages\": [\n",
      "              {\n",
      "                \"role\": \"user\",\n",
      "                \"content\": \"{{item.prompt}}\"\n",
      "              }\n",
      "            ],\n",
      "            \"max_tokens\": 20,\n",
      "            \"temperature\": 0.7,\n",
      "            \"top_p\": 0.9\n",
      "          }\n",
      "        }\n",
      "      }\n",
      "    },\n",
      "    \"type_prefix\": \"eval-config\",\n",
      "    \"updated_at\": \"2025-08-14 16:03:49.697437\"\n",
      "  },\n",
      "  \"target\": {\n",
      "    \"type\": \"model\",\n",
      "    \"id\": \"eval-target-Qq7kjqDAwHxyDdwzeTotjb\",\n",
      "    \"cached_outputs\": null,\n",
      "    \"created_at\": \"2025-08-14 16:03:49.697527\",\n",
      "    \"custom_fields\": {},\n",
      "    \"dataset\": null,\n",
      "    \"description\": null,\n",
      "    \"model\": \"meta/llama-3.1-8b-instruct\",\n",
      "    \"name\": \"eval-target-Qq7kjqDAwHxyDdwzeTotjb\",\n",
      "    \"namespace\": \"default\",\n",
      "    \"ownership\": null,\n",
      "    \"project\": null,\n",
      "    \"rag\": null,\n",
      "    \"retriever\": null,\n",
      "    \"rows\": null,\n",
      "    \"schema_version\": \"1.0\",\n",
      "    \"type_prefix\": \"eval-target\",\n",
      "    \"updated_at\": \"2025-08-14 16:03:49.697527\"\n",
      "  },\n",
      "  \"id\": \"eval-G3mMMWZP6f5HabQifaGR1s\",\n",
      "  \"created_at\": \"2025-08-14 16:03:49.697811\",\n",
      "  \"custom_fields\": {},\n",
      "  \"description\": null,\n",
      "  \"namespace\": \"default\",\n",
      "  \"output_files_url\": null,\n",
      "  \"ownership\": null,\n",
      "  \"project\": null,\n",
      "  \"result\": \"evaluation_result-Qu6sLy1DmAhqBxbQJvqj1X\",\n",
      "  \"status\": \"running\",\n",
      "  \"status_details\": {\n",
      "    \"message\": null,\n",
      "    \"progress\": 94.0,\n",
      "    \"samples_processed\": 50,\n",
      "    \"task_status\": {\n",
      "      \"qa\": \"running\"\n",
      "    }\n",
      "  },\n",
      "  \"updated_at\": \"2025-08-14 16:03:50.559597\"\n",
      "}\n"
     ]
    }
   ],
   "source": [
    "job_status = nemo_client.evaluation.jobs.retrieve(job_id=base_eval_job_id)\n",
    "print(\"Job Status:\", json.dumps(job_status.model_dump(), indent=2, default=str))"
   ]
  },
  {
   "cell_type": "code",
   "execution_count": 88,
   "id": "7c47d28b",
   "metadata": {},
   "outputs": [],
   "source": [
    "def wait_eval_job(nemo_client, job_id: str, polling_interval: int = 10, timeout: int = 6000):\n",
    "    \"\"\"Helper for waiting an eval job.\"\"\"\n",
    "    start_time = time()\n",
    "    job = nemo_client.evaluation.jobs.retrieve(job_id=job_id)\n",
    "    status = job.status\n",
    "    print(status)\n",
    "    while (status in [\"pending\", \"created\", \"running\"]):\n",
    "        # Check for timeout\n",
    "        if time() - start_time > timeout:\n",
    "            raise RuntimeError(f\"Took more than {timeout} seconds.\")\n",
    "\n",
    "        # Sleep before polling again\n",
    "        sleep(polling_interval)\n",
    "\n",
    "        # Fetch updated status and progress\n",
    "        job = nemo_client.evaluation.jobs.retrieve(job_id=job_id)\n",
    "        status = job.status\n",
    "\n",
    "        # Progress details (only fetch if status is \"running\")\n",
    "        progress = 0\n",
    "        if status == \"running\" and job.status_details:\n",
    "            progress = job.status_details.progress or 0\n",
    "        elif status == \"completed\":\n",
    "            progress = 100\n",
    "\n",
    "        print(f\"Job status: {status} after {time() - start_time:.2f} seconds. Progress: {progress}%\")\n",
    "\n",
    "    return job"
   ]
  },
  {
   "cell_type": "code",
   "execution_count": 89,
   "id": "762064aa",
   "metadata": {},
   "outputs": [
    {
     "name": "stdout",
     "output_type": "stream",
     "text": [
      "completed\n"
     ]
    }
   ],
   "source": [
    "# Poll\n",
    "job = wait_eval_job(nemo_client, base_eval_job_id, polling_interval=5, timeout=600)"
   ]
  },
  {
   "cell_type": "code",
   "execution_count": 90,
   "id": "6ac5ee3e",
   "metadata": {
    "scrolled": true
   },
   "outputs": [
    {
     "name": "stdout",
     "output_type": "stream",
     "text": [
      "Job Status: {\n",
      "  \"config\": {\n",
      "    \"type\": \"custom\",\n",
      "    \"id\": \"eval-config-3S3FXro3ipFW7aDQuDs3M4\",\n",
      "    \"created_at\": \"2025-08-14 16:03:49.697435\",\n",
      "    \"custom_fields\": {},\n",
      "    \"description\": null,\n",
      "    \"groups\": null,\n",
      "    \"name\": \"eval-config-3S3FXro3ipFW7aDQuDs3M4\",\n",
      "    \"namespace\": \"default\",\n",
      "    \"ownership\": null,\n",
      "    \"params\": {\n",
      "      \"extra\": null,\n",
      "      \"limit_samples\": null,\n",
      "      \"max_retries\": null,\n",
      "      \"max_tokens\": null,\n",
      "      \"parallelism\": 8,\n",
      "      \"request_timeout\": null,\n",
      "      \"stop\": null,\n",
      "      \"temperature\": null,\n",
      "      \"top_p\": null\n",
      "    },\n",
      "    \"project\": null,\n",
      "    \"schema_version\": \"1.0\",\n",
      "    \"tasks\": {\n",
      "      \"qa\": {\n",
      "        \"type\": \"chat-completion\",\n",
      "        \"dataset\": {\n",
      "          \"files_url\": \"hf://datasets/lora-tutorial-ns/news-lora-dataset/testing/test.jsonl\",\n",
      "          \"id\": \"dataset-VZbt3AQpUMpQ22Fb9w9jk8\",\n",
      "          \"created_at\": \"2025-08-14 16:03:49.697487\",\n",
      "          \"custom_fields\": {},\n",
      "          \"description\": null,\n",
      "          \"format\": null,\n",
      "          \"hf_endpoint\": null,\n",
      "          \"limit\": 50,\n",
      "          \"name\": \"dataset-VZbt3AQpUMpQ22Fb9w9jk8\",\n",
      "          \"namespace\": \"default\",\n",
      "          \"ownership\": null,\n",
      "          \"project\": null,\n",
      "          \"schema_version\": \"1.0\",\n",
      "          \"split\": null,\n",
      "          \"type_prefix\": null,\n",
      "          \"updated_at\": \"2025-08-14 16:03:49.697488\",\n",
      "          \"version_id\": \"main\",\n",
      "          \"version_tags\": []\n",
      "        },\n",
      "        \"metrics\": {\n",
      "          \"string-check\": {\n",
      "            \"type\": \"string-check\",\n",
      "            \"params\": {\n",
      "              \"check\": [\n",
      "                \"{{item.completion | trim}}\",\n",
      "                \"equals\",\n",
      "                \"{{output_text | trim}}\"\n",
      "              ]\n",
      "            }\n",
      "          },\n",
      "          \"f1\": {\n",
      "            \"type\": \"f1\",\n",
      "            \"params\": {\n",
      "              \"ground_truth\": \"{{item.completion | trim}}\"\n",
      "            }\n",
      "          }\n",
      "        },\n",
      "        \"params\": {\n",
      "          \"template\": {\n",
      "            \"messages\": [\n",
      "              {\n",
      "                \"role\": \"user\",\n",
      "                \"content\": \"{{item.prompt}}\"\n",
      "              }\n",
      "            ],\n",
      "            \"max_tokens\": 20,\n",
      "            \"temperature\": 0.7,\n",
      "            \"top_p\": 0.9\n",
      "          }\n",
      "        }\n",
      "      }\n",
      "    },\n",
      "    \"type_prefix\": \"eval-config\",\n",
      "    \"updated_at\": \"2025-08-14 16:03:49.697437\"\n",
      "  },\n",
      "  \"target\": {\n",
      "    \"type\": \"model\",\n",
      "    \"id\": \"eval-target-Qq7kjqDAwHxyDdwzeTotjb\",\n",
      "    \"cached_outputs\": null,\n",
      "    \"created_at\": \"2025-08-14 16:03:49.697527\",\n",
      "    \"custom_fields\": {},\n",
      "    \"dataset\": null,\n",
      "    \"description\": null,\n",
      "    \"model\": \"meta/llama-3.1-8b-instruct\",\n",
      "    \"name\": \"eval-target-Qq7kjqDAwHxyDdwzeTotjb\",\n",
      "    \"namespace\": \"default\",\n",
      "    \"ownership\": null,\n",
      "    \"project\": null,\n",
      "    \"rag\": null,\n",
      "    \"retriever\": null,\n",
      "    \"rows\": null,\n",
      "    \"schema_version\": \"1.0\",\n",
      "    \"type_prefix\": \"eval-target\",\n",
      "    \"updated_at\": \"2025-08-14 16:03:49.697527\"\n",
      "  },\n",
      "  \"id\": \"eval-G3mMMWZP6f5HabQifaGR1s\",\n",
      "  \"created_at\": \"2025-08-14 16:03:49.697811\",\n",
      "  \"custom_fields\": {},\n",
      "  \"description\": null,\n",
      "  \"namespace\": \"default\",\n",
      "  \"output_files_url\": \"hf://datasets/evaluation-results/eval-G3mMMWZP6f5HabQifaGR1s\",\n",
      "  \"ownership\": null,\n",
      "  \"project\": null,\n",
      "  \"result\": \"evaluation_result-Qu6sLy1DmAhqBxbQJvqj1X\",\n",
      "  \"status\": \"completed\",\n",
      "  \"status_details\": {\n",
      "    \"message\": \"Job completed successfully.\",\n",
      "    \"progress\": 100.0,\n",
      "    \"samples_processed\": 50,\n",
      "    \"task_status\": {\n",
      "      \"qa\": \"completed\"\n",
      "    }\n",
      "  },\n",
      "  \"updated_at\": \"2025-08-14 16:03:51.387723\"\n",
      "}\n"
     ]
    }
   ],
   "source": [
    "job_status = nemo_client.evaluation.jobs.retrieve(job_id=base_eval_job_id)\n",
    "print(\"Job Status:\", json.dumps(job_status.model_dump(), indent=2, default=str))"
   ]
  },
  {
   "cell_type": "markdown",
   "id": "70079eb4-fb36-49a8-88fc-833cc1baad59",
   "metadata": {},
   "source": [
    "## Get the JSON results"
   ]
  },
  {
   "cell_type": "code",
   "execution_count": 91,
   "id": "c610134a-708c-42ed-800d-bc916442a8ce",
   "metadata": {},
   "outputs": [
    {
     "name": "stdout",
     "output_type": "stream",
     "text": [
      "Result ID: evaluation_result-Qu6sLy1DmAhqBxbQJvqj1X\n",
      "Job ID: eval-G3mMMWZP6f5HabQifaGR1s\n",
      "Tasks: {'qa': TaskResult(metrics={'string-check': MetricResult(scores={'string-check': Score(value=0.26, stats=ScoreStats(count=50, max=None, mean=0.26, min=None, stddev=None, stderr=None, sum=13.0, sum_squared=None, variance=None))}), 'f1': MetricResult(scores={'f1_score': Score(value=0.4581904761904763, stats=ScoreStats(count=50, max=None, mean=0.4581904761904763, min=None, stddev=None, stderr=None, sum=22.909523809523815, sum_squared=None, variance=None))})})}\n",
      "Groups: {}\n"
     ]
    }
   ],
   "source": [
    "results = nemo_client.evaluation.jobs.results(base_eval_job_id)\n",
    "\n",
    "# Access the results\n",
    "print(f\"Result ID: {results.id}\")\n",
    "print(f\"Job ID: {results.job}\")\n",
    "print(f\"Tasks: {results.tasks}\")\n",
    "print(f\"Groups: {results.groups}\")"
   ]
  },
  {
   "cell_type": "markdown",
   "id": "93b47f7d-1420-4d80-a90a-d84d6b5afcc2",
   "metadata": {},
   "source": [
    "## Get the zip results"
   ]
  },
  {
   "cell_type": "code",
   "execution_count": 92,
   "id": "8aca37b4-f297-4236-b228-ba5710ed1272",
   "metadata": {},
   "outputs": [],
   "source": [
    "# Download evaluation results\n",
    "results_zip = nemo_client.evaluation.jobs.download_results(base_eval_job_id)\n",
    "\n",
    "# Save to file\n",
    "results_zip.write_to_file('result.zip')"
   ]
  },
  {
   "cell_type": "code",
   "execution_count": 93,
   "id": "e0a7b9d4-5ea1-48b4-b55c-42b4709bb79a",
   "metadata": {
    "scrolled": true
   },
   "outputs": [
    {
     "name": "stdout",
     "output_type": "stream",
     "text": [
      "Archive:  result.zip\n",
      " extracting: result/job.json         \n",
      " extracting: result/results.json     \n",
      " extracting: result/evaluation_results.json  \n",
      " extracting: result/.gitattributes   \n",
      " extracting: result/eval-g3mmmwzp6f5habqifagr1s.log  \n",
      " extracting: result/.cache/huggingface/.gitignore  \n",
      " extracting: result/.cache/huggingface/download/eval-g3mmmwzp6f5habqifagr1s.log.metadata  \n",
      " extracting: result/.cache/huggingface/download/job.json.lock  \n",
      " extracting: result/.cache/huggingface/download/.gitattributes.metadata  \n",
      " extracting: result/.cache/huggingface/download/eval-g3mmmwzp6f5habqifagr1s.log.lock  \n",
      " extracting: result/.cache/huggingface/download/evaluation_results.json.metadata  \n",
      " extracting: result/.cache/huggingface/download/job.json.metadata  \n",
      " extracting: result/.cache/huggingface/download/evaluation_results.json.lock  \n",
      " extracting: result/.cache/huggingface/download/results.json.lock  \n",
      " extracting: result/.cache/huggingface/download/.gitattributes.lock  \n",
      " extracting: result/.cache/huggingface/download/results.json.metadata  \n"
     ]
    }
   ],
   "source": [
    "!unzip result.zip -d result"
   ]
  },
  {
   "cell_type": "code",
   "execution_count": null,
   "id": "c8f81945-56a8-4e0e-bae6-a31b4e4f58e4",
   "metadata": {},
   "outputs": [],
   "source": []
  }
 ],
 "metadata": {
  "kernelspec": {
   "display_name": "Python 3 (ipykernel)",
   "language": "python",
   "name": "python3"
  },
  "language_info": {
   "codemirror_mode": {
    "name": "ipython",
    "version": 3
   },
   "file_extension": ".py",
   "mimetype": "text/x-python",
   "name": "python",
   "nbconvert_exporter": "python",
   "pygments_lexer": "ipython3",
   "version": "3.10.12"
  }
 },
 "nbformat": 4,
 "nbformat_minor": 5
}
