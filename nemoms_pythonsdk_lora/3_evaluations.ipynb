{
 "cells": [
  {
   "cell_type": "code",
   "execution_count": 22,
   "id": "157eda3d",
   "metadata": {},
   "outputs": [],
   "source": [
    "import json\n",
    "from time import sleep, time\n",
    "from nemo_microservices import NeMoMicroservices"
   ]
  },
  {
   "cell_type": "code",
   "execution_count": 2,
   "id": "a07eeec0",
   "metadata": {},
   "outputs": [],
   "source": [
    "from config import *\n",
    "\n",
    "# Initialize NeMo Microservices SDK client\n",
    "nemo_client = NeMoMicroservices(\n",
    "    base_url=NEMO_URL,\n",
    "    inference_base_url=NIM_URL,\n",
    ")"
   ]
  },
  {
   "cell_type": "code",
   "execution_count": 3,
   "id": "753beab0",
   "metadata": {},
   "outputs": [
    {
     "name": "stdout",
     "output_type": "stream",
     "text": [
      "Data Store endpoint: http://data-store.test\n",
      "Entity Store, Customizer, Evaluator endpoint: http://nemo.test\n",
      "NIM endpoint: http://nim.test\n",
      "Namespace: lora-tutorial-ns\n",
      "Base Model: meta/llama-3.2-1b-instruct\n"
     ]
    }
   ],
   "source": [
    "print(f\"Data Store endpoint: {NDS_URL}\")\n",
    "print(f\"Entity Store, Customizer, Evaluator endpoint: {NEMO_URL}\")\n",
    "print(f\"NIM endpoint: {NIM_URL}\")\n",
    "print(f\"Namespace: {NMS_NAMESPACE}\")\n",
    "print(f\"Base Model: {BASE_MODEL}\")"
   ]
  },
  {
   "cell_type": "code",
   "execution_count": 6,
   "id": "3a3bb340",
   "metadata": {},
   "outputs": [],
   "source": [
    "CUSTOMIZED_MODEL = \"lora-tutorial-ns/llama-3.2-1b-xlam-run1@v4\" # paste from the previous notebook "
   ]
  },
  {
   "cell_type": "code",
   "execution_count": 7,
   "id": "93e297fe",
   "metadata": {},
   "outputs": [],
   "source": [
    " # Check if the custom LoRA model is hosted by NVIDIA NIM\n",
    "models = nemo_client.inference.models.list()\n",
    "model_names = [model.id for model in models.data]\n",
    "\n",
    "assert CUSTOMIZED_MODEL in model_names, \\\n",
    "    f\"Model {CUSTOMIZED_MODEL} not found\""
   ]
  },
  {
   "cell_type": "code",
   "execution_count": 8,
   "id": "9a2ea478",
   "metadata": {},
   "outputs": [
    {
     "name": "stdout",
     "output_type": "stream",
     "text": [
      "Files URL: hf://datasets/lora-tutorial-ns/news-lora-dataset\n"
     ]
    }
   ],
   "source": [
    "# Sanity check to validate dataset\n",
    "dataset = nemo_client.datasets.retrieve(namespace=NMS_NAMESPACE, dataset_name=DATASET_NAME)\n",
    "print(\"Files URL:\", dataset.files_url)"
   ]
  },
  {
   "cell_type": "code",
   "execution_count": 45,
   "id": "7b590aa3",
   "metadata": {},
   "outputs": [],
   "source": [
    "simple_label_eval_config ={\n",
    "  \"type\": \"custom\",\n",
    "  \"params\": {\n",
    "    \"parallelism\": 8\n",
    "  },\n",
    "  \"tasks\": {\n",
    "    \"qa\": {\n",
    "      \"type\": \"chat-completion\",\n",
    "      \"params\": {\n",
    "        \"template\": {\n",
    "          \"messages\": [\n",
    "            {\"role\": \"user\", \"content\": \"{{item.prompt}}\"},\n",
    "          ],\n",
    "          \"max_tokens\": 20,\n",
    "          \"temperature\": 0.7,\n",
    "          \"top_p\": 0.9\n",
    "        }\n",
    "      },\n",
    "      \"metrics\": {\n",
    "        \"bleu\": {\n",
    "          \"type\": \"bleu\",\n",
    "          \"params\": {\n",
    "            \"references\": [\"{{item.completion | trim}}\"]\n",
    "          }\n",
    "        },\n",
    "        \"rouge\": {\n",
    "          \"type\": \"rouge\",\n",
    "          \"params\": {\n",
    "            \"ground_truth\": \"{{item.completion | trim}}\"\n",
    "          }\n",
    "        },\n",
    "        \"string-check\": {\n",
    "          \"type\": \"string-check\",\n",
    "          \"params\": {\n",
    "            \"check\": [\n",
    "              \"{{item.reference_answer | trim}}\",\n",
    "              \"equals\",\n",
    "              \"{{output_text | trim}}\"\n",
    "            ]\n",
    "          }\n",
    "        }\n",
    "      },\n",
    "      \"dataset\": {\n",
    "            \"files_url\": f\"hf://datasets/{NMS_NAMESPACE}/{DATASET_NAME}/testing/test.jsonl\",\n",
    "            \"limit\": 50      \n",
    "      }\n",
    "    }\n",
    "  }\n",
    "}"
   ]
  },
  {
   "cell_type": "code",
   "execution_count": 46,
   "id": "91fecf85",
   "metadata": {},
   "outputs": [
    {
     "name": "stdout",
     "output_type": "stream",
     "text": [
      "Created evaluation job: eval-EpzvifaVZbE6p4G4grYiUi\n"
     ]
    },
    {
     "data": {
      "text/plain": [
       "EvaluationJob(config=EvaluationConfig(type='custom', id='eval-config-VtRHws4tXKCKFSdJBzmDGA', created_at=datetime.datetime(2025, 8, 13, 18, 58, 46, 728839), custom_fields={}, description=None, groups=None, name='eval-config-VtRHws4tXKCKFSdJBzmDGA', namespace='default', ownership=None, params=EvaluationParams(extra=None, limit_samples=None, max_retries=None, max_tokens=None, parallelism=8, request_timeout=None, stop=None, temperature=None, top_p=None), project=None, schema_version='1.0', tasks={'qa': TaskConfig(type='chat-completion', dataset=DatasetEv(files_url='hf://datasets/lora-tutorial-ns/news-lora-dataset/testing/test.jsonl', id='dataset-St5jA5XNNKcbj6Hy5SEQVw', created_at=datetime.datetime(2025, 8, 13, 18, 58, 46, 728909), custom_fields={}, description=None, format=None, hf_endpoint=None, limit=50, name='dataset-St5jA5XNNKcbj6Hy5SEQVw', namespace='default', ownership=None, project=None, schema_version='1.0', split=None, type_prefix=None, updated_at=datetime.datetime(2025, 8, 13, 18, 58, 46, 728909), version_id='main', version_tags=[]), metrics={'bleu': MetricConfig(type='bleu', params={'references': ['{{item.completion | trim}}']}), 'rouge': MetricConfig(type='rouge', params={'ground_truth': '{{item.completion | trim}}'}), 'string-check': MetricConfig(type='string-check', params={'check': ['{{item.reference_answer | trim}}', 'equals', '{{output_text | trim}}']})}, params={'template': {'messages': [{'role': 'user', 'content': '{{item.prompt}}'}], 'max_tokens': 20, 'temperature': 0.7, 'top_p': 0.9}})}, type_prefix='eval-config', updated_at=datetime.datetime(2025, 8, 13, 18, 58, 46, 728841)), target=EvaluationTarget(type='model', id='eval-target-6ec8Rk2VPSTpMgqCKDW4Kz', cached_outputs=None, created_at=datetime.datetime(2025, 8, 13, 18, 58, 46, 728954), custom_fields={}, dataset=None, description=None, model='meta/llama-3.2-1b-instruct', name='eval-target-6ec8Rk2VPSTpMgqCKDW4Kz', namespace='default', ownership=None, project=None, rag=None, retriever=None, rows=None, schema_version='1.0', type_prefix='eval-target', updated_at=datetime.datetime(2025, 8, 13, 18, 58, 46, 728954)), id='eval-EpzvifaVZbE6p4G4grYiUi', created_at=datetime.datetime(2025, 8, 13, 18, 58, 46, 729243), custom_fields={}, description=None, namespace='default', output_files_url=None, ownership=None, project=None, result=None, status='created', status_details=EvaluationStatusDetails(message=None, progress=None, samples_processed=None, task_status={}), updated_at=datetime.datetime(2025, 8, 13, 18, 58, 46, 729243))"
      ]
     },
     "execution_count": 46,
     "metadata": {},
     "output_type": "execute_result"
    }
   ],
   "source": [
    "# Create evaluation job for the base model\n",
    "eval_job = nemo_client.evaluation.jobs.create(\n",
    "    config=simple_label_eval_config,\n",
    "    target={\"type\": \"model\", \"model\": BASE_MODEL}\n",
    ")\n",
    "\n",
    "base_eval_job_id = eval_job.id\n",
    "print(f\"Created evaluation job: {base_eval_job_id}\")\n",
    "eval_job"
   ]
  },
  {
   "cell_type": "code",
   "execution_count": 47,
   "id": "2f54d529",
   "metadata": {},
   "outputs": [
    {
     "name": "stdout",
     "output_type": "stream",
     "text": [
      "Job Status: {\n",
      "  \"config\": {\n",
      "    \"type\": \"custom\",\n",
      "    \"id\": \"eval-config-VtRHws4tXKCKFSdJBzmDGA\",\n",
      "    \"created_at\": \"2025-08-13 18:58:46.728839\",\n",
      "    \"custom_fields\": {},\n",
      "    \"description\": null,\n",
      "    \"groups\": null,\n",
      "    \"name\": \"eval-config-VtRHws4tXKCKFSdJBzmDGA\",\n",
      "    \"namespace\": \"default\",\n",
      "    \"ownership\": null,\n",
      "    \"params\": {\n",
      "      \"extra\": null,\n",
      "      \"limit_samples\": null,\n",
      "      \"max_retries\": null,\n",
      "      \"max_tokens\": null,\n",
      "      \"parallelism\": 8,\n",
      "      \"request_timeout\": null,\n",
      "      \"stop\": null,\n",
      "      \"temperature\": null,\n",
      "      \"top_p\": null\n",
      "    },\n",
      "    \"project\": null,\n",
      "    \"schema_version\": \"1.0\",\n",
      "    \"tasks\": {\n",
      "      \"qa\": {\n",
      "        \"type\": \"chat-completion\",\n",
      "        \"dataset\": {\n",
      "          \"files_url\": \"hf://datasets/lora-tutorial-ns/news-lora-dataset/testing/test.jsonl\",\n",
      "          \"id\": \"dataset-St5jA5XNNKcbj6Hy5SEQVw\",\n",
      "          \"created_at\": \"2025-08-13 18:58:46.728909\",\n",
      "          \"custom_fields\": {},\n",
      "          \"description\": null,\n",
      "          \"format\": null,\n",
      "          \"hf_endpoint\": null,\n",
      "          \"limit\": 50,\n",
      "          \"name\": \"dataset-St5jA5XNNKcbj6Hy5SEQVw\",\n",
      "          \"namespace\": \"default\",\n",
      "          \"ownership\": null,\n",
      "          \"project\": null,\n",
      "          \"schema_version\": \"1.0\",\n",
      "          \"split\": null,\n",
      "          \"type_prefix\": null,\n",
      "          \"updated_at\": \"2025-08-13 18:58:46.728909\",\n",
      "          \"version_id\": \"main\",\n",
      "          \"version_tags\": []\n",
      "        },\n",
      "        \"metrics\": {\n",
      "          \"bleu\": {\n",
      "            \"type\": \"bleu\",\n",
      "            \"params\": {\n",
      "              \"references\": [\n",
      "                \"{{item.completion | trim}}\"\n",
      "              ]\n",
      "            }\n",
      "          },\n",
      "          \"rouge\": {\n",
      "            \"type\": \"rouge\",\n",
      "            \"params\": {\n",
      "              \"ground_truth\": \"{{item.completion | trim}}\"\n",
      "            }\n",
      "          },\n",
      "          \"string-check\": {\n",
      "            \"type\": \"string-check\",\n",
      "            \"params\": {\n",
      "              \"check\": [\n",
      "                \"{{item.reference_answer | trim}}\",\n",
      "                \"equals\",\n",
      "                \"{{output_text | trim}}\"\n",
      "              ]\n",
      "            }\n",
      "          }\n",
      "        },\n",
      "        \"params\": {\n",
      "          \"template\": {\n",
      "            \"messages\": [\n",
      "              {\n",
      "                \"role\": \"user\",\n",
      "                \"content\": \"{{item.prompt}}\"\n",
      "              }\n",
      "            ],\n",
      "            \"max_tokens\": 20,\n",
      "            \"temperature\": 0.7,\n",
      "            \"top_p\": 0.9\n",
      "          }\n",
      "        }\n",
      "      }\n",
      "    },\n",
      "    \"type_prefix\": \"eval-config\",\n",
      "    \"updated_at\": \"2025-08-13 18:58:46.728841\"\n",
      "  },\n",
      "  \"target\": {\n",
      "    \"type\": \"model\",\n",
      "    \"id\": \"eval-target-6ec8Rk2VPSTpMgqCKDW4Kz\",\n",
      "    \"cached_outputs\": null,\n",
      "    \"created_at\": \"2025-08-13 18:58:46.728954\",\n",
      "    \"custom_fields\": {},\n",
      "    \"dataset\": null,\n",
      "    \"description\": null,\n",
      "    \"model\": \"meta/llama-3.2-1b-instruct\",\n",
      "    \"name\": \"eval-target-6ec8Rk2VPSTpMgqCKDW4Kz\",\n",
      "    \"namespace\": \"default\",\n",
      "    \"ownership\": null,\n",
      "    \"project\": null,\n",
      "    \"rag\": null,\n",
      "    \"retriever\": null,\n",
      "    \"rows\": null,\n",
      "    \"schema_version\": \"1.0\",\n",
      "    \"type_prefix\": \"eval-target\",\n",
      "    \"updated_at\": \"2025-08-13 18:58:46.728954\"\n",
      "  },\n",
      "  \"id\": \"eval-EpzvifaVZbE6p4G4grYiUi\",\n",
      "  \"created_at\": \"2025-08-13 18:58:46.729243\",\n",
      "  \"custom_fields\": {},\n",
      "  \"description\": null,\n",
      "  \"namespace\": \"default\",\n",
      "  \"output_files_url\": null,\n",
      "  \"ownership\": null,\n",
      "  \"project\": null,\n",
      "  \"result\": \"evaluation_result-Gqyby1gdbVTKDvrS3WKKRD\",\n",
      "  \"status\": \"running\",\n",
      "  \"status_details\": {\n",
      "    \"message\": null,\n",
      "    \"progress\": 0.0,\n",
      "    \"samples_processed\": null,\n",
      "    \"task_status\": {\n",
      "      \"qa\": \"failed\"\n",
      "    }\n",
      "  },\n",
      "  \"updated_at\": \"2025-08-13 18:58:47.023735\"\n",
      "}\n"
     ]
    }
   ],
   "source": [
    "job_status = nemo_client.evaluation.jobs.retrieve(job_id=base_eval_job_id)\n",
    "print(\"Job Status:\", json.dumps(job_status.model_dump(), indent=2, default=str))"
   ]
  },
  {
   "cell_type": "code",
   "execution_count": 48,
   "id": "7c47d28b",
   "metadata": {},
   "outputs": [],
   "source": [
    "def wait_eval_job(nemo_client, job_id: str, polling_interval: int = 10, timeout: int = 6000):\n",
    "    \"\"\"Helper for waiting an eval job.\"\"\"\n",
    "    start_time = time()\n",
    "    job = nemo_client.evaluation.jobs.retrieve(job_id=job_id)\n",
    "    status = job.status\n",
    "    print(status)\n",
    "    while (status in [\"pending\", \"created\", \"running\"]):\n",
    "        # Check for timeout\n",
    "        if time() - start_time > timeout:\n",
    "            raise RuntimeError(f\"Took more than {timeout} seconds.\")\n",
    "\n",
    "        # Sleep before polling again\n",
    "        sleep(polling_interval)\n",
    "\n",
    "        # Fetch updated status and progress\n",
    "        job = nemo_client.evaluation.jobs.retrieve(job_id=job_id)\n",
    "        status = job.status\n",
    "\n",
    "        # Progress details (only fetch if status is \"running\")\n",
    "        progress = 0\n",
    "        if status == \"running\" and job.status_details:\n",
    "            progress = job.status_details.progress or 0\n",
    "        elif status == \"completed\":\n",
    "            progress = 100\n",
    "\n",
    "        print(f\"Job status: {status} after {time() - start_time:.2f} seconds. Progress: {progress}%\")\n",
    "\n",
    "    return job"
   ]
  },
  {
   "cell_type": "code",
   "execution_count": 49,
   "id": "762064aa",
   "metadata": {},
   "outputs": [
    {
     "name": "stdout",
     "output_type": "stream",
     "text": [
      "failed\n"
     ]
    }
   ],
   "source": [
    "# Poll\n",
    "job = wait_eval_job(nemo_client, base_eval_job_id, polling_interval=5, timeout=600)"
   ]
  },
  {
   "cell_type": "code",
   "execution_count": null,
   "id": "6ac5ee3e",
   "metadata": {},
   "outputs": [],
   "source": []
  }
 ],
 "metadata": {
  "kernelspec": {
   "display_name": "venv",
   "language": "python",
   "name": "python3"
  },
  "language_info": {
   "codemirror_mode": {
    "name": "ipython",
    "version": 3
   },
   "file_extension": ".py",
   "mimetype": "text/x-python",
   "name": "python",
   "nbconvert_exporter": "python",
   "pygments_lexer": "ipython3",
   "version": "3.10.12"
  }
 },
 "nbformat": 4,
 "nbformat_minor": 5
}
