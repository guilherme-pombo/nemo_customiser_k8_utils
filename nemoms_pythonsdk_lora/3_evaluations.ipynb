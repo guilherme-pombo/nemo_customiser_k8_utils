{
 "cells": [
  {
   "cell_type": "code",
   "execution_count": 44,
   "id": "157eda3d",
   "metadata": {},
   "outputs": [],
   "source": [
    "import json\n",
    "from time import sleep, time\n",
    "from nemo_microservices import NeMoMicroservices"
   ]
  },
  {
   "cell_type": "code",
   "execution_count": 45,
   "id": "a07eeec0",
   "metadata": {},
   "outputs": [],
   "source": [
    "from config import *\n",
    "\n",
    "# Initialize NeMo Microservices SDK client\n",
    "nemo_client = NeMoMicroservices(\n",
    "    base_url=NEMO_URL,\n",
    "    inference_base_url=NIM_URL,\n",
    ")"
   ]
  },
  {
   "cell_type": "code",
   "execution_count": 46,
   "id": "753beab0",
   "metadata": {},
   "outputs": [
    {
     "name": "stdout",
     "output_type": "stream",
     "text": [
      "Data Store endpoint: http://data-store.test\n",
      "Entity Store, Customizer, Evaluator endpoint: http://nemo.test\n",
      "NIM endpoint: http://nim.test\n",
      "Namespace: lora-tutorial-ns\n",
      "Base Model: meta/llama-3.2-1b-instruct\n"
     ]
    }
   ],
   "source": [
    "print(f\"Data Store endpoint: {NDS_URL}\")\n",
    "print(f\"Entity Store, Customizer, Evaluator endpoint: {NEMO_URL}\")\n",
    "print(f\"NIM endpoint: {NIM_URL}\")\n",
    "print(f\"Namespace: {NMS_NAMESPACE}\")\n",
    "print(f\"Base Model: {BASE_MODEL}\")"
   ]
  },
  {
   "cell_type": "code",
   "execution_count": 47,
   "id": "3a3bb340",
   "metadata": {},
   "outputs": [],
   "source": [
    "# CUSTOMIZED_MODEL = \"lora-tutorial-ns/llama-3.2-1b-xlam-run1@v4\" # paste from the previous notebook \n",
    "CUSTOMIZED_MODEL = 'lora-tutorial-ns/llama-3.2-1b-custom@v4'\n",
    "DATASET_NAME = 'news-lora-dataset-train-50k'  # paste from the previous notebook"
   ]
  },
  {
   "cell_type": "code",
   "execution_count": 48,
   "id": "93e297fe",
   "metadata": {},
   "outputs": [],
   "source": [
    " # Check if the custom LoRA model is hosted by NVIDIA NIM\n",
    "models = nemo_client.inference.models.list()\n",
    "model_names = [model.id for model in models.data]\n",
    "\n",
    "assert CUSTOMIZED_MODEL in model_names, \\\n",
    "    f\"Model {CUSTOMIZED_MODEL} not found\""
   ]
  },
  {
   "cell_type": "code",
   "execution_count": 49,
   "id": "eb58d785",
   "metadata": {},
   "outputs": [
    {
     "data": {
      "text/plain": [
       "['meta/llama-3.2-1b-instruct',\n",
       " 'lora-tutorial-ns/llama-3.2-1b-custom@v1',\n",
       " 'lora-tutorial-ns/llama-3.2-1b-custom@v2',\n",
       " 'lora-tutorial-ns/llama-3.2-1b-custom@v3',\n",
       " 'lora-tutorial-ns/llama-3.2-1b-custom@v4',\n",
       " 'meta/llama-3.1-8b-instruct']"
      ]
     },
     "execution_count": 49,
     "metadata": {},
     "output_type": "execute_result"
    }
   ],
   "source": [
    "model_names"
   ]
  },
  {
   "cell_type": "code",
   "execution_count": 50,
   "id": "9a2ea478",
   "metadata": {},
   "outputs": [
    {
     "name": "stdout",
     "output_type": "stream",
     "text": [
      "Files URL: hf://datasets/lora-tutorial-ns/news-lora-dataset-train-50k\n"
     ]
    }
   ],
   "source": [
    "# Sanity check to validate dataset\n",
    "dataset = nemo_client.datasets.retrieve(namespace=NMS_NAMESPACE, dataset_name=f\"{DATASET_NAME}\")\n",
    "print(\"Files URL:\", dataset.files_url)"
   ]
  },
  {
   "cell_type": "code",
   "execution_count": 51,
   "id": "88b0af38-4c3e-47ea-bfb0-a240324dc7f5",
   "metadata": {},
   "outputs": [],
   "source": [
    "config = {\n",
    "  \"type\": \"custom\",\n",
    "  \"params\": {\n",
    "    \"parallelism\": 8\n",
    "  },\n",
    "  \"tasks\": {\n",
    "      \"qa\": {\n",
    "          \"type\": \"chat-completion\",\n",
    "          \"params\": {\n",
    "              \"template\": {\n",
    "                  \"messages\": [\n",
    "                      {\"role\": \"user\", \"content\": \"{{item.prompt}}\"},\n",
    "                  ],\n",
    "                  \"max_tokens\": 20,\n",
    "                  \"temperature\": 0.7,\n",
    "                  \"top_p\": 0.9\n",
    "              }\n",
    "          },\n",
    "          \"metrics\": {\n",
    "              \"f1\": {\n",
    "                  \"type\": \"f1\",\n",
    "                  \"params\": {\"ground_truth\": \"{{item.completion | trim}}\"}\n",
    "              },\n",
    "              \"string-check\": {\n",
    "                  \"type\": \"string-check\",\n",
    "                  \"params\": {\n",
    "                      \"check\": [\"{{item.completion | trim}}\", \"equals\", \"{{output_text | trim}}\"]\n",
    "                  }\n",
    "              }\n",
    "          },\n",
    "      \"dataset\": {\n",
    "        \"files_url\": f\"hf://datasets/{NMS_NAMESPACE}/{DATASET_NAME}/testing\",\n",
    "      }\n",
    "    }\n",
    "  }\n",
    "}"
   ]
  },
  {
   "cell_type": "code",
   "execution_count": 52,
   "id": "91fecf85",
   "metadata": {},
   "outputs": [
    {
     "name": "stdout",
     "output_type": "stream",
     "text": [
      "Created evaluation job: eval-Tjh13MZuxUKNQRTMTgDuTF\n"
     ]
    },
    {
     "data": {
      "text/plain": [
       "EvaluationJob(config=EvaluationConfig(type='custom', id='eval-config-2bvBXfWse6DrL7k4ntVrXM', created_at=datetime.datetime(2025, 9, 3, 17, 18, 32, 153435), custom_fields={}, description=None, groups=None, name='eval-config-2bvBXfWse6DrL7k4ntVrXM', namespace='default', ownership=None, params=EvaluationParams(extra=None, limit_samples=None, max_retries=None, max_tokens=None, parallelism=8, request_timeout=None, stop=None, temperature=None, top_p=None), project=None, schema_version='1.0', tasks={'qa': TaskConfig(type='chat-completion', dataset=DatasetEv(files_url='hf://datasets/lora-tutorial-ns/news-lora-dataset-train-50k/testing', id='dataset-6YBPLjUxxrpj14MscD9et5', created_at=datetime.datetime(2025, 9, 3, 17, 18, 32, 153482), custom_fields={}, description=None, format=None, hf_endpoint=None, limit=None, name='dataset-6YBPLjUxxrpj14MscD9et5', namespace='default', ownership=None, project=None, schema_version='1.0', split=None, type_prefix=None, updated_at=datetime.datetime(2025, 9, 3, 17, 18, 32, 153482), version_id='main', version_tags=[]), metrics={'f1': MetricConfig(type='f1', params={'ground_truth': '{{item.completion | trim}}'}), 'string-check': MetricConfig(type='string-check', params={'check': ['{{item.completion | trim}}', 'equals', '{{output_text | trim}}']})}, params={'template': {'messages': [{'role': 'user', 'content': '{{item.prompt}}'}], 'max_tokens': 20, 'temperature': 0.7, 'top_p': 0.9}})}, type_prefix='eval-config', updated_at=datetime.datetime(2025, 9, 3, 17, 18, 32, 153437)), target=EvaluationTarget(type='model', id='eval-target-LtCbDm5ub9KCU1YiVJXDY5', cached_outputs=None, created_at=datetime.datetime(2025, 9, 3, 17, 18, 32, 153520), custom_fields={}, dataset=None, description=None, model='lora-tutorial-ns/llama-3.2-1b-custom@v4', name='eval-target-LtCbDm5ub9KCU1YiVJXDY5', namespace='default', ownership=None, project=None, rag=None, retriever=None, rows=None, schema_version='1.0', type_prefix='eval-target', updated_at=datetime.datetime(2025, 9, 3, 17, 18, 32, 153520)), id='eval-Tjh13MZuxUKNQRTMTgDuTF', created_at=datetime.datetime(2025, 9, 3, 17, 18, 32, 153758), custom_fields={}, description=None, namespace='default', output_files_url=None, ownership=None, project=None, result=None, status='created', status_details=EvaluationStatusDetails(message=None, progress=None, samples_processed=None, task_status={}), updated_at=datetime.datetime(2025, 9, 3, 17, 18, 32, 153759))"
      ]
     },
     "execution_count": 52,
     "metadata": {},
     "output_type": "execute_result"
    }
   ],
   "source": [
    "# Create evaluation job for the base model\n",
    "eval_job = nemo_client.evaluation.jobs.create(\n",
    "    config=config,\n",
    "    target={\"type\": \"model\", \"model\": CUSTOMIZED_MODEL}\n",
    ")\n",
    "\n",
    "base_eval_job_id = eval_job.id\n",
    "print(f\"Created evaluation job: {base_eval_job_id}\")\n",
    "eval_job"
   ]
  },
  {
   "cell_type": "code",
   "execution_count": 53,
   "id": "2f54d529",
   "metadata": {},
   "outputs": [
    {
     "name": "stdout",
     "output_type": "stream",
     "text": [
      "Job Status: {\n",
      "  \"config\": {\n",
      "    \"type\": \"custom\",\n",
      "    \"id\": \"eval-config-2bvBXfWse6DrL7k4ntVrXM\",\n",
      "    \"created_at\": \"2025-09-03 17:18:32.153435\",\n",
      "    \"custom_fields\": {},\n",
      "    \"description\": null,\n",
      "    \"groups\": null,\n",
      "    \"name\": \"eval-config-2bvBXfWse6DrL7k4ntVrXM\",\n",
      "    \"namespace\": \"default\",\n",
      "    \"ownership\": null,\n",
      "    \"params\": {\n",
      "      \"extra\": null,\n",
      "      \"limit_samples\": null,\n",
      "      \"max_retries\": null,\n",
      "      \"max_tokens\": null,\n",
      "      \"parallelism\": 8,\n",
      "      \"request_timeout\": null,\n",
      "      \"stop\": null,\n",
      "      \"temperature\": null,\n",
      "      \"top_p\": null\n",
      "    },\n",
      "    \"project\": null,\n",
      "    \"schema_version\": \"1.0\",\n",
      "    \"tasks\": {\n",
      "      \"qa\": {\n",
      "        \"type\": \"chat-completion\",\n",
      "        \"dataset\": {\n",
      "          \"files_url\": \"hf://datasets/lora-tutorial-ns/news-lora-dataset-train-50k/testing\",\n",
      "          \"id\": \"dataset-6YBPLjUxxrpj14MscD9et5\",\n",
      "          \"created_at\": \"2025-09-03 17:18:32.153482\",\n",
      "          \"custom_fields\": {},\n",
      "          \"description\": null,\n",
      "          \"format\": null,\n",
      "          \"hf_endpoint\": null,\n",
      "          \"limit\": null,\n",
      "          \"name\": \"dataset-6YBPLjUxxrpj14MscD9et5\",\n",
      "          \"namespace\": \"default\",\n",
      "          \"ownership\": null,\n",
      "          \"project\": null,\n",
      "          \"schema_version\": \"1.0\",\n",
      "          \"split\": null,\n",
      "          \"type_prefix\": null,\n",
      "          \"updated_at\": \"2025-09-03 17:18:32.153482\",\n",
      "          \"version_id\": \"main\",\n",
      "          \"version_tags\": []\n",
      "        },\n",
      "        \"metrics\": {\n",
      "          \"f1\": {\n",
      "            \"type\": \"f1\",\n",
      "            \"params\": {\n",
      "              \"ground_truth\": \"{{item.completion | trim}}\"\n",
      "            }\n",
      "          },\n",
      "          \"string-check\": {\n",
      "            \"type\": \"string-check\",\n",
      "            \"params\": {\n",
      "              \"check\": [\n",
      "                \"{{item.completion | trim}}\",\n",
      "                \"equals\",\n",
      "                \"{{output_text | trim}}\"\n",
      "              ]\n",
      "            }\n",
      "          }\n",
      "        },\n",
      "        \"params\": {\n",
      "          \"template\": {\n",
      "            \"messages\": [\n",
      "              {\n",
      "                \"role\": \"user\",\n",
      "                \"content\": \"{{item.prompt}}\"\n",
      "              }\n",
      "            ],\n",
      "            \"max_tokens\": 20,\n",
      "            \"temperature\": 0.7,\n",
      "            \"top_p\": 0.9\n",
      "          }\n",
      "        }\n",
      "      }\n",
      "    },\n",
      "    \"type_prefix\": \"eval-config\",\n",
      "    \"updated_at\": \"2025-09-03 17:18:32.153437\"\n",
      "  },\n",
      "  \"target\": {\n",
      "    \"type\": \"model\",\n",
      "    \"id\": \"eval-target-LtCbDm5ub9KCU1YiVJXDY5\",\n",
      "    \"cached_outputs\": null,\n",
      "    \"created_at\": \"2025-09-03 17:18:32.153520\",\n",
      "    \"custom_fields\": {},\n",
      "    \"dataset\": null,\n",
      "    \"description\": null,\n",
      "    \"model\": \"lora-tutorial-ns/llama-3.2-1b-custom@v4\",\n",
      "    \"name\": \"eval-target-LtCbDm5ub9KCU1YiVJXDY5\",\n",
      "    \"namespace\": \"default\",\n",
      "    \"ownership\": null,\n",
      "    \"project\": null,\n",
      "    \"rag\": null,\n",
      "    \"retriever\": null,\n",
      "    \"rows\": null,\n",
      "    \"schema_version\": \"1.0\",\n",
      "    \"type_prefix\": \"eval-target\",\n",
      "    \"updated_at\": \"2025-09-03 17:18:32.153520\"\n",
      "  },\n",
      "  \"id\": \"eval-Tjh13MZuxUKNQRTMTgDuTF\",\n",
      "  \"created_at\": \"2025-09-03 17:18:32.153758\",\n",
      "  \"custom_fields\": {},\n",
      "  \"description\": null,\n",
      "  \"namespace\": \"default\",\n",
      "  \"output_files_url\": null,\n",
      "  \"ownership\": null,\n",
      "  \"project\": null,\n",
      "  \"result\": \"evaluation_result-AMTr7P5BBo3qkz5PqXq2Gh\",\n",
      "  \"status\": \"running\",\n",
      "  \"status_details\": {\n",
      "    \"message\": null,\n",
      "    \"progress\": 0.0,\n",
      "    \"samples_processed\": null,\n",
      "    \"task_status\": {\n",
      "      \"qa\": \"running\"\n",
      "    }\n",
      "  },\n",
      "  \"updated_at\": \"2025-09-03 17:18:32.440102\"\n",
      "}\n"
     ]
    }
   ],
   "source": [
    "job_status = nemo_client.evaluation.jobs.retrieve(job_id=base_eval_job_id)\n",
    "print(\"Job Status:\", json.dumps(job_status.model_dump(), indent=2, default=str))"
   ]
  },
  {
   "cell_type": "code",
   "execution_count": 54,
   "id": "7c47d28b",
   "metadata": {},
   "outputs": [],
   "source": [
    "def wait_eval_job(nemo_client, job_id: str, polling_interval: int = 10, timeout: int = 6000):\n",
    "    \"\"\"Helper for waiting an eval job.\"\"\"\n",
    "    start_time = time()\n",
    "    job = nemo_client.evaluation.jobs.retrieve(job_id=job_id)\n",
    "    status = job.status\n",
    "    print(status)\n",
    "    while (status in [\"pending\", \"created\", \"running\"]):\n",
    "        # Check for timeout\n",
    "        if time() - start_time > timeout:\n",
    "            raise RuntimeError(f\"Took more than {timeout} seconds.\")\n",
    "\n",
    "        # Sleep before polling again\n",
    "        sleep(polling_interval)\n",
    "\n",
    "        # Fetch updated status and progress\n",
    "        job = nemo_client.evaluation.jobs.retrieve(job_id=job_id)\n",
    "        status = job.status\n",
    "\n",
    "        # Progress details (only fetch if status is \"running\")\n",
    "        progress = 0\n",
    "        if status == \"running\" and job.status_details:\n",
    "            progress = job.status_details.progress or 0\n",
    "        elif status == \"completed\":\n",
    "            progress = 100\n",
    "\n",
    "        print(f\"Job status: {status} after {time() - start_time:.2f} seconds. Progress: {progress}%\")\n",
    "\n",
    "    return job"
   ]
  },
  {
   "cell_type": "code",
   "execution_count": 55,
   "id": "762064aa",
   "metadata": {},
   "outputs": [
    {
     "name": "stdout",
     "output_type": "stream",
     "text": [
      "running\n",
      "Job status: running after 25.92 seconds. Progress: 1.0040000000000007%\n",
      "Job status: running after 51.03 seconds. Progress: 2.1259999999999875%\n",
      "Job status: running after 76.17 seconds. Progress: 3.1619999999998734%\n",
      "Job status: running after 101.29 seconds. Progress: 4.249999999999754%\n",
      "Job status: running after 126.35 seconds. Progress: 5.28599999999964%\n",
      "Job status: running after 152.79 seconds. Progress: 6.355999999999522%\n",
      "Job status: running after 177.86 seconds. Progress: 7.475999999999399%\n",
      "Job status: running after 202.96 seconds. Progress: 8.483999999999503%\n",
      "Job status: running after 228.04 seconds. Progress: 9.597999999999875%\n",
      "Job status: running after 254.07 seconds. Progress: 10.646000000000225%\n",
      "Job status: running after 279.43 seconds. Progress: 11.766000000000599%\n",
      "Job status: running after 306.63 seconds. Progress: 12.88000000000097%\n",
      "Job status: running after 331.76 seconds. Progress: 13.95400000000133%\n",
      "Job status: running after 357.28 seconds. Progress: 14.648000000001561%\n",
      "Job status: running after 382.41 seconds. Progress: 15.890000000001976%\n",
      "Job status: running after 407.53 seconds. Progress: 17.152000000001372%\n",
      "Job status: running after 432.58 seconds. Progress: 18.51000000000062%\n",
      "Job status: running after 457.64 seconds. Progress: 19.747999999999934%\n",
      "Job status: running after 482.86 seconds. Progress: 21.075999999999198%\n",
      "Job status: running after 507.89 seconds. Progress: 22.31399999999851%\n",
      "Job status: running after 532.94 seconds. Progress: 23.585999999997806%\n",
      "Job status: running after 557.98 seconds. Progress: 24.757999999997157%\n",
      "Job status: running after 583.03 seconds. Progress: 26.077999999996425%\n",
      "Job status: running after 609.20 seconds. Progress: 27.34799999999572%\n",
      "Job status: running after 634.23 seconds. Progress: 28.627999999995012%\n",
      "Job status: running after 659.26 seconds. Progress: 30.21999999999413%\n",
      "Job status: running after 684.32 seconds. Progress: 32.93599999999429%\n",
      "Job status: running after 709.42 seconds. Progress: 35.6439999999976%\n",
      "Job status: running after 734.56 seconds. Progress: 38.53600000000113%\n",
      "Job status: running after 760.03 seconds. Progress: 41.2900000000045%\n",
      "Job status: running after 785.06 seconds. Progress: 44.0720000000079%\n",
      "Job status: running after 810.14 seconds. Progress: 46.92200000001138%\n",
      "Job status: running after 835.24 seconds. Progress: 49.69600000001477%\n",
      "Job status: running after 860.37 seconds. Progress: 52.37800000001805%\n",
      "Job status: running after 885.54 seconds. Progress: 55.248000000021555%\n",
      "Job status: running after 910.59 seconds. Progress: 57.916000000024816%\n",
      "Job status: running after 935.61 seconds. Progress: 60.65800000002817%\n",
      "Job status: running after 960.68 seconds. Progress: 63.496000000031636%\n",
      "Job status: running after 985.72 seconds. Progress: 66.13400000002727%\n",
      "Job status: running after 1010.76 seconds. Progress: 68.75200000002117%\n",
      "Job status: running after 1035.80 seconds. Progress: 71.56000000001463%\n",
      "Job status: running after 1060.83 seconds. Progress: 74.42000000000796%\n",
      "Job status: running after 1085.90 seconds. Progress: 77.24800000000137%\n",
      "Job status: running after 1111.01 seconds. Progress: 79.92799999999512%\n",
      "Job status: running after 1136.05 seconds. Progress: 82.67199999998873%\n",
      "Job status: running after 1161.13 seconds. Progress: 85.4739999999822%\n",
      "Job status: running after 1186.19 seconds. Progress: 88.09399999997609%\n",
      "Job status: running after 1211.22 seconds. Progress: 90.80999999996976%\n",
      "Job status: running after 1236.25 seconds. Progress: 93.5399999999634%\n",
      "Job status: running after 1261.28 seconds. Progress: 96.287999999957%\n",
      "Job status: running after 1286.31 seconds. Progress: 98.92799999995084%\n",
      "Job status: completed after 1311.35 seconds. Progress: 100%\n"
     ]
    }
   ],
   "source": [
    "# Poll\n",
    "job = wait_eval_job(nemo_client, base_eval_job_id, polling_interval=25, timeout=6000)"
   ]
  },
  {
   "cell_type": "code",
   "execution_count": 56,
   "id": "6ac5ee3e",
   "metadata": {
    "scrolled": true
   },
   "outputs": [
    {
     "name": "stdout",
     "output_type": "stream",
     "text": [
      "Job Status: {\n",
      "  \"config\": {\n",
      "    \"type\": \"custom\",\n",
      "    \"id\": \"eval-config-2bvBXfWse6DrL7k4ntVrXM\",\n",
      "    \"created_at\": \"2025-09-03 17:18:32.153435\",\n",
      "    \"custom_fields\": {},\n",
      "    \"description\": null,\n",
      "    \"groups\": null,\n",
      "    \"name\": \"eval-config-2bvBXfWse6DrL7k4ntVrXM\",\n",
      "    \"namespace\": \"default\",\n",
      "    \"ownership\": null,\n",
      "    \"params\": {\n",
      "      \"extra\": null,\n",
      "      \"limit_samples\": null,\n",
      "      \"max_retries\": null,\n",
      "      \"max_tokens\": null,\n",
      "      \"parallelism\": 8,\n",
      "      \"request_timeout\": null,\n",
      "      \"stop\": null,\n",
      "      \"temperature\": null,\n",
      "      \"top_p\": null\n",
      "    },\n",
      "    \"project\": null,\n",
      "    \"schema_version\": \"1.0\",\n",
      "    \"tasks\": {\n",
      "      \"qa\": {\n",
      "        \"type\": \"chat-completion\",\n",
      "        \"dataset\": {\n",
      "          \"files_url\": \"hf://datasets/lora-tutorial-ns/news-lora-dataset-train-50k/testing\",\n",
      "          \"id\": \"dataset-6YBPLjUxxrpj14MscD9et5\",\n",
      "          \"created_at\": \"2025-09-03 17:18:32.153482\",\n",
      "          \"custom_fields\": {},\n",
      "          \"description\": null,\n",
      "          \"format\": null,\n",
      "          \"hf_endpoint\": null,\n",
      "          \"limit\": null,\n",
      "          \"name\": \"dataset-6YBPLjUxxrpj14MscD9et5\",\n",
      "          \"namespace\": \"default\",\n",
      "          \"ownership\": null,\n",
      "          \"project\": null,\n",
      "          \"schema_version\": \"1.0\",\n",
      "          \"split\": null,\n",
      "          \"type_prefix\": null,\n",
      "          \"updated_at\": \"2025-09-03 17:18:32.153482\",\n",
      "          \"version_id\": \"main\",\n",
      "          \"version_tags\": []\n",
      "        },\n",
      "        \"metrics\": {\n",
      "          \"f1\": {\n",
      "            \"type\": \"f1\",\n",
      "            \"params\": {\n",
      "              \"ground_truth\": \"{{item.completion | trim}}\"\n",
      "            }\n",
      "          },\n",
      "          \"string-check\": {\n",
      "            \"type\": \"string-check\",\n",
      "            \"params\": {\n",
      "              \"check\": [\n",
      "                \"{{item.completion | trim}}\",\n",
      "                \"equals\",\n",
      "                \"{{output_text | trim}}\"\n",
      "              ]\n",
      "            }\n",
      "          }\n",
      "        },\n",
      "        \"params\": {\n",
      "          \"template\": {\n",
      "            \"messages\": [\n",
      "              {\n",
      "                \"role\": \"user\",\n",
      "                \"content\": \"{{item.prompt}}\"\n",
      "              }\n",
      "            ],\n",
      "            \"max_tokens\": 20,\n",
      "            \"temperature\": 0.7,\n",
      "            \"top_p\": 0.9\n",
      "          }\n",
      "        }\n",
      "      }\n",
      "    },\n",
      "    \"type_prefix\": \"eval-config\",\n",
      "    \"updated_at\": \"2025-09-03 17:18:32.153437\"\n",
      "  },\n",
      "  \"target\": {\n",
      "    \"type\": \"model\",\n",
      "    \"id\": \"eval-target-LtCbDm5ub9KCU1YiVJXDY5\",\n",
      "    \"cached_outputs\": null,\n",
      "    \"created_at\": \"2025-09-03 17:18:32.153520\",\n",
      "    \"custom_fields\": {},\n",
      "    \"dataset\": null,\n",
      "    \"description\": null,\n",
      "    \"model\": \"lora-tutorial-ns/llama-3.2-1b-custom@v4\",\n",
      "    \"name\": \"eval-target-LtCbDm5ub9KCU1YiVJXDY5\",\n",
      "    \"namespace\": \"default\",\n",
      "    \"ownership\": null,\n",
      "    \"project\": null,\n",
      "    \"rag\": null,\n",
      "    \"retriever\": null,\n",
      "    \"rows\": null,\n",
      "    \"schema_version\": \"1.0\",\n",
      "    \"type_prefix\": \"eval-target\",\n",
      "    \"updated_at\": \"2025-09-03 17:18:32.153520\"\n",
      "  },\n",
      "  \"id\": \"eval-Tjh13MZuxUKNQRTMTgDuTF\",\n",
      "  \"created_at\": \"2025-09-03 17:18:32.153758\",\n",
      "  \"custom_fields\": {},\n",
      "  \"description\": null,\n",
      "  \"namespace\": \"default\",\n",
      "  \"output_files_url\": \"hf://datasets/evaluation-results/eval-Tjh13MZuxUKNQRTMTgDuTF\",\n",
      "  \"ownership\": null,\n",
      "  \"project\": null,\n",
      "  \"result\": \"evaluation_result-AMTr7P5BBo3qkz5PqXq2Gh\",\n",
      "  \"status\": \"completed\",\n",
      "  \"status_details\": {\n",
      "    \"message\": \"Job completed successfully.\",\n",
      "    \"progress\": 100.0,\n",
      "    \"samples_processed\": 50000,\n",
      "    \"task_status\": {\n",
      "      \"qa\": \"completed\"\n",
      "    }\n",
      "  },\n",
      "  \"updated_at\": \"2025-09-03 17:40:24.459226\"\n",
      "}\n"
     ]
    }
   ],
   "source": [
    "job_status = nemo_client.evaluation.jobs.retrieve(job_id=base_eval_job_id)\n",
    "print(\"Job Status:\", json.dumps(job_status.model_dump(), indent=2, default=str))"
   ]
  },
  {
   "cell_type": "markdown",
   "id": "70079eb4-fb36-49a8-88fc-833cc1baad59",
   "metadata": {},
   "source": [
    "## Get the JSON results"
   ]
  },
  {
   "cell_type": "code",
   "execution_count": 57,
   "id": "c610134a-708c-42ed-800d-bc916442a8ce",
   "metadata": {},
   "outputs": [
    {
     "name": "stdout",
     "output_type": "stream",
     "text": [
      "Result ID: evaluation_result-AMTr7P5BBo3qkz5PqXq2Gh\n",
      "Job ID: eval-Tjh13MZuxUKNQRTMTgDuTF\n",
      "Tasks: {'qa': TaskResult(metrics={'f1': MetricResult(scores={'f1_score': Score(value=0.9237920000000003, stats=ScoreStats(count=50000, max=None, mean=0.9237920000000003, min=None, stddev=None, stderr=None, sum=46189.60000000001, sum_squared=None, variance=None))}), 'string-check': MetricResult(scores={'string-check': Score(value=0.92068, stats=ScoreStats(count=50000, max=None, mean=0.92068, min=None, stddev=None, stderr=None, sum=46034.0, sum_squared=None, variance=None))})})}\n",
      "Groups: {}\n"
     ]
    }
   ],
   "source": [
    "results = nemo_client.evaluation.jobs.results(base_eval_job_id)\n",
    "\n",
    "# Access the results\n",
    "print(f\"Result ID: {results.id}\")\n",
    "print(f\"Job ID: {results.job}\")\n",
    "print(f\"Tasks: {results.tasks}\")\n",
    "print(f\"Groups: {results.groups}\")"
   ]
  },
  {
   "cell_type": "markdown",
   "id": "93b47f7d-1420-4d80-a90a-d84d6b5afcc2",
   "metadata": {},
   "source": [
    "## Get the zip results"
   ]
  },
  {
   "cell_type": "code",
   "execution_count": 16,
   "id": "8aca37b4-f297-4236-b228-ba5710ed1272",
   "metadata": {},
   "outputs": [],
   "source": [
    "# Download evaluation results\n",
    "results_zip = nemo_client.evaluation.jobs.download_results(base_eval_job_id)\n",
    "\n",
    "# Save to file\n",
    "results_zip.write_to_file('result.zip')"
   ]
  },
  {
   "cell_type": "code",
   "execution_count": 17,
   "id": "e0a7b9d4-5ea1-48b4-b55c-42b4709bb79a",
   "metadata": {
    "scrolled": true
   },
   "outputs": [
    {
     "name": "stdout",
     "output_type": "stream",
     "text": [
      "Archive:  result.zip\n",
      " extracting: result/job.json         \n",
      " extracting: result/eval-xvey9bteywybybc2eptqq8.log  "
     ]
    },
    {
     "name": "stdout",
     "output_type": "stream",
     "text": [
      "\n",
      " extracting: result/results.json     \n",
      " extracting: result/evaluation_results.json  \n",
      " extracting: result/.gitattributes   \n",
      " extracting: result/.cache/huggingface/.gitignore  \n",
      " extracting: result/.cache/huggingface/download/job.json.lock  \n",
      " extracting: result/.cache/huggingface/download/.gitattributes.metadata  \n",
      " extracting: result/.cache/huggingface/download/eval-xvey9bteywybybc2eptqq8.log.metadata  \n",
      " extracting: result/.cache/huggingface/download/evaluation_results.json.metadata  \n",
      " extracting: result/.cache/huggingface/download/job.json.metadata  \n",
      " extracting: result/.cache/huggingface/download/evaluation_results.json.lock  \n",
      " extracting: result/.cache/huggingface/download/results.json.lock  \n",
      " extracting: result/.cache/huggingface/download/.gitattributes.lock  \n",
      " extracting: result/.cache/huggingface/download/eval-xvey9bteywybybc2eptqq8.log.lock  \n",
      " extracting: result/.cache/huggingface/download/results.json.metadata  \n"
     ]
    }
   ],
   "source": [
    "!unzip result.zip -d result"
   ]
  },
  {
   "cell_type": "code",
   "execution_count": null,
   "id": "c8f81945-56a8-4e0e-bae6-a31b4e4f58e4",
   "metadata": {},
   "outputs": [],
   "source": []
  }
 ],
 "metadata": {
  "kernelspec": {
   "display_name": "venv",
   "language": "python",
   "name": "python3"
  },
  "language_info": {
   "codemirror_mode": {
    "name": "ipython",
    "version": 3
   },
   "file_extension": ".py",
   "mimetype": "text/x-python",
   "name": "python",
   "nbconvert_exporter": "python",
   "pygments_lexer": "ipython3",
   "version": "3.10.12"
  }
 },
 "nbformat": 4,
 "nbformat_minor": 5
}
