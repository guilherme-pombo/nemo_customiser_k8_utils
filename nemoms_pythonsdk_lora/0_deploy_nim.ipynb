{
 "cells": [
  {
   "cell_type": "code",
   "execution_count": 1,
   "id": "b8933aff",
   "metadata": {},
   "outputs": [],
   "source": [
    "from nemo_microservices import NeMoMicroservices"
   ]
  },
  {
   "cell_type": "code",
   "execution_count": 2,
   "id": "434b67f9",
   "metadata": {},
   "outputs": [],
   "source": [
    "client = NeMoMicroservices(\n",
    "   base_url=\"http://nemo.test\",\n",
    "   inference_base_url=\"http://nim.test\",\n",
    ")"
   ]
  },
  {
   "cell_type": "code",
   "execution_count": 3,
   "id": "7b17fe9e",
   "metadata": {},
   "outputs": [
    {
     "name": "stdout",
     "output_type": "stream",
     "text": [
      "ModelDeployment(config=DeploymentConfig(created_at=None, custom_fields=None, description=None, external_endpoint=None, model='meta/llama-3.2-1b-instruct', name=None, namespace=None, nim_deployment=NIMDeploymentConfig(gpu=1, image_name='nvcr.io/nim/meta/llama-3.2-1b-instruct', image_tag='1.8', additional_envs={'NIM_GUIDED_DECODING_BACKEND': 'fast_outlines'}, disable_lora_support=None, namespace=None), ownership=None, project=None, schema_version=None, updated_at=None), status_details=ModelDeploymentStatusDetails(status='pending', description='Model deployment created'), url='', async_enabled=False, created_at=datetime.datetime(2025, 8, 13, 13, 23, 38, 799040, tzinfo=TzInfo(UTC)), custom_fields=None, deployed=False, description=None, models=None, name='llama-3.2-1b-instructt', namespace='meta', ownership=None, project=None, schema_version=None, updated_at=None)\n"
     ]
    }
   ],
   "source": [
    "from nemo_microservices import NeMoMicroservices\n",
    "\n",
    "client = NeMoMicroservices(\n",
    "   base_url=\"http://nemo.test\",\n",
    "   inference_base_url=\"http://nim.test\",\n",
    ")\n",
    "\n",
    "deployment = client.deployment.model_deployments.create(\n",
    "    name=\"llama-3.2-1b-instructt\",\n",
    "    namespace=\"meta\",\n",
    "    config={\n",
    "        \"model\": \"meta/llama-3.2-1b-instruct\",\n",
    "        \"nim_deployment\": {\n",
    "            \"image_name\": \"nvcr.io/nim/meta/llama-3.2-1b-instruct\",\n",
    "            \"image_tag\": \"1.8\",\n",
    "            \"pvc_size\": \"25Gi\",\n",
    "            \"gpu\": 1,\n",
    "            \"additional_envs\": {\n",
    "                \"NIM_GUIDED_DECODING_BACKEND\": \"fast_outlines\"\n",
    "            }\n",
    "        }\n",
    "    }\n",
    ")\n",
    "print(deployment)"
   ]
  },
  {
   "cell_type": "markdown",
   "id": "0a73c3db",
   "metadata": {},
   "source": [
    "ModelDeployment(config=DeploymentConfig(created_at=None, custom_fields=None, description=None, external_endpoint=None, model='meta/llama-3.2-1b-instruct', name=None, namespace=None, nim_deployment=NIMDeploymentConfig(gpu=1, image_name='nvcr.io/nim/meta/llama-3.2-1b-instruct', image_tag='1.8', additional_envs={'NIM_GUIDED_DECODING_BACKEND': 'fast_outlines'}, disable_lora_support=None, namespace=None), ownership=None, project=None, schema_version=None, updated_at=None), status_details=ModelDeploymentStatusDetails(status='pending', description='Model deployment created'), url='', async_enabled=False, created_at=datetime.datetime(2025, 8, 13, 13, 23, 38, 799040, tzinfo=TzInfo(UTC)), custom_fields=None, deployed=False, description=None, models=None, name='llama-3.2-1b-instructt', namespace='meta', ownership=None, project=None, schema_version=None, updated_at=None)"
   ]
  },
  {
   "cell_type": "code",
   "execution_count": 16,
   "id": "6467ac81",
   "metadata": {},
   "outputs": [],
   "source": [
    "try:\n",
    "    client.deployment.model_deployments.retrieve(namespace=\"meta\",deployment_name=\"llama-3.2-1b-instruct-deployment\")\n",
    "except Exception as e:\n",
    "    if \"404\" in str(e):\n",
    "        print(f\"Deployment not found: {e}\")\n",
    "    else:\n",
    "        print(f\"Error retrieving deployment: {e}\")"
   ]
  },
  {
   "cell_type": "code",
   "execution_count": null,
   "id": "c6195eb3",
   "metadata": {},
   "outputs": [],
   "source": []
  },
  {
   "cell_type": "code",
   "execution_count": 10,
   "id": "73987e95",
   "metadata": {},
   "outputs": [
    {
     "name": "stderr",
     "output_type": "stream",
     "text": [
      "/tmp/ipykernel_348408/3265155808.py:1: PydanticDeprecatedSince20: The `dict` method is deprecated; use `model_dump` instead. Deprecated in Pydantic V2.0 to be removed in V3.0. See Pydantic V2 Migration Guide at https://errors.pydantic.dev/2.11/migration/\n",
      "  client.deployment.model_deployments.list(filter=[\"namespace\",\"meta\"]).dict()\n"
     ]
    },
    {
     "data": {
      "text/plain": [
       "{'object': 'list',\n",
       " 'data': [{'config': {'created_at': None,\n",
       "    'custom_fields': None,\n",
       "    'description': None,\n",
       "    'external_endpoint': None,\n",
       "    'model': 'meta/llama-3.1-8b-instruct',\n",
       "    'name': None,\n",
       "    'namespace': None,\n",
       "    'nim_deployment': {'gpu': 1,\n",
       "     'image_name': 'nvcr.io/nim/meta/llama-3.1-8b-instruct',\n",
       "     'image_tag': '1.8.3',\n",
       "     'additional_envs': {'NIM_GUIDED_DECODING_BACKEND': 'fast_outlines'},\n",
       "     'disable_lora_support': False,\n",
       "     'namespace': None},\n",
       "    'ownership': None,\n",
       "    'project': None,\n",
       "    'schema_version': None,\n",
       "    'updated_at': None},\n",
       "   'status_details': {'status': 'ready',\n",
       "    'description': 'deployment \"modeldeployment-meta-llama-3-1-8b-instruct\" successfully rolled out\\n'},\n",
       "   'url': '',\n",
       "   'async_enabled': False,\n",
       "   'created_at': datetime.datetime(2025, 9, 3, 0, 52, 49, 674395, tzinfo=TzInfo(UTC)),\n",
       "   'custom_fields': None,\n",
       "   'deployed': True,\n",
       "   'description': None,\n",
       "   'models': None,\n",
       "   'name': 'llama-3.1-8b-instruct',\n",
       "   'namespace': 'meta',\n",
       "   'ownership': None,\n",
       "   'project': None,\n",
       "   'schema_version': None,\n",
       "   'updated_at': None},\n",
       "  {'config': {'created_at': None,\n",
       "    'custom_fields': None,\n",
       "    'description': None,\n",
       "    'external_endpoint': None,\n",
       "    'model': 'meta/llama-3.2-1b-instruct',\n",
       "    'name': None,\n",
       "    'namespace': None,\n",
       "    'nim_deployment': {'gpu': 1,\n",
       "     'image_name': 'nvcr.io/nim/meta/llama-3.2-1b-instruct',\n",
       "     'image_tag': '1.8',\n",
       "     'additional_envs': {'NIM_GUIDED_DECODING_BACKEND': 'fast_outlines'},\n",
       "     'disable_lora_support': False,\n",
       "     'namespace': None},\n",
       "    'ownership': None,\n",
       "    'project': None,\n",
       "    'schema_version': None,\n",
       "    'updated_at': None},\n",
       "   'status_details': {'status': 'ready',\n",
       "    'description': 'deployment \"modeldeployment-meta-llama-3-2-1b-instruct-deployment\" successfully rolled out\\n'},\n",
       "   'url': '',\n",
       "   'async_enabled': False,\n",
       "   'created_at': datetime.datetime(2025, 9, 3, 2, 15, 52, 788391, tzinfo=TzInfo(UTC)),\n",
       "   'custom_fields': None,\n",
       "   'deployed': True,\n",
       "   'description': None,\n",
       "   'models': None,\n",
       "   'name': 'llama-3.2-1b-instruct-deployment',\n",
       "   'namespace': 'meta',\n",
       "   'ownership': None,\n",
       "   'project': None,\n",
       "   'schema_version': None,\n",
       "   'updated_at': None}],\n",
       " 'sort': None,\n",
       " 'pagination': {'current_page_size': 2,\n",
       "  'page': 1,\n",
       "  'page_size': 10,\n",
       "  'total_pages': 1,\n",
       "  'total_results': 2},\n",
       " 'filter': {}}"
      ]
     },
     "execution_count": 10,
     "metadata": {},
     "output_type": "execute_result"
    }
   ],
   "source": [
    "client.deployment.model_deployments.list(filter=[\"namespace\",\"meta\"]).dict()"
   ]
  },
  {
   "cell_type": "code",
   "execution_count": null,
   "id": "c702dc1e",
   "metadata": {},
   "outputs": [],
   "source": []
  }
 ],
 "metadata": {
  "kernelspec": {
   "display_name": "venv",
   "language": "python",
   "name": "python3"
  },
  "language_info": {
   "codemirror_mode": {
    "name": "ipython",
    "version": 3
   },
   "file_extension": ".py",
   "mimetype": "text/x-python",
   "name": "python",
   "nbconvert_exporter": "python",
   "pygments_lexer": "ipython3",
   "version": "3.10.12"
  }
 },
 "nbformat": 4,
 "nbformat_minor": 5
}
