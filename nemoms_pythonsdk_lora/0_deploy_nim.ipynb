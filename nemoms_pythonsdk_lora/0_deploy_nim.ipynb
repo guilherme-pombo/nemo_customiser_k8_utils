{
 "cells": [
  {
   "cell_type": "code",
   "execution_count": 1,
   "id": "b8933aff",
   "metadata": {},
   "outputs": [],
   "source": [
    "from nemo_microservices import NeMoMicroservices"
   ]
  },
  {
   "cell_type": "code",
   "execution_count": 2,
   "id": "434b67f9",
   "metadata": {},
   "outputs": [],
   "source": [
    "client = NeMoMicroservices(\n",
    "   base_url=\"http://nemo.test\",\n",
    "   inference_base_url=\"http://nim.test\",\n",
    ")"
   ]
  },
  {
   "cell_type": "code",
   "execution_count": 3,
   "id": "7b17fe9e",
   "metadata": {},
   "outputs": [
    {
     "name": "stdout",
     "output_type": "stream",
     "text": [
      "ModelDeployment(config=DeploymentConfig(created_at=None, custom_fields=None, description=None, external_endpoint=None, model='meta/llama-3.2-1b-instruct', name=None, namespace=None, nim_deployment=NIMDeploymentConfig(gpu=1, image_name='nvcr.io/nim/meta/llama-3.2-1b-instruct', image_tag='1.8', additional_envs={'NIM_GUIDED_DECODING_BACKEND': 'fast_outlines'}, disable_lora_support=None, namespace=None), ownership=None, project=None, schema_version=None, updated_at=None), status_details=ModelDeploymentStatusDetails(status='pending', description='Model deployment created'), url='', async_enabled=False, created_at=datetime.datetime(2025, 8, 13, 13, 23, 38, 799040, tzinfo=TzInfo(UTC)), custom_fields=None, deployed=False, description=None, models=None, name='llama-3.2-1b-instructt', namespace='meta', ownership=None, project=None, schema_version=None, updated_at=None)\n"
     ]
    }
   ],
   "source": [
    "from nemo_microservices import NeMoMicroservices\n",
    "\n",
    "client = NeMoMicroservices(\n",
    "   base_url=\"http://nemo.test\",\n",
    "   inference_base_url=\"http://nim.test\",\n",
    ")\n",
    "\n",
    "deployment = client.deployment.model_deployments.create(\n",
    "    name=\"llama-3.2-1b-instructt\",\n",
    "    namespace=\"meta\",\n",
    "    config={\n",
    "        \"model\": \"meta/llama-3.2-1b-instruct\",\n",
    "        \"nim_deployment\": {\n",
    "            \"image_name\": \"nvcr.io/nim/meta/llama-3.2-1b-instruct\",\n",
    "            \"image_tag\": \"1.8\",\n",
    "            \"pvc_size\": \"25Gi\",\n",
    "            \"gpu\": 1,\n",
    "            \"additional_envs\": {\n",
    "                \"NIM_GUIDED_DECODING_BACKEND\": \"fast_outlines\"\n",
    "            }\n",
    "        }\n",
    "    }\n",
    ")\n",
    "print(deployment)"
   ]
  },
  {
   "cell_type": "markdown",
   "id": "0a73c3db",
   "metadata": {},
   "source": [
    "ModelDeployment(config=DeploymentConfig(created_at=None, custom_fields=None, description=None, external_endpoint=None, model='meta/llama-3.2-1b-instruct', name=None, namespace=None, nim_deployment=NIMDeploymentConfig(gpu=1, image_name='nvcr.io/nim/meta/llama-3.2-1b-instruct', image_tag='1.8', additional_envs={'NIM_GUIDED_DECODING_BACKEND': 'fast_outlines'}, disable_lora_support=None, namespace=None), ownership=None, project=None, schema_version=None, updated_at=None), status_details=ModelDeploymentStatusDetails(status='pending', description='Model deployment created'), url='', async_enabled=False, created_at=datetime.datetime(2025, 8, 13, 13, 23, 38, 799040, tzinfo=TzInfo(UTC)), custom_fields=None, deployed=False, description=None, models=None, name='llama-3.2-1b-instructt', namespace='meta', ownership=None, project=None, schema_version=None, updated_at=None)"
   ]
  }
 ],
 "metadata": {
  "kernelspec": {
   "display_name": "venv",
   "language": "python",
   "name": "python3"
  },
  "language_info": {
   "codemirror_mode": {
    "name": "ipython",
    "version": 3
   },
   "file_extension": ".py",
   "mimetype": "text/x-python",
   "name": "python",
   "nbconvert_exporter": "python",
   "pygments_lexer": "ipython3",
   "version": "3.10.12"
  }
 },
 "nbformat": 4,
 "nbformat_minor": 5
}
